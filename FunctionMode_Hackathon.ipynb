{
 "cells": [
  {
   "cell_type": "markdown",
   "metadata": {},
   "source": [
    "# Preload libraries and functions\n",
    "First of all, let's import libraries that will be used in this example"
   ]
  },
  {
   "cell_type": "code",
   "execution_count": 1,
   "metadata": {
    "ExecuteTime": {
     "end_time": "2018-12-02T15:23:24.330250Z",
     "start_time": "2018-12-02T15:23:20.281639Z"
    }
   },
   "outputs": [],
   "source": [
    "import pandas as pd\n",
    "import numpy as np\n",
    "from sklearn import preprocessing as prep\n",
    "import time\n",
    "\n",
    "import matplotlib.pyplot as plt\n",
    "# import tensorflow as tf\n",
    "# from tensorflow import keras\n",
    "#matplot inline\n",
    "\n",
    "\n",
    "# np.set_printoptions(precision=8)"
   ]
  },
  {
   "cell_type": "markdown",
   "metadata": {},
   "source": [
    "Define functions and class"
   ]
  },
  {
   "cell_type": "code",
   "execution_count": 2,
   "metadata": {
    "ExecuteTime": {
     "end_time": "2018-12-02T15:23:52.048595Z",
     "start_time": "2018-12-02T15:23:52.041589Z"
    }
   },
   "outputs": [],
   "source": [
    "class MethodException(Exception):\n",
    "    def __init__(self, msg, value):\n",
    "        self.msg=msg\n",
    "        self.value=value\n",
    "        \n",
    "# def PolynomialFeature\n",
    "def polyFeature(X, degree=2):\n",
    "    poly = prep.PolynomialFeatures(degree,include_bias = False)\n",
    "    polyArray = poly.fit_transform(X)\n",
    "    return polyArray\n",
    "\n",
    "def normalizeFeature(X, method):\n",
    "    try:\n",
    "        if X.ndim == 1:  # Reshape the 1d array\n",
    "            X=np.reshape(X,(-1,1))\n",
    "        X_norm=np.ones((X.shape[0],X.shape[1]+1), dtype=np.float64)\n",
    "        if method == 'std':\n",
    "            X_norm[:,1:]=(X-X.mean(0))/X.std(0)     \n",
    "        elif method == 'range':\n",
    "            X_norm[:,1:]=(X-X.min(0))/(X.max(0)-X.min(0))\n",
    "        else:\n",
    "            raise MethodException('method should be either \\'std\\' or \\'range\\'(case sensitive)', method)\n",
    "    except MethodException as ex:\n",
    "        print(f'The error is: {ex.msg}, here the input method is \\'{ex.value}\\'')\n",
    "    else:\n",
    "        return X_norm\n",
    "\n",
    "# cost (error) function\n",
    "def computeCost(X, y, theta):\n",
    "    inner = np.power(((X @ theta.T) - y), 2)\n",
    "    return np.sum(inner) / (2 * len(X))\n",
    "\n",
    "# normal equation\n",
    "def normalEq(X,y):\n",
    "    theta=np.linalg.pinv(X.T@X)@X.T@y\n",
    "    return theta\n",
    "\n",
    "# normal equation with regulization\n",
    "def normalRegEq(X,y,beta):\n",
    "    L=np.eye(X.shape[1])\n",
    "    L[0,0]=0\n",
    "    theta=np.linalg.inv(X.T@X+beta*L)@X.T@y\n",
    "    return theta\n",
    "    \n",
    "# def linearRegCostFunction(X, y, theta, reg):\n"
   ]
  },
  {
   "cell_type": "markdown",
   "metadata": {},
   "source": [
    "# Data Import and Initialization"
   ]
  },
  {
   "cell_type": "code",
   "execution_count": 3,
   "metadata": {
    "ExecuteTime": {
     "end_time": "2018-12-02T15:23:58.108143Z",
     "start_time": "2018-12-02T15:23:57.589580Z"
    }
   },
   "outputs": [
    {
     "name": "stdout",
     "output_type": "stream",
     "text": [
      "         V    T  uncertainty             J\n",
      "0     0.00  100     0.001000  0.000000e+00\n",
      "1     0.05  100     0.001000  6.417136e-90\n",
      "2     0.10  100     0.001000  1.081096e-88\n",
      "3     0.15  100     0.001000  1.719633e-87\n",
      "4     0.20  100     0.001000  2.725747e-86\n",
      "5     0.25  100     0.001000  4.319561e-85\n",
      "6     0.30  100     0.001000  6.845225e-84\n",
      "7     0.35  100     0.001000  1.084764e-82\n",
      "8     0.40  100     0.001000  1.719028e-81\n",
      "9     0.45  100     0.001000  2.724148e-80\n",
      "10    0.50  100     0.001000  4.316963e-79\n",
      "11    0.55  100     0.001000  6.841100e-78\n",
      "12    0.60  100     0.001000  1.084111e-76\n",
      "13    0.65  100     0.001000  1.717992e-75\n",
      "14    0.70  100     0.001000  2.722506e-74\n",
      "15    0.75  100     0.001000  4.314361e-73\n",
      "16    0.80  100     0.001000  6.836977e-72\n",
      "17    0.85  100     0.001000  1.083457e-70\n",
      "18    0.90  100     0.001000  1.716957e-69\n",
      "19    0.95  100     0.001000  2.720865e-68\n",
      "20    1.00  100     0.001000  4.311761e-67\n",
      "21    1.05  100     0.001000  6.832857e-66\n",
      "22    1.10  100     0.001000  1.082804e-64\n",
      "23    1.15  100     0.001000  1.715922e-63\n",
      "24    1.20  100     0.001000  2.719226e-62\n",
      "25    1.25  100     0.001000  4.309163e-61\n",
      "26    1.30  100     0.001000  6.828740e-60\n",
      "27    1.35  100     0.001000  1.082152e-58\n",
      "28    1.40  100     0.001000  1.714888e-57\n",
      "29    1.45  100     0.001000  2.717587e-56\n",
      "...    ...  ...          ...           ...\n",
      "7864  0.85  690     0.000175  1.752349e-01\n",
      "7865  0.90  690     0.000262  2.616283e-01\n",
      "7866  0.95  690     0.000391  3.905678e-01\n",
      "7867  1.00  690     0.000583  5.830060e-01\n",
      "7868  1.05  690     0.000870  8.702142e-01\n",
      "7869  1.10  690     0.001299  1.298864e+00\n",
      "7870  1.15  690     0.001939  1.938610e+00\n",
      "7871  0.00  700     0.001000  0.000000e+00\n",
      "7872  0.05  700     0.001000  1.566676e-04\n",
      "7873  0.10  700     0.001000  3.891554e-04\n",
      "7874  0.15  700     0.001000  7.341572e-04\n",
      "7875  0.20  700     0.001000  1.246125e-03\n",
      "7876  0.25  700     0.001000  2.005862e-03\n",
      "7877  0.30  700     0.001000  3.133279e-03\n",
      "7878  0.35  700     0.001000  4.806317e-03\n",
      "7879  0.40  700     0.001000  7.289032e-03\n",
      "7880  0.45  700     0.001000  1.097327e-02\n",
      "7881  0.50  700     0.001000  1.644052e-02\n",
      "7882  0.55  700     0.001000  2.455368e-02\n",
      "7883  0.60  700     0.001000  3.659326e-02\n",
      "7884  0.65  700     0.001000  5.445946e-02\n",
      "7885  0.70  700     0.001000  8.097212e-02\n",
      "7886  0.75  700     0.000120  1.203158e-01\n",
      "7887  0.80  700     0.000179  1.787000e-01\n",
      "7888  0.85  700     0.000265  2.653396e-01\n",
      "7889  0.90  700     0.000394  3.939090e-01\n",
      "7890  0.95  700     0.000585  5.847005e-01\n",
      "7891  1.00  700     0.000868  8.678265e-01\n",
      "7892  1.05  700     0.001288  1.287973e+00\n",
      "7893  1.10  700     0.001911  1.911453e+00\n",
      "\n",
      "[7894 rows x 4 columns]\n"
     ]
    }
   ],
   "source": [
    "df = pd.read_excel('obs_data_w.xlsx', sheet_name=0) #sheet_name='Sheet1')\n",
    "print(df)"
   ]
  },
  {
   "cell_type": "markdown",
   "metadata": {},
   "source": [
    "## Train, cross validation and test data"
   ]
  },
  {
   "cell_type": "markdown",
   "metadata": {},
   "source": [
    "### Random Method 1: Sample function of df"
   ]
  },
  {
   "cell_type": "code",
   "execution_count": 4,
   "metadata": {
    "ExecuteTime": {
     "end_time": "2018-12-02T15:25:11.587102Z",
     "start_time": "2018-12-02T15:25:11.579068Z"
    }
   },
   "outputs": [
    {
     "name": "stdout",
     "output_type": "stream",
     "text": [
      "(1579, 4)\n"
     ]
    }
   ],
   "source": [
    "tcv=df.sample(frac=0.8) # random_state=200\n",
    "test=df.drop(tcv.index)\n",
    "test=test.sample(frac=1) # shuffle the rows\n",
    "\n",
    "print(test.shape)"
   ]
  },
  {
   "cell_type": "markdown",
   "metadata": {},
   "source": [
    "### Random Method 2: random array"
   ]
  },
  {
   "cell_type": "code",
   "execution_count": 5,
   "metadata": {
    "ExecuteTime": {
     "end_time": "2018-12-02T15:25:14.110365Z",
     "start_time": "2018-12-02T15:25:14.107366Z"
    }
   },
   "outputs": [],
   "source": [
    "# idx=np.arange(0,len(df))\n",
    "# np.random.shuffle(idx)\n",
    "# temp_split=math.floor(0.8*len(df))\n",
    "# #idx[0:20]\n",
    "# train=df.iloc[idx[0:temp_split],:]\n",
    "# test=df.iloc[idx[temp_split:],:] # Output all the elements after temp_split\n",
    "# print(train.shape)\n",
    "# print(test.shape)"
   ]
  },
  {
   "cell_type": "markdown",
   "metadata": {},
   "source": [
    "## Split the data into data and results"
   ]
  },
  {
   "cell_type": "code",
   "execution_count": 6,
   "metadata": {
    "ExecuteTime": {
     "end_time": "2018-12-02T15:25:16.476141Z",
     "start_time": "2018-12-02T15:25:16.470133Z"
    }
   },
   "outputs": [],
   "source": [
    "test_data=test.loc[:,['V','T']]\n",
    "test_unc=test.uncertainty.values\n",
    "test_J=test.J.values\n",
    "\n",
    "# print(test_data)\n",
    "# J=J.tolist()"
   ]
  },
  {
   "cell_type": "markdown",
   "metadata": {},
   "source": [
    "## Add the polynominal features"
   ]
  },
  {
   "cell_type": "code",
   "execution_count": 7,
   "metadata": {
    "ExecuteTime": {
     "end_time": "2018-12-02T15:25:22.539570Z",
     "start_time": "2018-12-02T15:25:22.532559Z"
    },
    "code_folding": [],
    "scrolled": true
   },
   "outputs": [
    {
     "name": "stdout",
     "output_type": "stream",
     "text": [
      "The polynominal degree is 2.\n",
      "\n",
      "test data = \n",
      " [[2.7000e+00 1.6600e+02 7.2900e+00 4.4820e+02 2.7556e+04]\n",
      " [7.5000e-01 1.9000e+02 5.6250e-01 1.4250e+02 3.6100e+04]\n",
      " [2.4500e+00 1.6200e+02 6.0025e+00 3.9690e+02 2.6244e+04]\n",
      " ...\n",
      " [2.1000e+00 1.6100e+02 4.4100e+00 3.3810e+02 2.5921e+04]\n",
      " [1.2500e+00 1.1400e+02 1.5625e+00 1.4250e+02 1.2996e+04]\n",
      " [1.1500e+00 1.4100e+02 1.3225e+00 1.6215e+02 1.9881e+04]] \n",
      "\n"
     ]
    }
   ],
   "source": [
    "degree = 2\n",
    "print(f'The polynominal degree is {degree}.\\n')\n",
    "\n",
    "\n",
    "# test data\n",
    "test_data_poly = polyFeature(test_data, degree)\n",
    "print('test data = \\n', test_data_poly, '\\n')\n"
   ]
  },
  {
   "cell_type": "markdown",
   "metadata": {},
   "source": [
    "## Data Normalization (Two methods, range or stand deviation)  \n",
    "\n",
    "(__We should try both__)"
   ]
  },
  {
   "cell_type": "code",
   "execution_count": 8,
   "metadata": {
    "ExecuteTime": {
     "end_time": "2018-12-02T15:25:25.603757Z",
     "start_time": "2018-12-02T15:25:25.597762Z"
    }
   },
   "outputs": [
    {
     "name": "stdout",
     "output_type": "stream",
     "text": [
      "normalized test_data = \n",
      " [[ 1.00000000e+00  9.44736475e-01 -1.81634430e-01  8.41424111e-01\n",
      "   8.98681111e-01 -2.64626929e-01]\n",
      " [ 1.00000000e+00 -8.99602127e-01 -8.15916347e-04 -8.85308369e-01\n",
      "  -7.67064193e-01 -1.78338031e-01]\n",
      " [ 1.00000000e+00  7.08282808e-01 -2.11770849e-01  5.10964347e-01\n",
      "   6.19149760e-01 -2.77877285e-01]\n",
      " ...\n",
      " [ 1.00000000e+00  3.77247674e-01 -2.19304954e-01  1.02220909e-01\n",
      "   2.98751252e-01 -2.81139377e-01]\n",
      " [ 1.00000000e+00 -4.26694793e-01 -5.73407877e-01 -6.28640590e-01\n",
      "  -7.67064193e-01 -4.11673554e-01]\n",
      " [ 1.00000000e+00 -5.21276260e-01 -3.69987049e-01 -6.90240857e-01\n",
      "  -6.59992243e-01 -3.42139487e-01]] \n",
      "\n"
     ]
    }
   ],
   "source": [
    "# Normalization method\n",
    "method='std'\n",
    "\n",
    "# test data\n",
    "test_data_norm=normalizeFeature(test_data_poly, method)\n",
    "print('normalized test_data = \\n', test_data_norm, '\\n')\n",
    "\n",
    "# test the normalize method is right\n",
    "# t=test_data_poly[:,1]\n",
    "# print(t.ndim)\n",
    "# t_norm=normalizeFeature(t,'std')\n",
    "# print(t_norm)"
   ]
  },
  {
   "cell_type": "markdown",
   "metadata": {},
   "source": [
    "# Model Training"
   ]
  },
  {
   "cell_type": "markdown",
   "metadata": {},
   "source": [
    "## Method 1: Normal Equation"
   ]
  },
  {
   "cell_type": "markdown",
   "metadata": {
    "heading_collapsed": true
   },
   "source": [
    "### Training without regulation"
   ]
  },
  {
   "cell_type": "code",
   "execution_count": null,
   "metadata": {
    "ExecuteTime": {
     "end_time": "2018-11-27T09:15:51.695899Z",
     "start_time": "2018-11-27T09:15:51.682319Z"
    },
    "hidden": true,
    "scrolled": true
   },
   "outputs": [],
   "source": [
    "theta=normalEq(train_data_norm, train_J) \n",
    "print(f'theta = {theta}')\n",
    "error_train=computeCost(train_data_norm, train_J, theta)\n",
    "error_test=computeCost(test_data_norm, test_J, theta)\n",
    "\n",
    "print('The training error is ', error_train)\n",
    "print('The test error is ', error_test)\n",
    "\n",
    "# OTHER PRINT EXPRESSION WITH FORMAT\n",
    "# print('The training error is %.10f'%error)\n",
    "# print('error = {:.10f}'.format(error))\n",
    "# print(f'error = {error}')\n",
    "# print('error= ', error)"
   ]
  },
  {
   "cell_type": "markdown",
   "metadata": {},
   "source": [
    "### Training with regulation"
   ]
  },
  {
   "cell_type": "code",
   "execution_count": 12,
   "metadata": {
    "ExecuteTime": {
     "end_time": "2018-12-02T15:26:17.999159Z",
     "start_time": "2018-12-02T15:26:17.989149Z"
    },
    "scrolled": false
   },
   "outputs": [],
   "source": [
    "featureSize=test_data_norm.shape[1]\n",
    "beta_range=np.geomspace(0.001,15, num = 50-1, endpoint = True, dtype=np.float64)\n",
    "beta_range=np.insert(beta_range,0,0) # insert a zero element in the first index\n",
    "theta_reg=np.zeros((beta_range.size, featureSize))\n",
    "error_train_reg=np.zeros(beta_range.size)\n",
    "error_cv_reg=np.zeros(beta_range.size)\n",
    "\n",
    "def train_model_loop(beta_num, epoch):\n",
    "    \n",
    "    # theta_reg_multismpl=np.zeros((epoch, featureSize))\n",
    "    error_train_reg_multismpl=np.zeros(epoch)\n",
    "    error_cv_reg_multismpl=np.zeros(epoch)\n",
    "    beta_array=np.zeros(beta_num)\n",
    "    for i in range(0,beta_num):\n",
    "        for index, beta in enumerate(beta_range):\n",
    "            for j in range(0,epoch,1):\n",
    "                \n",
    "                # print(f'Loop {i}-{index}-{j} is running...\\n')\n",
    "\n",
    "                # Split into train set and cv set\n",
    "                train=tcv.sample(frac=0.75, random_state = int((157*j+71*i)/3))\n",
    "                cv=tcv.drop(train.index)\n",
    "\n",
    "                train_data=train.loc[:,['V','T']]\n",
    "                train_unc=train.uncertainty.values\n",
    "                train_J=train.J.values\n",
    "\n",
    "                cv_data=cv.loc[:,['V','T']]\n",
    "                cv_unc=cv.uncertainty.values\n",
    "                cv_J=cv.J.values\n",
    "\n",
    "                # add polynominal features\n",
    "                train_data_poly = polyFeature(train_data, degree)\n",
    "                cv_data_poly = polyFeature(cv_data, degree)\n",
    "\n",
    "                # train data normalization\n",
    "                train_data_norm=normalizeFeature(train_data_poly, method)\n",
    "\n",
    "                # cross valiation data normalization\n",
    "                cv_data_norm=normalizeFeature(cv_data_poly, method)\n",
    "\n",
    "                theta_reg_multismpl=normalRegEq(train_data_norm, train_J, beta)\n",
    "                error_train_reg_multismpl[j]=computeCost(train_data_norm, train_J, theta_reg_multismpl)\n",
    "                error_cv_reg_multismpl[j]=computeCost(cv_data_norm, cv_J, theta_reg_multismpl)\n",
    "                \n",
    "                # print(f'Loop {i}-{index}-{j} ended.\\n')\n",
    "\n",
    "            error_train_reg[index] = error_train_reg_multismpl.sum(0)/epoch\n",
    "            error_cv_reg[index] = error_cv_reg_multismpl.sum(0)/epoch\n",
    "        idx=error_cv_reg.argmin()\n",
    "        beta_array[i] = beta_range[idx]\n",
    "    return beta_array\n",
    "        \n",
    "\n"
   ]
  },
  {
   "cell_type": "code",
   "execution_count": 13,
   "metadata": {
    "ExecuteTime": {
     "end_time": "2018-12-02T15:28:08.063899Z",
     "start_time": "2018-12-02T15:26:21.177274Z"
    }
   },
   "outputs": [
    {
     "name": "stdout",
     "output_type": "stream",
     "text": [
      "The time cost is 105.9431357383728s\n",
      "[0.74312649 1.65603818 0.40743378 0.6082202  0.74312649]\n",
      "The best value of BETA is  0.7431264863354169\n"
     ]
    },
    {
     "data": {
      "image/png": "[encoded data removed]",
      "text/plain": [
       "<Figure size 432x288 with 1 Axes>"
      ]
     },
     "metadata": {
      "needs_background": "light"
     },
     "output_type": "display_data"
    },
    {
     "data": {
      "image/png": "[encoded data removed]",
      "text/plain": [
       "<Figure size 432x288 with 1 Axes>"
      ]
     },
     "metadata": {
      "needs_background": "light"
     },
     "output_type": "display_data"
    }
   ],
   "source": [
    "t_start=time.time()\n",
    "beta_array=train_model_loop(5, 50)\n",
    "t_end=time.time()\n",
    "print(f'The time cost is {t_end-t_start}s')\n",
    "\n",
    "# plot error vs. beta\n",
    "plt.figure()\n",
    "plt.semilogx(beta_range, error_train_reg, label = 'Train error')\n",
    "plt.semilogx(beta_range, error_cv_reg, label = 'Val error')\n",
    "plt.xlabel('regulization coefficient (beta)')\n",
    "plt.ylabel('error')\n",
    "plt.legend()\n",
    "\n",
    "# plot error vs. beta\n",
    "plt.figure()\n",
    "plt.plot(beta_range, error_train_reg, label = 'Train error')\n",
    "plt.plot(beta_range, error_cv_reg, label = 'Val error')\n",
    "plt.xlabel('regulization coefficient (beta)')\n",
    "plt.ylabel('error')\n",
    "plt.legend()\n",
    "\n",
    "# print(error_cv_reg_multismpl.shape)\n",
    "print(beta_array)\n",
    "idx=error_cv_reg.argmin()\n",
    "beta_best = beta_range[idx]\n",
    "theta_best = theta_reg[idx]\n",
    "error_test_reg=computeCost(test_data_norm, test_J, theta_best)\n",
    "\n",
    "# print('The best value of THETA is ', theta_best)\n",
    "print('The best value of BETA is ', beta_best)\n",
    "# print('The test error with best THETA and BETA is ', error_test_reg)"
   ]
  },
  {
   "cell_type": "markdown",
   "metadata": {},
   "source": [
    "# Prediction"
   ]
  },
  {
   "cell_type": "code",
   "execution_count": 67,
   "metadata": {
    "ExecuteTime": {
     "end_time": "2018-11-29T07:42:55.374275Z",
     "start_time": "2018-11-29T07:42:55.335583Z"
    }
   },
   "outputs": [
    {
     "data": {
      "text/plain": [
       "0.9674956991442808"
      ]
     },
     "execution_count": 67,
     "metadata": {},
     "output_type": "execute_result"
    }
   ],
   "source": [
    "beta_array.mean()"
   ]
  },
  {
   "cell_type": "code",
   "execution_count": 68,
   "metadata": {
    "ExecuteTime": {
     "end_time": "2018-11-29T07:43:09.358914Z",
     "start_time": "2018-11-29T07:43:09.352288Z"
    }
   },
   "outputs": [
    {
     "name": "stdout",
     "output_type": "stream",
     "text": [
      "[0.04867541 1.60652778 1.08932452 0.37423736 0.67026043 1.08932452\n",
      " 0.73862894 2.36929533 0.18961293 2.1499901  1.08932452 1.45782535\n",
      " 0.98849514 0.         0.41241066 1.95098405 0.         0.\n",
      " 0.         1.45782535 0.81397124 1.77039828 0.         1.32288703\n",
      " 0.5519225  0.         0.50083579 0.89699867 1.32288703 2.1499901\n",
      " 0.98849514 2.1499901  0.27963976 1.77039828 0.45447774 1.20043879\n",
      " 0.         1.08932452 2.1499901  1.95098405 1.60652778 0.\n",
      " 0.         2.61097035 1.32288703 0.1720621  0.30816383 0.50083579\n",
      " 1.60652778 1.20043879]\n"
     ]
    }
   ],
   "source": [
    "print(beta_array)"
   ]
  },
  {
   "cell_type": "code",
   "execution_count": null,
   "metadata": {},
   "outputs": [],
   "source": [
    "print(t.array)"
   ]
  },
  {
   "cell_type": "code",
   "execution_count": null,
   "metadata": {},
   "outputs": [],
   "source": [
    "t.polyFeature(2)\n",
    "t.array.shape"
   ]
  },
  {
   "cell_type": "code",
   "execution_count": 14,
   "metadata": {
    "ExecuteTime": {
     "end_time": "2018-11-27T14:50:27.631624Z",
     "start_time": "2018-11-27T14:50:27.626641Z"
    }
   },
   "outputs": [],
   "source": [
    "x=1"
   ]
  },
  {
   "cell_type": "code",
   "execution_count": 24,
   "metadata": {
    "ExecuteTime": {
     "end_time": "2018-11-27T14:53:53.264020Z",
     "start_time": "2018-11-27T14:53:53.241212Z"
    }
   },
   "outputs": [
    {
     "name": "stdout",
     "output_type": "stream",
     "text": [
      "2\n",
      "1\n"
     ]
    },
    {
     "ename": "UnboundLocalError",
     "evalue": "local variable 'x' referenced before assignment",
     "output_type": "error",
     "traceback": [
      "\u001b[0;31m---------------------------------------------------------------------------\u001b[0m",
      "\u001b[0;31mUnboundLocalError\u001b[0m                         Traceback (most recent call last)",
      "\u001b[0;32m<ipython-input-24-d056172680ad>\u001b[0m in \u001b[0;36m<module>\u001b[0;34m()\u001b[0m\n\u001b[1;32m      9\u001b[0m     \u001b[0mx\u001b[0m\u001b[0;34m=\u001b[0m\u001b[0mx\u001b[0m\u001b[0;34m+\u001b[0m\u001b[0;36m2\u001b[0m\u001b[0;34m\u001b[0m\u001b[0m\n\u001b[1;32m     10\u001b[0m     \u001b[0;32mreturn\u001b[0m \u001b[0my\u001b[0m\u001b[0;34m\u001b[0m\u001b[0m\n\u001b[0;32m---> 11\u001b[0;31m \u001b[0minc\u001b[0m\u001b[0;34m(\u001b[0m\u001b[0;34m)\u001b[0m\u001b[0;34m\u001b[0m\u001b[0m\n\u001b[0m\u001b[1;32m     12\u001b[0m \u001b[0;34m\u001b[0m\u001b[0m\n",
      "\u001b[0;32m<ipython-input-24-d056172680ad>\u001b[0m in \u001b[0;36minc\u001b[0;34m()\u001b[0m\n\u001b[1;32m      6\u001b[0m \u001b[0;34m\u001b[0m\u001b[0m\n\u001b[1;32m      7\u001b[0m \u001b[0;32mdef\u001b[0m \u001b[0minc\u001b[0m\u001b[0;34m(\u001b[0m\u001b[0;34m)\u001b[0m\u001b[0;34m:\u001b[0m\u001b[0;34m\u001b[0m\u001b[0m\n\u001b[0;32m----> 8\u001b[0;31m     \u001b[0my\u001b[0m\u001b[0;34m=\u001b[0m\u001b[0mx\u001b[0m\u001b[0;34m+\u001b[0m\u001b[0;36m1\u001b[0m\u001b[0;34m\u001b[0m\u001b[0m\n\u001b[0m\u001b[1;32m      9\u001b[0m     \u001b[0mx\u001b[0m\u001b[0;34m=\u001b[0m\u001b[0mx\u001b[0m\u001b[0;34m+\u001b[0m\u001b[0;36m2\u001b[0m\u001b[0;34m\u001b[0m\u001b[0m\n\u001b[1;32m     10\u001b[0m     \u001b[0;32mreturn\u001b[0m \u001b[0my\u001b[0m\u001b[0;34m\u001b[0m\u001b[0m\n",
      "\u001b[0;31mUnboundLocalError\u001b[0m: local variable 'x' referenced before assignment"
     ]
    }
   ],
   "source": []
  },
  {
   "cell_type": "code",
   "execution_count": null,
   "metadata": {},
   "outputs": [],
   "source": []
  }
 ],
 "metadata": {
  "kernelspec": {
   "display_name": "Python 3",
   "language": "python",
   "name": "python3"
  },
  "language_info": {
   "codemirror_mode": {
    "name": "ipython",
    "version": 3
   },
   "file_extension": ".py",
   "mimetype": "text/x-python",
   "name": "python",
   "nbconvert_exporter": "python",
   "pygments_lexer": "ipython3",
   "version": "3.6.6"
  },
  "latex_envs": {
   "LaTeX_envs_menu_present": true,
   "autoclose": false,
   "autocomplete": true,
   "bibliofile": "biblio.bib",
   "cite_by": "apalike",
   "current_citInitial": 1,
   "eqLabelWithNumbers": true,
   "eqNumInitial": 1,
   "hotkeys": {
    "equation": "Ctrl-E",
    "itemize": "Ctrl-I"
   },
   "labels_anchors": false,
   "latex_user_defs": false,
   "report_style_numbering": false,
   "user_envs_cfg": false
  },
  "varInspector": {
   "cols": {
    "lenName": 16,
    "lenType": 16,
    "lenVar": 40
   },
   "kernels_config": {
    "python": {
     "delete_cmd_postfix": "",
     "delete_cmd_prefix": "del ",
     "library": "var_list.py",
     "varRefreshCmd": "print(var_dic_list())"
    },
    "r": {
     "delete_cmd_postfix": ") ",
     "delete_cmd_prefix": "rm(",
     "library": "var_list.r",
     "varRefreshCmd": "cat(var_dic_list()) "
    }
   },
   "oldHeight": 501,
   "position": {
    "height": "40px",
    "left": "1380px",
    "right": "-104px",
    "top": "475px",
    "width": "644px"
   },
   "types_to_exclude": [
    "module",
    "function",
    "builtin_function_or_method",
    "instance",
    "_Feature"
   ],
   "varInspector_section_display": "none",
   "window_display": true
  }
 },
 "nbformat": 4,
 "nbformat_minor": 2
}
