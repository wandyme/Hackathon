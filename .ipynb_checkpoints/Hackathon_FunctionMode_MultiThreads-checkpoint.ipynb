{
 "cells": [
  {
   "cell_type": "markdown",
   "metadata": {},
   "source": [
    "# Preload libraries and functions\n",
    "First of all, let's import libraries that will be used in this example"
   ]
  },
  {
   "cell_type": "code",
   "execution_count": 155,
   "metadata": {
    "ExecuteTime": {
     "end_time": "2018-11-29T15:29:14.734312Z",
     "start_time": "2018-11-29T15:29:13.926476Z"
    }
   },
   "outputs": [],
   "source": [
    "# Autoreload the customize modules.\n",
    "%reload_ext autoreload\n",
    "# Or load_ext autoreload for the first run\n",
    "%autoreload 2\n",
    "\n",
    "import pandas as pd\n",
    "import numpy as np\n",
    "from sklearn import preprocessing as prep\n",
    "import threading as thrd\n",
    "import time\n",
    "from HackModules.progressMonitor import progressBar\n",
    "from HackModules.progressMonitor import timer\n",
    "\n",
    "\n",
    "import matplotlib.pyplot as plt\n",
    "# import tensorflow as tf\n",
    "# from tensorflow import keras\n",
    "#matplot inline\n",
    "\n",
    "\n",
    "# np.set_printoptions(precision=8)"
   ]
  },
  {
   "cell_type": "markdown",
   "metadata": {},
   "source": [
    "Define functions and class"
   ]
  },
  {
   "cell_type": "code",
   "execution_count": 2,
   "metadata": {
    "ExecuteTime": {
     "end_time": "2018-11-28T12:12:54.075114Z",
     "start_time": "2018-11-28T12:12:54.060136Z"
    }
   },
   "outputs": [],
   "source": [
    "class MethodException(Exception):\n",
    "    def __init__(self, msg, value):\n",
    "        self.msg=msg\n",
    "        self.value=value\n",
    "        \n",
    "# def PolynomialFeature\n",
    "def polyFeature(X, degree=2):\n",
    "    poly = prep.PolynomialFeatures(degree,include_bias = False)\n",
    "    polyArray = poly.fit_transform(X)\n",
    "    return polyArray\n",
    "\n",
    "def normalizeFeature(X, method):\n",
    "    try:\n",
    "        if X.ndim == 1:  # Reshape the 1d array\n",
    "            X=np.reshape(X,(-1,1))\n",
    "        X_norm=np.ones((X.shape[0],X.shape[1]+1), dtype=np.float64)\n",
    "        if method == 'std':\n",
    "            X_norm[:,1:]=(X-X.mean(0))/X.std(0)     \n",
    "        elif method == 'range':\n",
    "            X_norm[:,1:]=(X-X.min(0))/(X.max(0)-X.min(0))\n",
    "        else:\n",
    "            raise MethodException('method should be either \\'std\\' or \\'range\\'(case sensitive)', method)\n",
    "    except MethodException as ex:\n",
    "        print(f'The error is: {ex.msg}, here the input method is \\'{ex.value}\\'')\n",
    "    else:\n",
    "        return X_norm\n",
    "\n",
    "# cost (error) function\n",
    "def computeCost(X, y, theta):\n",
    "    inner = np.power(((X @ theta.T) - y), 2)\n",
    "    return np.sum(inner) / (2 * len(X))\n",
    "\n",
    "# normal equation\n",
    "def normalEq(X,y):\n",
    "    theta=np.linalg.pinv(X.T@X)@X.T@y\n",
    "    return theta\n",
    "\n",
    "# normal equation with regulization\n",
    "def normalRegEq(X,y,beta):\n",
    "    L=np.eye(X.shape[1])\n",
    "    L[0,0]=0\n",
    "    theta=np.linalg.inv(X.T@X+beta*L)@X.T@y\n",
    "    return theta\n",
    "    \n",
    "# def linearRegCostFunction(X, y, theta, reg):\n"
   ]
  },
  {
   "cell_type": "markdown",
   "metadata": {},
   "source": [
    "# Data Import and Initialization"
   ]
  },
  {
   "cell_type": "code",
   "execution_count": 3,
   "metadata": {
    "ExecuteTime": {
     "end_time": "2018-11-28T12:12:54.701916Z",
     "start_time": "2018-11-28T12:12:54.259429Z"
    }
   },
   "outputs": [
    {
     "name": "stdout",
     "output_type": "stream",
     "text": [
      "         V    T  uncertainty             J\n",
      "0     0.00  100     0.001000  0.000000e+00\n",
      "1     0.05  100     0.001000  6.417136e-90\n",
      "2     0.10  100     0.001000  1.081096e-88\n",
      "3     0.15  100     0.001000  1.719633e-87\n",
      "4     0.20  100     0.001000  2.725747e-86\n",
      "5     0.25  100     0.001000  4.319561e-85\n",
      "6     0.30  100     0.001000  6.845225e-84\n",
      "7     0.35  100     0.001000  1.084764e-82\n",
      "8     0.40  100     0.001000  1.719028e-81\n",
      "9     0.45  100     0.001000  2.724148e-80\n",
      "10    0.50  100     0.001000  4.316963e-79\n",
      "11    0.55  100     0.001000  6.841100e-78\n",
      "12    0.60  100     0.001000  1.084111e-76\n",
      "13    0.65  100     0.001000  1.717992e-75\n",
      "14    0.70  100     0.001000  2.722506e-74\n",
      "15    0.75  100     0.001000  4.314361e-73\n",
      "16    0.80  100     0.001000  6.836977e-72\n",
      "17    0.85  100     0.001000  1.083457e-70\n",
      "18    0.90  100     0.001000  1.716957e-69\n",
      "19    0.95  100     0.001000  2.720865e-68\n",
      "20    1.00  100     0.001000  4.311761e-67\n",
      "21    1.05  100     0.001000  6.832857e-66\n",
      "22    1.10  100     0.001000  1.082804e-64\n",
      "23    1.15  100     0.001000  1.715922e-63\n",
      "24    1.20  100     0.001000  2.719226e-62\n",
      "25    1.25  100     0.001000  4.309163e-61\n",
      "26    1.30  100     0.001000  6.828740e-60\n",
      "27    1.35  100     0.001000  1.082152e-58\n",
      "28    1.40  100     0.001000  1.714888e-57\n",
      "29    1.45  100     0.001000  2.717587e-56\n",
      "...    ...  ...          ...           ...\n",
      "7864  0.85  690     0.000175  1.752349e-01\n",
      "7865  0.90  690     0.000262  2.616283e-01\n",
      "7866  0.95  690     0.000391  3.905678e-01\n",
      "7867  1.00  690     0.000583  5.830060e-01\n",
      "7868  1.05  690     0.000870  8.702142e-01\n",
      "7869  1.10  690     0.001299  1.298864e+00\n",
      "7870  1.15  690     0.001939  1.938610e+00\n",
      "7871  0.00  700     0.001000  0.000000e+00\n",
      "7872  0.05  700     0.001000  1.566676e-04\n",
      "7873  0.10  700     0.001000  3.891554e-04\n",
      "7874  0.15  700     0.001000  7.341572e-04\n",
      "7875  0.20  700     0.001000  1.246125e-03\n",
      "7876  0.25  700     0.001000  2.005862e-03\n",
      "7877  0.30  700     0.001000  3.133279e-03\n",
      "7878  0.35  700     0.001000  4.806317e-03\n",
      "7879  0.40  700     0.001000  7.289032e-03\n",
      "7880  0.45  700     0.001000  1.097327e-02\n",
      "7881  0.50  700     0.001000  1.644052e-02\n",
      "7882  0.55  700     0.001000  2.455368e-02\n",
      "7883  0.60  700     0.001000  3.659326e-02\n",
      "7884  0.65  700     0.001000  5.445946e-02\n",
      "7885  0.70  700     0.001000  8.097212e-02\n",
      "7886  0.75  700     0.000120  1.203158e-01\n",
      "7887  0.80  700     0.000179  1.787000e-01\n",
      "7888  0.85  700     0.000265  2.653396e-01\n",
      "7889  0.90  700     0.000394  3.939090e-01\n",
      "7890  0.95  700     0.000585  5.847005e-01\n",
      "7891  1.00  700     0.000868  8.678265e-01\n",
      "7892  1.05  700     0.001288  1.287973e+00\n",
      "7893  1.10  700     0.001911  1.911453e+00\n",
      "\n",
      "[7894 rows x 4 columns]\n"
     ]
    }
   ],
   "source": [
    "df = pd.read_excel('obs_data_w.xlsx', sheet_name=0) #sheet_name='Sheet1')\n",
    "print(df)"
   ]
  },
  {
   "cell_type": "markdown",
   "metadata": {},
   "source": [
    "## Train, cross validation and test data"
   ]
  },
  {
   "cell_type": "markdown",
   "metadata": {},
   "source": [
    "### Random Method 1: Sample function of df"
   ]
  },
  {
   "cell_type": "code",
   "execution_count": 4,
   "metadata": {
    "ExecuteTime": {
     "end_time": "2018-11-28T12:12:59.311640Z",
     "start_time": "2018-11-28T12:12:59.299591Z"
    }
   },
   "outputs": [
    {
     "name": "stdout",
     "output_type": "stream",
     "text": [
      "(1579, 4)\n"
     ]
    }
   ],
   "source": [
    "tcv=df.sample(frac=0.8) # random_state=200\n",
    "test=df.drop(tcv.index)\n",
    "test=test.sample(frac=1) # shuffle the rows\n",
    "\n",
    "print(test.shape)"
   ]
  },
  {
   "cell_type": "markdown",
   "metadata": {},
   "source": [
    "### Random Method 2: random array"
   ]
  },
  {
   "cell_type": "code",
   "execution_count": null,
   "metadata": {
    "ExecuteTime": {
     "end_time": "2018-11-27T11:41:20.627326Z",
     "start_time": "2018-11-27T11:41:20.621083Z"
    }
   },
   "outputs": [],
   "source": [
    "# idx=np.arange(0,len(df))\n",
    "# np.random.shuffle(idx)\n",
    "# temp_split=math.floor(0.8*len(df))\n",
    "# #idx[0:20]\n",
    "# train=df.iloc[idx[0:temp_split],:]\n",
    "# test=df.iloc[idx[temp_split:],:] # Output all the elements after temp_split\n",
    "# print(train.shape)\n",
    "# print(test.shape)"
   ]
  },
  {
   "cell_type": "markdown",
   "metadata": {},
   "source": [
    "## Split the data into data and results"
   ]
  },
  {
   "cell_type": "code",
   "execution_count": 5,
   "metadata": {
    "ExecuteTime": {
     "end_time": "2018-11-28T12:13:01.560004Z",
     "start_time": "2018-11-28T12:13:01.551390Z"
    }
   },
   "outputs": [],
   "source": [
    "test_data=test.loc[:,['V','T']]\n",
    "test_unc=test.uncertainty.values\n",
    "test_J=test.J.values\n",
    "\n",
    "# print(test_data)\n",
    "# J=J.tolist()"
   ]
  },
  {
   "cell_type": "markdown",
   "metadata": {},
   "source": [
    "## Add the polynominal features"
   ]
  },
  {
   "cell_type": "code",
   "execution_count": 6,
   "metadata": {
    "ExecuteTime": {
     "end_time": "2018-11-28T12:13:03.750975Z",
     "start_time": "2018-11-28T12:13:03.736105Z"
    },
    "code_folding": [],
    "scrolled": true
   },
   "outputs": [
    {
     "name": "stdout",
     "output_type": "stream",
     "text": [
      "The polynominal degree is 2.\n",
      "\n",
      "test data = \n",
      " [[3.2000e+00 1.4800e+02 1.0240e+01 4.7360e+02 2.1904e+04]\n",
      " [3.2000e+00 1.9300e+02 1.0240e+01 6.1760e+02 3.7249e+04]\n",
      " [2.6000e+00 1.5700e+02 6.7600e+00 4.0820e+02 2.4649e+04]\n",
      " ...\n",
      " [1.0500e+00 6.1000e+02 1.1025e+00 6.4050e+02 3.7210e+05]\n",
      " [2.0000e-01 1.0900e+02 4.0000e-02 2.1800e+01 1.1881e+04]\n",
      " [3.0000e+00 1.4900e+02 9.0000e+00 4.4700e+02 2.2201e+04]] \n",
      "\n"
     ]
    }
   ],
   "source": [
    "degree = 2\n",
    "print(f'The polynominal degree is {degree}.\\n')\n",
    "\n",
    "\n",
    "# test data\n",
    "test_data_poly = polyFeature(test_data, degree)\n",
    "print('test data = \\n', test_data_poly, '\\n')\n"
   ]
  },
  {
   "cell_type": "markdown",
   "metadata": {},
   "source": [
    "## Data Normalization (Two methods, range or stand deviation)  \n",
    "\n",
    "(__We should try both__)"
   ]
  },
  {
   "cell_type": "code",
   "execution_count": 7,
   "metadata": {
    "ExecuteTime": {
     "end_time": "2018-11-28T12:13:09.261860Z",
     "start_time": "2018-11-28T12:13:09.252911Z"
    }
   },
   "outputs": [
    {
     "name": "stdout",
     "output_type": "stream",
     "text": [
      "normalized test_data = \n",
      " [[ 1.          1.4546216  -0.29033091  1.64521088  1.03973227 -0.30329979]\n",
      " [ 1.          1.4546216   0.07198359  1.64521088  1.80539352 -0.13344035]\n",
      " [ 1.          0.87919894 -0.21786801  0.73922123  0.69199444 -0.27291438]\n",
      " ...\n",
      " [ 1.         -0.6073096   3.4294312  -0.73366279  1.92715493  3.57314835]\n",
      " [ 1.         -1.42249171 -0.6043368  -1.01027601 -1.36252993 -0.41424806]\n",
      " [ 1.          1.26281405 -0.28227947  1.32238698  0.89829762 -0.30001219]] \n",
      "\n"
     ]
    }
   ],
   "source": [
    "# Normalization method\n",
    "method='std'\n",
    "\n",
    "# test data\n",
    "test_data_norm=normalizeFeature(test_data_poly, method)\n",
    "print('normalized test_data = \\n', test_data_norm, '\\n')\n",
    "\n",
    "# test the normalize method is right\n",
    "# t=test_data_poly[:,1]\n",
    "# print(t.ndim)\n",
    "# t_norm=normalizeFeature(t,'std')\n",
    "# print(t_norm)"
   ]
  },
  {
   "cell_type": "markdown",
   "metadata": {},
   "source": [
    "# Model Training"
   ]
  },
  {
   "cell_type": "markdown",
   "metadata": {},
   "source": [
    "## Method 1: Normal Equation"
   ]
  },
  {
   "cell_type": "markdown",
   "metadata": {
    "heading_collapsed": true
   },
   "source": [
    "### Training without regulation"
   ]
  },
  {
   "cell_type": "code",
   "execution_count": null,
   "metadata": {
    "ExecuteTime": {
     "end_time": "2018-11-27T09:15:51.695899Z",
     "start_time": "2018-11-27T09:15:51.682319Z"
    },
    "hidden": true,
    "scrolled": true
   },
   "outputs": [],
   "source": [
    "theta=normalEq(train_data_norm, train_J) \n",
    "print(f'theta = {theta}')\n",
    "error_train=computeCost(train_data_norm, train_J, theta)\n",
    "error_test=computeCost(test_data_norm, test_J, theta)\n",
    "\n",
    "print('The training error is ', error_train)\n",
    "print('The test error is ', error_test)\n",
    "\n",
    "# OTHER PRINT EXPRESSION WITH FORMAT\n",
    "# print('The training error is %.10f'%error)\n",
    "# print('error = {:.10f}'.format(error))\n",
    "# print(f'error = {error}')\n",
    "# print('error= ', error)"
   ]
  },
  {
   "cell_type": "markdown",
   "metadata": {},
   "source": [
    "### Training with regulation"
   ]
  },
  {
   "cell_type": "code",
   "execution_count": 158,
   "metadata": {
    "ExecuteTime": {
     "end_time": "2018-11-29T15:30:42.880388Z",
     "start_time": "2018-11-29T15:30:42.096249Z"
    },
    "scrolled": false
   },
   "outputs": [],
   "source": [
    "featureSize=test_data_norm.shape[1]\n",
    "beta_range=np.geomspace(0.001,15, num = 50-1, endpoint = True, dtype=np.float64)\n",
    "beta_range=np.insert(beta_range,0,0) # insert a zero element in the first index\n",
    "theta_reg=np.zeros((beta_range.size, featureSize))\n",
    "error_train_reg=np.zeros(beta_range.size)\n",
    "error_cv_reg=np.zeros(beta_range.size)\n",
    "\n",
    "def train_model_single(i, j, beta, error_train_reg_multismpl, error_cv_reg_multismpl):\n",
    "#     print(f'{thrd.current_thread().name} is running...\\n')\n",
    "    # Split into train set and cv set\n",
    "    train=tcv.sample(frac=0.75, random_state = int((157*j+71*i)/3))\n",
    "    cv=tcv.drop(train.index)\n",
    "\n",
    "    train_data=train.loc[:,['V','T']]\n",
    "    train_unc=train.uncertainty.values\n",
    "    train_J=train.J.values\n",
    "\n",
    "    cv_data=cv.loc[:,['V','T']]\n",
    "    cv_unc=cv.uncertainty.values\n",
    "    cv_J=cv.J.values\n",
    "\n",
    "    # add polynominal features\n",
    "    train_data_poly = polyFeature(train_data, degree)\n",
    "    cv_data_poly = polyFeature(cv_data, degree)\n",
    "\n",
    "    # train data normalization\n",
    "    train_data_norm=normalizeFeature(train_data_poly, method)\n",
    "\n",
    "    # cross valiation data normalization\n",
    "    cv_data_norm=normalizeFeature(cv_data_poly, method)\n",
    "\n",
    "    theta_reg_multismpl=normalRegEq(train_data_norm, train_J, beta)\n",
    "    error_train_reg_multismpl[j]=computeCost(train_data_norm, train_J, theta_reg_multismpl)\n",
    "    error_cv_reg_multismpl[j]=computeCost(cv_data_norm, cv_J, theta_reg_multismpl)\n",
    "    \n",
    "#   print(f'thread {thrd.current_thread().name} ended. \\n')\n",
    "\n",
    "\n",
    "def train_model_loop(beta_num, epoch):\n",
    "    # theta_reg_multismpl=np.zeros((epoch, featureSize))\n",
    "    error_train_reg_multismpl=np.zeros(epoch)\n",
    "    error_cv_reg_multismpl=np.zeros(epoch)\n",
    "    beta_array=np.zeros(beta_num)\n",
    "    # Initial call to print 0% progress\n",
    "    total=(beta_num*len(beta_range))\n",
    "    pbar=progressBar(total, prefix = 'Progress:', suffix = 'Complete', decimals = 2, length = 50)\n",
    "    tm=timer(total)\n",
    "    with output(output_type=\"list\", initial_len=2, interval=0) as output_list:\n",
    "        for i in range(0,beta_num):\n",
    "            for index, beta in enumerate(beta_range):\n",
    "                threads=[]\n",
    "                for j in range(0,epoch,1):\n",
    "                    th = thrd.Thread(target=train_model_single, name=f'Threading {i}-{index}-{j}', args=(i,j,beta, \n",
    "                                     error_train_reg_multismpl, error_cv_reg_multismpl))\n",
    "                    threads.append(th)\n",
    "                for th in threads:\n",
    "                    th.daemon=True\n",
    "                    th.start()\n",
    "                for th in threads:\n",
    "                    th.join()\n",
    "                iteration=(i+1)*(index+1)\n",
    "                output_list[0]=print(pbar.update(iteration, ToPrint = False))\n",
    "                output_list[1]=print(tm.update(iteration, ToPrint = False))\n",
    "                error_train_reg[index] = error_train_reg_multismpl.sum(0)/epoch\n",
    "                error_cv_reg[index] = error_cv_reg_multismpl.sum(0)/epoch\n",
    "            idx=error_cv_reg.argmin()\n",
    "            beta_array[i] = beta_range[idx]\n",
    "    return beta_array"
   ]
  },
  {
   "cell_type": "code",
   "execution_count": 159,
   "metadata": {
    "ExecuteTime": {
     "end_time": "2018-11-29T15:30:56.825113Z",
     "start_time": "2018-11-29T15:30:47.555610Z"
    }
   },
   "outputs": [
    {
     "name": "stdout",
     "output_type": "stream",
     "text": [
      "Not in terminal, reprint now using normal build-in print function.0% Complete\n",
      "Progress: |--------------------------------------------------| 0.20% Complete\n",
      "None\n",
      "Run: 00:00:00 ; Left: 00:03:56 (Total 00:03:56)\n",
      "None\n",
      "Progress: |--------------------------------------------------| 0.40% Complete\n",
      "None\n",
      "Run: 00:00:00 ; Left: 00:03:28 (Total 00:03:29)\n",
      "None\n",
      "Progress: |--------------------------------------------------| 0.60% Complete\n",
      "None\n",
      "Run: 00:00:01 ; Left: 00:03:18 (Total 00:03:19)\n",
      "None\n",
      "Progress: |--------------------------------------------------| 0.80% Complete\n",
      "None\n",
      "Run: 00:00:01 ; Left: 00:03:15 (Total 00:03:17)\n",
      "None\n",
      "Progress: |--------------------------------------------------| 1.00% Complete\n",
      "None\n",
      "Run: 00:00:02 ; Left: 00:03:25 (Total 00:03:27)\n",
      "None\n",
      "Progress: |--------------------------------------------------| 1.20% Complete\n",
      "None\n",
      "Run: 00:00:02 ; Left: 00:03:29 (Total 00:03:32)\n",
      "None\n",
      "Progress: |--------------------------------------------------| 1.40% Complete\n",
      "None\n",
      "Run: 00:00:02 ; Left: 00:03:26 (Total 00:03:29)\n",
      "None\n",
      "Progress: |--------------------------------------------------| 1.60% Complete\n",
      "None\n",
      "Run: 00:00:03 ; Left: 00:03:22 (Total 00:03:25)\n",
      "None\n",
      "Progress: |--------------------------------------------------| 1.80% Complete\n",
      "None\n",
      "Run: 00:00:03 ; Left: 00:03:19 (Total 00:03:22)\n",
      "None\n",
      "Progress: |█-------------------------------------------------| 2.00% Complete\n",
      "None\n",
      "Run: 00:00:04 ; Left: 00:03:17 (Total 00:03:21)\n",
      "None\n",
      "Progress: |█-------------------------------------------------| 2.20% Complete\n",
      "None\n",
      "Run: 00:00:04 ; Left: 00:03:23 (Total 00:03:28)\n",
      "None\n",
      "Progress: |█-------------------------------------------------| 2.40% Complete\n",
      "None\n",
      "Run: 00:00:04 ; Left: 00:03:21 (Total 00:03:26)\n",
      "None\n",
      "Progress: |█-------------------------------------------------| 2.60% Complete\n",
      "None\n",
      "Run: 00:00:05 ; Left: 00:03:18 (Total 00:03:24)\n",
      "None\n",
      "Progress: |█-------------------------------------------------| 2.80% Complete\n",
      "None\n",
      "Run: 00:00:05 ; Left: 00:03:16 (Total 00:03:22)\n",
      "None\n",
      "Progress: |█-------------------------------------------------| 3.00% Complete\n",
      "None\n",
      "Run: 00:00:06 ; Left: 00:03:14 (Total 00:03:20)\n",
      "None\n",
      "Progress: |█-------------------------------------------------| 3.20% Complete\n",
      "None\n",
      "Run: 00:00:06 ; Left: 00:03:17 (Total 00:03:23)\n",
      "None\n",
      "Progress: |█-------------------------------------------------| 3.40% Complete\n",
      "None\n",
      "Run: 00:00:06 ; Left: 00:03:15 (Total 00:03:22)\n",
      "None\n",
      "Progress: |█-------------------------------------------------| 3.60% Complete\n",
      "None\n",
      "Run: 00:00:07 ; Left: 00:03:13 (Total 00:03:21)\n",
      "None\n",
      "Progress: |█-------------------------------------------------| 3.80% Complete\n",
      "None\n",
      "Run: 00:00:07 ; Left: 00:03:12 (Total 00:03:20)\n",
      "None\n",
      "Progress: |██------------------------------------------------| 4.00% Complete\n",
      "None\n",
      "Run: 00:00:08 ; Left: 00:03:15 (Total 00:03:23)\n",
      "None\n",
      "None\n",
      "None\n"
     ]
    },
    {
     "ename": "KeyboardInterrupt",
     "evalue": "",
     "output_type": "error",
     "traceback": [
      "\u001b[0;31m---------------------------------------------------------------------------\u001b[0m",
      "\u001b[0;31mKeyboardInterrupt\u001b[0m                         Traceback (most recent call last)",
      "\u001b[0;32m<ipython-input-159-9964e2fcc692>\u001b[0m in \u001b[0;36m<module>\u001b[0;34m()\u001b[0m\n\u001b[1;32m      1\u001b[0m \u001b[0mt_start\u001b[0m\u001b[0;34m=\u001b[0m\u001b[0mtime\u001b[0m\u001b[0;34m.\u001b[0m\u001b[0mtime\u001b[0m\u001b[0;34m(\u001b[0m\u001b[0;34m)\u001b[0m\u001b[0;34m\u001b[0m\u001b[0m\n\u001b[0;32m----> 2\u001b[0;31m \u001b[0mbeta_array\u001b[0m\u001b[0;34m=\u001b[0m\u001b[0mtrain_model_loop\u001b[0m\u001b[0;34m(\u001b[0m\u001b[0;36m10\u001b[0m\u001b[0;34m,\u001b[0m \u001b[0;36m50\u001b[0m\u001b[0;34m)\u001b[0m\u001b[0;34m\u001b[0m\u001b[0m\n\u001b[0m\u001b[1;32m      3\u001b[0m \u001b[0mt_end\u001b[0m\u001b[0;34m=\u001b[0m\u001b[0mtime\u001b[0m\u001b[0;34m.\u001b[0m\u001b[0mtime\u001b[0m\u001b[0;34m(\u001b[0m\u001b[0;34m)\u001b[0m\u001b[0;34m\u001b[0m\u001b[0m\n\u001b[1;32m      4\u001b[0m \u001b[0mprint\u001b[0m\u001b[0;34m(\u001b[0m\u001b[0;34mf'The time cost is {t_end-t_start}s'\u001b[0m\u001b[0;34m)\u001b[0m\u001b[0;34m\u001b[0m\u001b[0m\n\u001b[1;32m      5\u001b[0m \u001b[0;34m\u001b[0m\u001b[0m\n",
      "\u001b[0;32m<ipython-input-158-98636006cc66>\u001b[0m in \u001b[0;36mtrain_model_loop\u001b[0;34m(beta_num, epoch)\u001b[0m\n\u001b[1;32m     58\u001b[0m                     \u001b[0mth\u001b[0m\u001b[0;34m.\u001b[0m\u001b[0mstart\u001b[0m\u001b[0;34m(\u001b[0m\u001b[0;34m)\u001b[0m\u001b[0;34m\u001b[0m\u001b[0m\n\u001b[1;32m     59\u001b[0m                 \u001b[0;32mfor\u001b[0m \u001b[0mth\u001b[0m \u001b[0;32min\u001b[0m \u001b[0mthreads\u001b[0m\u001b[0;34m:\u001b[0m\u001b[0;34m\u001b[0m\u001b[0m\n\u001b[0;32m---> 60\u001b[0;31m                     \u001b[0mth\u001b[0m\u001b[0;34m.\u001b[0m\u001b[0mjoin\u001b[0m\u001b[0;34m(\u001b[0m\u001b[0;34m)\u001b[0m\u001b[0;34m\u001b[0m\u001b[0m\n\u001b[0m\u001b[1;32m     61\u001b[0m                 \u001b[0miteration\u001b[0m\u001b[0;34m=\u001b[0m\u001b[0;34m(\u001b[0m\u001b[0mi\u001b[0m\u001b[0;34m+\u001b[0m\u001b[0;36m1\u001b[0m\u001b[0;34m)\u001b[0m\u001b[0;34m*\u001b[0m\u001b[0;34m(\u001b[0m\u001b[0mindex\u001b[0m\u001b[0;34m+\u001b[0m\u001b[0;36m1\u001b[0m\u001b[0;34m)\u001b[0m\u001b[0;34m\u001b[0m\u001b[0m\n\u001b[1;32m     62\u001b[0m                 \u001b[0moutput_list\u001b[0m\u001b[0;34m[\u001b[0m\u001b[0;36m0\u001b[0m\u001b[0;34m]\u001b[0m\u001b[0;34m=\u001b[0m\u001b[0mprint\u001b[0m\u001b[0;34m(\u001b[0m\u001b[0mpbar\u001b[0m\u001b[0;34m.\u001b[0m\u001b[0mupdate\u001b[0m\u001b[0;34m(\u001b[0m\u001b[0miteration\u001b[0m\u001b[0;34m,\u001b[0m \u001b[0mToPrint\u001b[0m \u001b[0;34m=\u001b[0m \u001b[0;32mFalse\u001b[0m\u001b[0;34m)\u001b[0m\u001b[0;34m)\u001b[0m\u001b[0;34m\u001b[0m\u001b[0m\n",
      "\u001b[0;32m~/anaconda3/envs/NUSworkshop/lib/python3.6/threading.py\u001b[0m in \u001b[0;36mjoin\u001b[0;34m(self, timeout)\u001b[0m\n\u001b[1;32m   1054\u001b[0m \u001b[0;34m\u001b[0m\u001b[0m\n\u001b[1;32m   1055\u001b[0m         \u001b[0;32mif\u001b[0m \u001b[0mtimeout\u001b[0m \u001b[0;32mis\u001b[0m \u001b[0;32mNone\u001b[0m\u001b[0;34m:\u001b[0m\u001b[0;34m\u001b[0m\u001b[0m\n\u001b[0;32m-> 1056\u001b[0;31m             \u001b[0mself\u001b[0m\u001b[0;34m.\u001b[0m\u001b[0m_wait_for_tstate_lock\u001b[0m\u001b[0;34m(\u001b[0m\u001b[0;34m)\u001b[0m\u001b[0;34m\u001b[0m\u001b[0m\n\u001b[0m\u001b[1;32m   1057\u001b[0m         \u001b[0;32melse\u001b[0m\u001b[0;34m:\u001b[0m\u001b[0;34m\u001b[0m\u001b[0m\n\u001b[1;32m   1058\u001b[0m             \u001b[0;31m# the behavior of a negative timeout isn't documented, but\u001b[0m\u001b[0;34m\u001b[0m\u001b[0;34m\u001b[0m\u001b[0m\n",
      "\u001b[0;32m~/anaconda3/envs/NUSworkshop/lib/python3.6/threading.py\u001b[0m in \u001b[0;36m_wait_for_tstate_lock\u001b[0;34m(self, block, timeout)\u001b[0m\n\u001b[1;32m   1070\u001b[0m         \u001b[0;32mif\u001b[0m \u001b[0mlock\u001b[0m \u001b[0;32mis\u001b[0m \u001b[0;32mNone\u001b[0m\u001b[0;34m:\u001b[0m  \u001b[0;31m# already determined that the C code is done\u001b[0m\u001b[0;34m\u001b[0m\u001b[0m\n\u001b[1;32m   1071\u001b[0m             \u001b[0;32massert\u001b[0m \u001b[0mself\u001b[0m\u001b[0;34m.\u001b[0m\u001b[0m_is_stopped\u001b[0m\u001b[0;34m\u001b[0m\u001b[0m\n\u001b[0;32m-> 1072\u001b[0;31m         \u001b[0;32melif\u001b[0m \u001b[0mlock\u001b[0m\u001b[0;34m.\u001b[0m\u001b[0macquire\u001b[0m\u001b[0;34m(\u001b[0m\u001b[0mblock\u001b[0m\u001b[0;34m,\u001b[0m \u001b[0mtimeout\u001b[0m\u001b[0;34m)\u001b[0m\u001b[0;34m:\u001b[0m\u001b[0;34m\u001b[0m\u001b[0m\n\u001b[0m\u001b[1;32m   1073\u001b[0m             \u001b[0mlock\u001b[0m\u001b[0;34m.\u001b[0m\u001b[0mrelease\u001b[0m\u001b[0;34m(\u001b[0m\u001b[0;34m)\u001b[0m\u001b[0;34m\u001b[0m\u001b[0m\n\u001b[1;32m   1074\u001b[0m             \u001b[0mself\u001b[0m\u001b[0;34m.\u001b[0m\u001b[0m_stop\u001b[0m\u001b[0;34m(\u001b[0m\u001b[0;34m)\u001b[0m\u001b[0;34m\u001b[0m\u001b[0m\n",
      "\u001b[0;31mKeyboardInterrupt\u001b[0m: "
     ]
    }
   ],
   "source": [
    "t_start=time.time()\n",
    "beta_array=train_model_loop(10, 50)\n",
    "t_end=time.time()\n",
    "print(f'The time cost is {t_end-t_start}s')\n",
    "\n",
    "# plot error vs. beta\n",
    "plt.figure()\n",
    "plt.semilogx(beta_range, error_train_reg, label = 'Train error')\n",
    "plt.semilogx(beta_range, error_cv_reg, label = 'Val error')\n",
    "plt.xlabel('regulization coefficient (beta)')\n",
    "plt.ylabel('error')\n",
    "plt.legend()\n",
    "\n",
    "# print(error_cv_reg_multismpl.shape)\n",
    "print(beta_array)\n",
    "idx=error_cv_reg.argmin()\n",
    "beta_best = beta_range[idx]\n",
    "theta_best = theta_reg[idx]\n",
    "error_test_reg=computeCost(test_data_norm, test_J, theta_best)\n",
    "\n",
    "# print('The best value of THETA is ', theta_best)\n",
    "print('The best value of BETA is ', beta_best)\n",
    "# print('The test error with best THETA and BETA is ', error_test_reg)"
   ]
  },
  {
   "cell_type": "markdown",
   "metadata": {},
   "source": [
    "# Prediction"
   ]
  },
  {
   "cell_type": "code",
   "execution_count": null,
   "metadata": {
    "ExecuteTime": {
     "end_time": "2018-11-28T02:17:00.694537Z",
     "start_time": "2018-11-28T02:17:00.689102Z"
    }
   },
   "outputs": [],
   "source": [
    "beta_array.mean()"
   ]
  },
  {
   "cell_type": "code",
   "execution_count": null,
   "metadata": {},
   "outputs": [],
   "source": [
    "t=data(test_data)"
   ]
  },
  {
   "cell_type": "code",
   "execution_count": 28,
   "metadata": {
    "ExecuteTime": {
     "end_time": "2018-11-28T13:38:55.866854Z",
     "start_time": "2018-11-28T13:38:55.858760Z"
    }
   },
   "outputs": [
    {
     "name": "stdout",
     "output_type": "stream",
     "text": [
      "[0.00912332 0.00912332 0.00912332 0.00912332 0.00912332 0.00912332\n",
      " 0.00912332 0.00912332 0.00912332 0.00912332 0.00912332 0.00912332\n",
      " 0.00912332 0.00912332 0.00912332 0.00912332 0.00912332 0.00912332\n",
      " 0.00912332 0.00912332 0.00912332 0.00912333 0.00912333 0.00912333\n",
      " 0.00912333 0.00912333 0.00912333 0.00912333 0.00912333 0.00912333\n",
      " 0.00912333 0.00912333 0.00912333 0.00912333 0.00912333 0.00912333\n",
      " 0.00912333 0.00912333 0.00912333 0.00912333 0.00912333 0.00912333\n",
      " 0.00912334 0.00912334 0.00912334 0.00912334 0.00912334 0.00912335\n",
      " 0.00912335 0.00912335 0.00912335 0.00912336 0.00912336 0.00912337\n",
      " 0.00912337 0.00912338 0.00912339 0.0091234  0.00912341 0.00912343\n",
      " 0.00912344 0.00912346 0.00912348 0.00912351 0.00912354 0.00912357\n",
      " 0.00912361 0.00912366 0.00912372 0.00912379 0.00912387 0.00912397\n",
      " 0.00912409 0.00912423 0.0091244  0.00912459 0.00912483 0.00912511\n",
      " 0.00912544 0.00912584 0.00912631 0.00912687 0.00912754 0.00912833\n",
      " 0.00912927 0.00913038 0.00913169 0.00913323 0.00913505 0.00913718\n",
      " 0.00913968 0.00914259 0.00914599 0.00914993 0.00915449 0.00915974\n",
      " 0.00916577 0.00917267 0.00918052 0.00918942 0.00919945]\n"
     ]
    }
   ],
   "source": [
    "print(error_cv_reg)"
   ]
  },
  {
   "cell_type": "code",
   "execution_count": null,
   "metadata": {},
   "outputs": [],
   "source": [
    "t.polyFeature(2)\n",
    "t.array.shape"
   ]
  },
  {
   "cell_type": "code",
   "execution_count": null,
   "metadata": {
    "ExecuteTime": {
     "end_time": "2018-11-27T14:50:27.631624Z",
     "start_time": "2018-11-27T14:50:27.626641Z"
    }
   },
   "outputs": [],
   "source": [
    "x=1"
   ]
  },
  {
   "cell_type": "code",
   "execution_count": 42,
   "metadata": {
    "ExecuteTime": {
     "end_time": "2018-11-29T09:20:32.127607Z",
     "start_time": "2018-11-29T09:20:32.113851Z"
    }
   },
   "outputs": [
    {
     "name": "stderr",
     "output_type": "stream",
     "text": [
      "\n",
      "\n",
      "  0%|          | 0/100 [00:00<?, ?it/s]\u001b[A\u001b[A\n",
      "\n",
      "100%|██████████| 100/100 [00:00<00:00, 82727.89it/s]\u001b[A\u001b[A"
     ]
    }
   ],
   "source": [
    "pbar = tqdm(total=100)\n",
    "for i in range(10):\n",
    "    pbar.update(10)\n",
    "pbar.close()"
   ]
  },
  {
   "cell_type": "code",
   "execution_count": 108,
   "metadata": {
    "ExecuteTime": {
     "end_time": "2018-11-29T14:11:47.691350Z",
     "start_time": "2018-11-29T14:11:47.331243Z"
    }
   },
   "outputs": [
    {
     "ename": "TypeError",
     "evalue": "object() takes no parameters",
     "output_type": "error",
     "traceback": [
      "\u001b[0;31m---------------------------------------------------------------------------\u001b[0m",
      "\u001b[0;31mTypeError\u001b[0m                                 Traceback (most recent call last)",
      "\u001b[0;32m<ipython-input-108-1cbc72647fcf>\u001b[0m in \u001b[0;36m<module>\u001b[0;34m()\u001b[0m\n\u001b[0;32m----> 1\u001b[0;31m \u001b[0mtimer\u001b[0m\u001b[0;34m(\u001b[0m\u001b[0;36m10\u001b[0m\u001b[0;34m)\u001b[0m\u001b[0;34m\u001b[0m\u001b[0m\n\u001b[0m",
      "\u001b[0;31mTypeError\u001b[0m: object() takes no parameters"
     ]
    }
   ],
   "source": [
    "timer(10)"
   ]
  },
  {
   "cell_type": "code",
   "execution_count": null,
   "metadata": {},
   "outputs": [],
   "source": []
  }
 ],
 "metadata": {
  "kernelspec": {
   "display_name": "Python [conda env:NUSworkshop]",
   "language": "python",
   "name": "conda-env-NUSworkshop-py"
  },
  "language_info": {
   "codemirror_mode": {
    "name": "ipython",
    "version": 3
   },
   "file_extension": ".py",
   "mimetype": "text/x-python",
   "name": "python",
   "nbconvert_exporter": "python",
   "pygments_lexer": "ipython3",
   "version": "3.6.6"
  },
  "latex_envs": {
   "LaTeX_envs_menu_present": true,
   "autoclose": false,
   "autocomplete": true,
   "bibliofile": "biblio.bib",
   "cite_by": "apalike",
   "current_citInitial": 1,
   "eqLabelWithNumbers": true,
   "eqNumInitial": 1,
   "hotkeys": {
    "equation": "Ctrl-E",
    "itemize": "Ctrl-I"
   },
   "labels_anchors": false,
   "latex_user_defs": false,
   "report_style_numbering": false,
   "user_envs_cfg": false
  },
  "varInspector": {
   "cols": {
    "lenName": 16,
    "lenType": 16,
    "lenVar": 40
   },
   "kernels_config": {
    "python": {
     "delete_cmd_postfix": "",
     "delete_cmd_prefix": "del ",
     "library": "var_list.py",
     "varRefreshCmd": "print(var_dic_list())"
    },
    "r": {
     "delete_cmd_postfix": ") ",
     "delete_cmd_prefix": "rm(",
     "library": "var_list.r",
     "varRefreshCmd": "cat(var_dic_list()) "
    }
   },
   "oldHeight": 501,
   "position": {
    "height": "40px",
    "left": "783px",
    "right": "13px",
    "top": "120px",
    "width": "644px"
   },
   "types_to_exclude": [
    "module",
    "function",
    "builtin_function_or_method",
    "instance",
    "_Feature"
   ],
   "varInspector_section_display": "none",
   "window_display": true
  }
 },
 "nbformat": 4,
 "nbformat_minor": 2
}
