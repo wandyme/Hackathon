{
 "cells": [
  {
   "cell_type": "markdown",
   "metadata": {},
   "source": [
    "## Preload libraries and functions\n",
    "First of all, let's import libraries that will be used in this example"
   ]
  },
  {
   "cell_type": "code",
   "execution_count": 1,
   "metadata": {},
   "outputs": [],
   "source": [
    "import pandas as pd\n",
    "import numpy as np\n",
    "import math\n",
    "\n",
    "import matplotlib.pyplot as plt\n",
    "import tensorflow as tf\n",
    "from tensorflow import keras\n",
    "#matplot inline\n"
   ]
  },
  {
   "cell_type": "markdown",
   "metadata": {},
   "source": [
    "## Import the data and Initialization"
   ]
  },
  {
   "cell_type": "code",
   "execution_count": 2,
   "metadata": {
    "scrolled": true
   },
   "outputs": [
    {
     "name": "stdout",
     "output_type": "stream",
     "text": [
      "         V    T  uncertainty             J\n",
      "0     0.00  100     0.001000  0.000000e+00\n",
      "1     0.05  100     0.001000  6.417136e-90\n",
      "2     0.10  100     0.001000  1.081096e-88\n",
      "3     0.15  100     0.001000  1.719633e-87\n",
      "4     0.20  100     0.001000  2.725747e-86\n",
      "5     0.25  100     0.001000  4.319561e-85\n",
      "6     0.30  100     0.001000  6.845225e-84\n",
      "7     0.35  100     0.001000  1.084764e-82\n",
      "8     0.40  100     0.001000  1.719028e-81\n",
      "9     0.45  100     0.001000  2.724148e-80\n",
      "10    0.50  100     0.001000  4.316963e-79\n",
      "11    0.55  100     0.001000  6.841100e-78\n",
      "12    0.60  100     0.001000  1.084111e-76\n",
      "13    0.65  100     0.001000  1.717992e-75\n",
      "14    0.70  100     0.001000  2.722506e-74\n",
      "15    0.75  100     0.001000  4.314361e-73\n",
      "16    0.80  100     0.001000  6.836977e-72\n",
      "17    0.85  100     0.001000  1.083457e-70\n",
      "18    0.90  100     0.001000  1.716957e-69\n",
      "19    0.95  100     0.001000  2.720865e-68\n",
      "20    1.00  100     0.001000  4.311761e-67\n",
      "21    1.05  100     0.001000  6.832857e-66\n",
      "22    1.10  100     0.001000  1.082804e-64\n",
      "23    1.15  100     0.001000  1.715922e-63\n",
      "24    1.20  100     0.001000  2.719226e-62\n",
      "25    1.25  100     0.001000  4.309163e-61\n",
      "26    1.30  100     0.001000  6.828740e-60\n",
      "27    1.35  100     0.001000  1.082152e-58\n",
      "28    1.40  100     0.001000  1.714888e-57\n",
      "29    1.45  100     0.001000  2.717587e-56\n",
      "...    ...  ...          ...           ...\n",
      "7864  0.85  690     0.000175  1.752349e-01\n",
      "7865  0.90  690     0.000262  2.616283e-01\n",
      "7866  0.95  690     0.000391  3.905678e-01\n",
      "7867  1.00  690     0.000583  5.830060e-01\n",
      "7868  1.05  690     0.000870  8.702142e-01\n",
      "7869  1.10  690     0.001299  1.298864e+00\n",
      "7870  1.15  690     0.001939  1.938610e+00\n",
      "7871  0.00  700     0.001000  0.000000e+00\n",
      "7872  0.05  700     0.001000  1.566676e-04\n",
      "7873  0.10  700     0.001000  3.891554e-04\n",
      "7874  0.15  700     0.001000  7.341572e-04\n",
      "7875  0.20  700     0.001000  1.246125e-03\n",
      "7876  0.25  700     0.001000  2.005862e-03\n",
      "7877  0.30  700     0.001000  3.133279e-03\n",
      "7878  0.35  700     0.001000  4.806317e-03\n",
      "7879  0.40  700     0.001000  7.289032e-03\n",
      "7880  0.45  700     0.001000  1.097327e-02\n",
      "7881  0.50  700     0.001000  1.644052e-02\n",
      "7882  0.55  700     0.001000  2.455368e-02\n",
      "7883  0.60  700     0.001000  3.659326e-02\n",
      "7884  0.65  700     0.001000  5.445946e-02\n",
      "7885  0.70  700     0.001000  8.097212e-02\n",
      "7886  0.75  700     0.000120  1.203158e-01\n",
      "7887  0.80  700     0.000179  1.787000e-01\n",
      "7888  0.85  700     0.000265  2.653396e-01\n",
      "7889  0.90  700     0.000394  3.939090e-01\n",
      "7890  0.95  700     0.000585  5.847005e-01\n",
      "7891  1.00  700     0.000868  8.678265e-01\n",
      "7892  1.05  700     0.001288  1.287973e+00\n",
      "7893  1.10  700     0.001911  1.911453e+00\n",
      "\n",
      "[7894 rows x 4 columns]\n"
     ]
    },
    {
     "data": {
      "text/plain": [
       "pandas.core.frame.DataFrame"
      ]
     },
     "execution_count": 2,
     "metadata": {},
     "output_type": "execute_result"
    }
   ],
   "source": [
    "df = pd.read_excel('obs_data_w.xlsx', sheet_name=0) #sheet_name='Sheet1')\n",
    "print(df)\n",
    "type(df)\n"
   ]
  },
  {
   "cell_type": "markdown",
   "metadata": {},
   "source": [
    "## Train, cross validation and test data\n",
    "Convert the data frame into series."
   ]
  },
  {
   "cell_type": "markdown",
   "metadata": {},
   "source": [
    "### Method 1: Sample function of df"
   ]
  },
  {
   "cell_type": "code",
   "execution_count": 3,
   "metadata": {},
   "outputs": [
    {
     "name": "stdout",
     "output_type": "stream",
     "text": [
      "(6315, 4)\n",
      "(1579, 4)\n"
     ]
    },
    {
     "data": {
      "text/plain": [
       "7894"
      ]
     },
     "execution_count": 3,
     "metadata": {},
     "output_type": "execute_result"
    }
   ],
   "source": [
    "train=df.sample(frac=0.8)  #randaom_state=200\n",
    "test=df.drop(train.index)\n",
    "print(train.shape)\n",
    "print(test.shape)\n",
    "len(df)"
   ]
  },
  {
   "cell_type": "markdown",
   "metadata": {
    "heading_collapsed": true
   },
   "source": [
    "### Method 2: random array"
   ]
  },
  {
   "cell_type": "code",
   "execution_count": 114,
   "metadata": {
    "hidden": true
   },
   "outputs": [
    {
     "name": "stdout",
     "output_type": "stream",
     "text": [
      "(6315, 4)\n",
      "(1579, 4)\n"
     ]
    }
   ],
   "source": [
    "idx=np.arange(0,len(df))\n",
    "np.random.shuffle(idx)\n",
    "temp_split=math.floor(0.8*len(df))\n",
    "#idx[0:20]\n",
    "train=df.iloc[idx[0:temp_split],:]\n",
    "test=df.iloc[idx[temp_split:],:] # Output all the elements after temp_split\n",
    "print(train.shape)\n",
    "print(test.shape)"
   ]
  },
  {
   "cell_type": "markdown",
   "metadata": {},
   "source": [
    "## Split the data into data and label"
   ]
  },
  {
   "cell_type": "code",
   "execution_count": 4,
   "metadata": {},
   "outputs": [],
   "source": [
    "train_data=train.loc[:,['V','T']]\n",
    "train_unc=train.uncertainty\n",
    "train_J=train.J\n",
    "\n",
    "test_data=test.loc[:,['V','T']]\n",
    "test_unc=test.uncertainty\n",
    "test_J=test.J\n",
    "\n",
    "# J=J.tolist()"
   ]
  },
  {
   "cell_type": "markdown",
   "metadata": {},
   "source": [
    "## Data Normalization ( Two methods, range or stand deviation)  (__We should try both__)"
   ]
  },
  {
   "cell_type": "markdown",
   "metadata": {},
   "source": [
    "### 1. Range method\n",
    "\n",
    "__可以减去平均值得到有正负的normalization，到时候试一下怎么弄比较好__"
   ]
  },
  {
   "cell_type": "code",
   "execution_count": 5,
   "metadata": {},
   "outputs": [],
   "source": [
    "# train data\n",
    "train_data_norm_r=(train_data-train_data.min(axis=0))/(train_data.max(axis=0)-train_data.min(axis=0))\n",
    "\n",
    "# test data\n",
    "test_data_norm_r=(test_data-test_data.min(axis=0))/(test_data.max(axis=0)-test_data.min(axis=0))\n",
    "\n",
    "# Uncertainity\n",
    "# train_unc_norm_r=(train_unc-train_unc.min())/(train_unc.max()-train_unc.min())\n",
    "\n",
    "# Current\n",
    "# train_J_norm_r=(train_J-train_J.min())/(train_J.max()-train_J.min())\n"
   ]
  },
  {
   "cell_type": "markdown",
   "metadata": {},
   "source": [
    "### 2. Stand deviation"
   ]
  },
  {
   "cell_type": "code",
   "execution_count": null,
   "metadata": {},
   "outputs": [],
   "source": []
  },
  {
   "cell_type": "markdown",
   "metadata": {},
   "source": [
    "## Convert Pandas data frame to Numpy array"
   ]
  },
  {
   "cell_type": "code",
   "execution_count": 10,
   "metadata": {},
   "outputs": [
    {
     "name": "stdout",
     "output_type": "stream",
     "text": [
      "(6315, 2)\n",
      "(6315,)\n"
     ]
    },
    {
     "data": {
      "text/plain": [
       "<matplotlib.axes._subplots.AxesSubplot at 0xb2a2dce80>"
      ]
     },
     "execution_count": 10,
     "metadata": {},
     "output_type": "execute_result"
    },
    {
     "data": {
      "image/png": "[encoded data removed]",
      "text/plain": [
       "<Figure size 432x288 with 1 Axes>"
      ]
     },
     "metadata": {
      "needs_background": "light"
     },
     "output_type": "display_data"
    }
   ],
   "source": [
    "train_data_array=train_data_norm_r.values\n",
    "train_unc_array=train_unc.values\n",
    "train_J_array=train_J.values\n",
    "\n",
    "\n",
    "test_data_array=test_data_norm_r.values\n",
    "test_unc_array=test_unc.values\n",
    "test_J_array=test_J.values\n",
    "\n",
    "print(train_data_array.shape)\n",
    "print(train_J_array.shape)\n",
    "plt.plot(train_data.V)\n",
    "train_unc.plot(style='r.')\n",
    "train_J.plot(style='b*')\n"
   ]
  },
  {
   "cell_type": "markdown",
   "metadata": {},
   "source": [
    "## Create the model"
   ]
  },
  {
   "cell_type": "code",
   "execution_count": 11,
   "metadata": {},
   "outputs": [
    {
     "name": "stdout",
     "output_type": "stream",
     "text": [
      "_________________________________________________________________\n",
      "Layer (type)                 Output Shape              Param #   \n",
      "=================================================================\n",
      "dense (Dense)                (None, 12)                36        \n",
      "_________________________________________________________________\n",
      "dense_1 (Dense)              (None, 1)                 13        \n",
      "=================================================================\n",
      "Total params: 49\n",
      "Trainable params: 49\n",
      "Non-trainable params: 0\n",
      "_________________________________________________________________\n",
      "_________________________________________________________________\n",
      "Layer (type)                 Output Shape              Param #   \n",
      "=================================================================\n",
      "dense_2 (Dense)              (None, 12)                36        \n",
      "_________________________________________________________________\n",
      "dense_3 (Dense)              (None, 1)                 13        \n",
      "=================================================================\n",
      "Total params: 49\n",
      "Trainable params: 49\n",
      "Non-trainable params: 0\n",
      "_________________________________________________________________\n"
     ]
    }
   ],
   "source": [
    "def build_model(num_elements):\n",
    "  model = keras.Sequential([\n",
    "    keras.layers.Dense(num_elements, activation=tf.nn.relu,\n",
    "                       input_shape=(train_data_array.shape[1],)),\n",
    "    keras.layers.Dense(1)\n",
    "  ])\n",
    "\n",
    "  optimizer = tf.train.RMSPropOptimizer(0.001)\n",
    "\n",
    "  model.compile(loss='mse',\n",
    "                optimizer=optimizer,\n",
    "                metrics=['mae'])\n",
    "  return model\n",
    "\n",
    "n=12\n",
    "model_unc = build_model(n)\n",
    "model_unc.summary()\n",
    "model_J=build_model(n)\n",
    "model_J.summary()"
   ]
  },
  {
   "cell_type": "markdown",
   "metadata": {},
   "source": [
    "## Train the model"
   ]
  },
  {
   "cell_type": "code",
   "execution_count": 12,
   "metadata": {},
   "outputs": [
    {
     "name": "stdout",
     "output_type": "stream",
     "text": [
      "\n",
      "....................................................................................................\n",
      "....................................................................................................\n",
      "....................................................................................................\n",
      "....................................................................................................\n",
      "....................................................................................................\n",
      "....................................................................................................\n",
      "....................................................................................................\n",
      "....................................................................................................\n",
      "....................................................................................................\n",
      "...................................................................................................."
     ]
    }
   ],
   "source": [
    "# Display training progress by printing a single dot for each completed epoch\n",
    "class PrintDot(keras.callbacks.Callback):\n",
    "  def on_epoch_end(self, epoch, logs):\n",
    "    if epoch % 100 == 0: print('')\n",
    "    print('.', end='')\n",
    "\n",
    "EPOCHS = 500\n",
    "\n",
    "# train the uncertainity\n",
    "history_unc = model_unc.fit(train_data_array, train_unc_array, epochs=EPOCHS,\n",
    "                    validation_split=0.2, verbose=0,\n",
    "                    callbacks=[PrintDot()])\n",
    "# train the currency\n",
    "history_J=model_J.fit(train_data_array, train_J_array, epochs=EPOCHS,\n",
    "                    validation_split=0.2, verbose=0,\n",
    "                    callbacks=[PrintDot()])"
   ]
  },
  {
   "cell_type": "code",
   "execution_count": 22,
   "metadata": {},
   "outputs": [
    {
     "ename": "ValueError",
     "evalue": "The truth value of an array with more than one element is ambiguous. Use a.any() or a.all()",
     "output_type": "error",
     "traceback": [
      "\u001b[0;31m---------------------------------------------------------------------------\u001b[0m",
      "\u001b[0;31mValueError\u001b[0m                                Traceback (most recent call last)",
      "\u001b[0;32m<ipython-input-22-e9f7255796d8>\u001b[0m in \u001b[0;36m<module>\u001b[0;34m()\u001b[0m\n\u001b[1;32m     15\u001b[0m \u001b[0;34m\u001b[0m\u001b[0m\n\u001b[1;32m     16\u001b[0m \u001b[0;31m# plt.subplot(121)\u001b[0m\u001b[0;34m\u001b[0m\u001b[0;34m\u001b[0m\u001b[0m\n\u001b[0;32m---> 17\u001b[0;31m \u001b[0mplot_history\u001b[0m\u001b[0;34m(\u001b[0m\u001b[0mhistory_unc\u001b[0m\u001b[0;34m)\u001b[0m\u001b[0;34m\u001b[0m\u001b[0m\n\u001b[0m\u001b[1;32m     18\u001b[0m \u001b[0;34m\u001b[0m\u001b[0m\n\u001b[1;32m     19\u001b[0m \u001b[0;31m# plt.subplot(122)\u001b[0m\u001b[0;34m\u001b[0m\u001b[0;34m\u001b[0m\u001b[0m\n",
      "\u001b[0;32m<ipython-input-22-e9f7255796d8>\u001b[0m in \u001b[0;36mplot_history\u001b[0;34m(history)\u001b[0m\n\u001b[1;32m      8\u001b[0m     \u001b[0mplt\u001b[0m\u001b[0;34m.\u001b[0m\u001b[0mplot\u001b[0m\u001b[0;34m(\u001b[0m\u001b[0mhistory\u001b[0m\u001b[0;34m.\u001b[0m\u001b[0mepoch\u001b[0m\u001b[0;34m,\u001b[0m \u001b[0my2\u001b[0m\u001b[0;34m,\u001b[0m \u001b[0mlabel\u001b[0m \u001b[0;34m=\u001b[0m \u001b[0;34m'Val loss'\u001b[0m\u001b[0;34m)\u001b[0m\u001b[0;34m\u001b[0m\u001b[0m\n\u001b[1;32m      9\u001b[0m     \u001b[0mplt\u001b[0m\u001b[0;34m.\u001b[0m\u001b[0mlegend\u001b[0m\u001b[0;34m(\u001b[0m\u001b[0;34m)\u001b[0m\u001b[0;34m\u001b[0m\u001b[0m\n\u001b[0;32m---> 10\u001b[0;31m     \u001b[0;32mif\u001b[0m \u001b[0my1\u001b[0m\u001b[0;34m>\u001b[0m\u001b[0my2\u001b[0m\u001b[0;34m:\u001b[0m\u001b[0;34m\u001b[0m\u001b[0m\n\u001b[0m\u001b[1;32m     11\u001b[0m         \u001b[0mplt\u001b[0m\u001b[0;34m.\u001b[0m\u001b[0mylim\u001b[0m\u001b[0;34m(\u001b[0m\u001b[0;34m[\u001b[0m\u001b[0;36m0\u001b[0m\u001b[0;34m,\u001b[0m \u001b[0;36m1.1\u001b[0m\u001b[0;34m*\u001b[0m\u001b[0my1\u001b[0m\u001b[0;34m]\u001b[0m\u001b[0;34m)\u001b[0m\u001b[0;34m\u001b[0m\u001b[0m\n\u001b[1;32m     12\u001b[0m     \u001b[0;32melse\u001b[0m\u001b[0;34m:\u001b[0m\u001b[0;34m\u001b[0m\u001b[0m\n",
      "\u001b[0;31mValueError\u001b[0m: The truth value of an array with more than one element is ambiguous. Use a.any() or a.all()"
     ]
    },
    {
     "data": {
      "image/png": "[encoded data removed]",
      "text/plain": [
       "<Figure size 432x288 with 1 Axes>"
      ]
     },
     "metadata": {
      "needs_background": "light"
     },
     "output_type": "display_data"
    }
   ],
   "source": [
    "def plot_history(history):\n",
    "    plt.figure()\n",
    "    plt.xlabel('Epoch')\n",
    "    plt.ylabel('Mean Abs Error')\n",
    "    y1=np.array(history.history['mean_absolute_error'])\n",
    "    y2=np.array(history.history['val_mean_absolute_error'])\n",
    "    plt.plot(history.epoch, y1, label='Train Loss')\n",
    "    plt.plot(history.epoch, y2, label = 'Val loss')\n",
    "    plt.legend()\n",
    "    if y1.max>y2.max:\n",
    "        plt.ylim([0, 1.1*y1.max])\n",
    "    else:\n",
    "        plt.ylim([0, 1.1*y2.max])\n",
    "            \n",
    "\n",
    "# plt.subplot(121)\n",
    "plot_history(history_unc)\n",
    "\n",
    "# plt.subplot(122)\n",
    "plot_history(history_J)"
   ]
  },
  {
   "cell_type": "code",
   "execution_count": 191,
   "metadata": {},
   "outputs": [
    {
     "data": {
      "image/png": "[encoded data removed]",
      "text/plain": [
       "<Figure size 432x288 with 1 Axes>"
      ]
     },
     "metadata": {
      "needs_background": "light"
     },
     "output_type": "display_data"
    }
   ],
   "source": [
    "test_predictions = model_J.predict(test_data_array).flatten()\n",
    "\n",
    "plt.scatter(test_J, test_predictions)\n",
    "plt.xlabel('True Current Values [A]')\n",
    "plt.ylabel('Prediction Current Values [A]')\n",
    "plt.xlim(plt.xlim())\n",
    "plt.ylim(plt.ylim())\n",
    "_ = plt.plot([-2, 5], [-2, 5],)\n",
    "plt.show()"
   ]
  },
  {
   "cell_type": "code",
   "execution_count": null,
   "metadata": {},
   "outputs": [],
   "source": []
  }
 ],
 "metadata": {
  "kernelspec": {
   "display_name": "Python [conda env:NUSworkshop]",
   "language": "python",
   "name": "conda-env-NUSworkshop-py"
  },
  "language_info": {
   "codemirror_mode": {
    "name": "ipython",
    "version": 3
   },
   "file_extension": ".py",
   "mimetype": "text/x-python",
   "name": "python",
   "nbconvert_exporter": "python",
   "pygments_lexer": "ipython3",
   "version": "3.6.6"
  }
 },
 "nbformat": 4,
 "nbformat_minor": 2
}
