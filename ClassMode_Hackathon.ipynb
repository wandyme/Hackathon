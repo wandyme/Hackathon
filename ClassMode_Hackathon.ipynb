{
 "cells": [
  {
   "cell_type": "markdown",
   "metadata": {},
   "source": [
    "# Preload libraries and functions\n",
    "First of all, let's import libraries that will be used in this example"
   ]
  },
  {
   "cell_type": "code",
   "execution_count": 70,
   "metadata": {
    "ExecuteTime": {
     "end_time": "2018-12-01T05:59:25.793874Z",
     "start_time": "2018-12-01T05:59:25.204863Z"
    }
   },
   "outputs": [],
   "source": [
    "# clear all variants\n",
    "# %reset -f   \n",
    "\n",
    "# Autoreload the customize modules.\n",
    "%reload_ext autoreload\n",
    "# Or load_ext autoreload for the first run\n",
    "# %aimport\n",
    "%autoreload 2\n",
    "\n",
    "import pandas as pd\n",
    "import numpy as np\n",
    "from sklearn import preprocessing as prep\n",
    "import matplotlib.pyplot as plt\n",
    "import time\n",
    "\n",
    "# import tensorflow as tf\n",
    "# from tensorflow import keras\n",
    "\n",
    "import HackModules.HackClasses as hc\n",
    "import HackModules.HackFunctions as hf\n",
    "from HackModules.progressMonitor import progressBar\n",
    "from HackModules.progressMonitor import timer\n",
    "\n",
    "#matplot inline\n",
    "# np.set_printoptions(precision=8)\n",
    "\n",
    "# help(hc) # To test the docstrings ((TBDBS To be deleted before submission))\n",
    "\n",
    "# Alternative customize module import method\n",
    "# import sys, os\n",
    "# sys.path.append(os.getcwd()+'/HackModules/') # add /HackModules to the path\n",
    "# import HackClasses as hc\n"
   ]
  },
  {
   "cell_type": "markdown",
   "metadata": {},
   "source": [
    "Define some seldom used functions and class"
   ]
  },
  {
   "cell_type": "markdown",
   "metadata": {},
   "source": [
    "# Data Import and Initialization"
   ]
  },
  {
   "cell_type": "code",
   "execution_count": 71,
   "metadata": {
    "ExecuteTime": {
     "end_time": "2018-12-01T05:59:29.112110Z",
     "start_time": "2018-12-01T05:59:28.152282Z"
    },
    "scrolled": true
   },
   "outputs": [
    {
     "name": "stdout",
     "output_type": "stream",
     "text": [
      "         V    T  uncertainty             J\n",
      "0     0.00  100     0.001000  0.000000e+00\n",
      "1     0.05  100     0.001000  6.417136e-90\n",
      "2     0.10  100     0.001000  1.081096e-88\n",
      "3     0.15  100     0.001000  1.719633e-87\n",
      "4     0.20  100     0.001000  2.725747e-86\n",
      "5     0.25  100     0.001000  4.319561e-85\n",
      "6     0.30  100     0.001000  6.845225e-84\n",
      "7     0.35  100     0.001000  1.084764e-82\n",
      "8     0.40  100     0.001000  1.719028e-81\n",
      "9     0.45  100     0.001000  2.724148e-80\n",
      "10    0.50  100     0.001000  4.316963e-79\n",
      "11    0.55  100     0.001000  6.841100e-78\n",
      "12    0.60  100     0.001000  1.084111e-76\n",
      "13    0.65  100     0.001000  1.717992e-75\n",
      "14    0.70  100     0.001000  2.722506e-74\n",
      "15    0.75  100     0.001000  4.314361e-73\n",
      "16    0.80  100     0.001000  6.836977e-72\n",
      "17    0.85  100     0.001000  1.083457e-70\n",
      "18    0.90  100     0.001000  1.716957e-69\n",
      "19    0.95  100     0.001000  2.720865e-68\n",
      "20    1.00  100     0.001000  4.311761e-67\n",
      "21    1.05  100     0.001000  6.832857e-66\n",
      "22    1.10  100     0.001000  1.082804e-64\n",
      "23    1.15  100     0.001000  1.715922e-63\n",
      "24    1.20  100     0.001000  2.719226e-62\n",
      "25    1.25  100     0.001000  4.309163e-61\n",
      "26    1.30  100     0.001000  6.828740e-60\n",
      "27    1.35  100     0.001000  1.082152e-58\n",
      "28    1.40  100     0.001000  1.714888e-57\n",
      "29    1.45  100     0.001000  2.717587e-56\n",
      "...    ...  ...          ...           ...\n",
      "7864  0.85  690     0.000175  1.752349e-01\n",
      "7865  0.90  690     0.000262  2.616283e-01\n",
      "7866  0.95  690     0.000391  3.905678e-01\n",
      "7867  1.00  690     0.000583  5.830060e-01\n",
      "7868  1.05  690     0.000870  8.702142e-01\n",
      "7869  1.10  690     0.001299  1.298864e+00\n",
      "7870  1.15  690     0.001939  1.938610e+00\n",
      "7871  0.00  700     0.001000  0.000000e+00\n",
      "7872  0.05  700     0.001000  1.566676e-04\n",
      "7873  0.10  700     0.001000  3.891554e-04\n",
      "7874  0.15  700     0.001000  7.341572e-04\n",
      "7875  0.20  700     0.001000  1.246125e-03\n",
      "7876  0.25  700     0.001000  2.005862e-03\n",
      "7877  0.30  700     0.001000  3.133279e-03\n",
      "7878  0.35  700     0.001000  4.806317e-03\n",
      "7879  0.40  700     0.001000  7.289032e-03\n",
      "7880  0.45  700     0.001000  1.097327e-02\n",
      "7881  0.50  700     0.001000  1.644052e-02\n",
      "7882  0.55  700     0.001000  2.455368e-02\n",
      "7883  0.60  700     0.001000  3.659326e-02\n",
      "7884  0.65  700     0.001000  5.445946e-02\n",
      "7885  0.70  700     0.001000  8.097212e-02\n",
      "7886  0.75  700     0.000120  1.203158e-01\n",
      "7887  0.80  700     0.000179  1.787000e-01\n",
      "7888  0.85  700     0.000265  2.653396e-01\n",
      "7889  0.90  700     0.000394  3.939090e-01\n",
      "7890  0.95  700     0.000585  5.847005e-01\n",
      "7891  1.00  700     0.000868  8.678265e-01\n",
      "7892  1.05  700     0.001288  1.287973e+00\n",
      "7893  1.10  700     0.001911  1.911453e+00\n",
      "\n",
      "[7894 rows x 4 columns]\n"
     ]
    }
   ],
   "source": [
    "df = pd.read_excel('obs_data_w.xlsx', sheet_name=0) #sheet_name='Sheet1')\n",
    "print(df)"
   ]
  },
  {
   "cell_type": "markdown",
   "metadata": {},
   "source": [
    "## Train, cross validation and test data"
   ]
  },
  {
   "cell_type": "markdown",
   "metadata": {},
   "source": [
    "### Random Method 1: Sample function of df"
   ]
  },
  {
   "cell_type": "code",
   "execution_count": 72,
   "metadata": {
    "ExecuteTime": {
     "end_time": "2018-12-01T05:59:33.427376Z",
     "start_time": "2018-12-01T05:59:32.900534Z"
    }
   },
   "outputs": [
    {
     "name": "stdout",
     "output_type": "stream",
     "text": [
      "(1579, 4)\n"
     ]
    }
   ],
   "source": [
    "tcv=df.sample(frac=0.8) # random_state=200\n",
    "test=df.drop(tcv.index)\n",
    "test=test.sample(frac=1) # shuffle the rows\n",
    "\n",
    "print(test.shape)"
   ]
  },
  {
   "cell_type": "markdown",
   "metadata": {
    "heading_collapsed": true
   },
   "source": [
    "### Random Method 2: random array"
   ]
  },
  {
   "cell_type": "code",
   "execution_count": null,
   "metadata": {
    "hidden": true
   },
   "outputs": [],
   "source": [
    "# idx=np.arange(0,len(df))\n",
    "# np.random.shuffle(idx)\n",
    "# temp_split=math.floor(0.8*len(df))\n",
    "# #idx[0:20]\n",
    "# train=df.iloc[idx[0:temp_split],:]\n",
    "# test=df.iloc[idx[temp_split:],:] # Output all the elements after temp_split\n",
    "# print(train.shape)\n",
    "# print(test.shape)"
   ]
  },
  {
   "cell_type": "markdown",
   "metadata": {},
   "source": [
    "## Split test data into data and results, add polynominal features and normalize them."
   ]
  },
  {
   "cell_type": "code",
   "execution_count": 73,
   "metadata": {
    "ExecuteTime": {
     "end_time": "2018-12-01T05:59:40.331669Z",
     "start_time": "2018-12-01T05:59:39.741745Z"
    }
   },
   "outputs": [
    {
     "name": "stdout",
     "output_type": "stream",
     "text": [
      "The polynominal degree is 2.\n",
      "\n",
      "Polynominal test data = \n",
      " [[1.3000e+00 1.9000e+02 1.6900e+00 2.4700e+02 3.6100e+04]\n",
      " [3.1000e+00 1.8300e+02 9.6100e+00 5.6730e+02 3.3489e+04]\n",
      " [1.0000e+00 1.9500e+02 1.0000e+00 1.9500e+02 3.8025e+04]\n",
      " ...\n",
      " [1.2000e+00 1.3500e+02 1.4400e+00 1.6200e+02 1.8225e+04]\n",
      " [3.3000e+00 1.0600e+02 1.0890e+01 3.4980e+02 1.1236e+04]\n",
      " [7.5000e-01 1.8700e+02 5.6250e-01 1.4025e+02 3.4969e+04]] \n",
      "\n",
      "Normalized test_data = \n",
      " [[ 1.00000000e+00 -3.74609253e-01  2.44547966e-02 -5.97463734e-01\n",
      "  -1.84352224e-01 -1.58605693e-01]\n",
      " [ 1.00000000e+00  1.34308764e+00 -3.14498294e-02  1.48443799e+00\n",
      "   1.54448062e+00 -1.87118168e-01]\n",
      " [ 1.00000000e+00 -6.60892068e-01  6.43866722e-02 -7.78841536e-01\n",
      "  -4.65024430e-01 -1.37584432e-01]\n",
      " ...\n",
      " [ 1.00000000e+00 -4.70036858e-01 -4.14795836e-01 -6.63180329e-01\n",
      "  -6.43143330e-01 -3.53803123e-01]\n",
      " [ 1.00000000e+00  1.53394285e+00 -6.46400715e-01  1.82090696e+00\n",
      "   3.70515137e-01 -4.30123953e-01]\n",
      " [ 1.00000000e+00 -8.99461080e-01  4.95671161e-04 -8.93845577e-01\n",
      "  -7.60539878e-01 -1.70956367e-01]] \n",
      "\n"
     ]
    }
   ],
   "source": [
    "test_data=test.loc[:,['V','T']]\n",
    "test_unc=test.uncertainty.values\n",
    "test_J=test.J.values\n",
    "\n",
    "degree = 2\n",
    "test_data=hc.data(test_data,degree=degree,method='std')\n",
    "\n",
    "print(f'The polynominal degree is {degree}.\\n')\n",
    "print('Polynominal test data = \\n', test_data.poly, '\\n')\n",
    "print('Normalized test_data = \\n', test_data.norm, '\\n')"
   ]
  },
  {
   "cell_type": "markdown",
   "metadata": {},
   "source": [
    "# Model Training"
   ]
  },
  {
   "cell_type": "markdown",
   "metadata": {},
   "source": [
    "## Method 1: Normal Equation"
   ]
  },
  {
   "cell_type": "markdown",
   "metadata": {},
   "source": [
    "### Training with regulation"
   ]
  },
  {
   "cell_type": "code",
   "execution_count": 82,
   "metadata": {
    "ExecuteTime": {
     "end_time": "2018-12-01T06:18:58.376596Z",
     "start_time": "2018-12-01T06:18:46.991334Z"
    },
    "scrolled": true
   },
   "outputs": [
    {
     "name": "stdout",
     "output_type": "stream",
     "text": [
      "0rogress: |--------------------------------------------------| 1.00% Complete     Run: 00:00:00; Left: 00:00:11 (Total: 00:00:11)\n",
      "1rogress: |█-------------------------------------------------| 2.00% Complete     Run: 00:00:00; Left: 00:00:12 (Total: 00:00:12)\n",
      "2rogress: |█-------------------------------------------------| 3.00% Complete     Run: 00:00:00; Left: 00:00:11 (Total: 00:00:11)\n",
      "3rogress: |██------------------------------------------------| 4.00% Complete     Run: 00:00:00; Left: 00:00:11 (Total: 00:00:11)\n",
      "4rogress: |██------------------------------------------------| 5.00% Complete     Run: 00:00:00; Left: 00:00:11 (Total: 00:00:11)\n",
      "5rogress: |███-----------------------------------------------| 6.00% Complete     Run: 00:00:00; Left: 00:00:11 (Total: 00:00:11)\n",
      "6rogress: |███-----------------------------------------------| 7.00% Complete     Run: 00:00:00; Left: 00:00:10 (Total: 00:00:11)\n",
      "7rogress: |████----------------------------------------------| 8.00% Complete     Run: 00:00:00; Left: 00:00:10 (Total: 00:00:11)\n",
      "8rogress: |████----------------------------------------------| 9.00% Complete     Run: 00:00:01; Left: 00:00:10 (Total: 00:00:11)\n",
      "9rogress: |█████---------------------------------------------| 10.00% Complete     Run: 00:00:01; Left: 00:00:10 (Total: 00:00:11)\n",
      "10ogress: |█████---------------------------------------------| 11.00% Complete     Run: 00:00:01; Left: 00:00:09 (Total: 00:00:11)\n",
      "11ogress: |██████--------------------------------------------| 12.00% Complete     Run: 00:00:01; Left: 00:00:09 (Total: 00:00:11)\n",
      "12ogress: |██████--------------------------------------------| 13.00% Complete     Run: 00:00:01; Left: 00:00:09 (Total: 00:00:11)\n",
      "13ogress: |███████-------------------------------------------| 14.00% Complete     Run: 00:00:01; Left: 00:00:09 (Total: 00:00:11)\n",
      "14ogress: |███████-------------------------------------------| 15.00% Complete     Run: 00:00:01; Left: 00:00:09 (Total: 00:00:11)\n",
      "15ogress: |████████------------------------------------------| 16.00% Complete     Run: 00:00:01; Left: 00:00:09 (Total: 00:00:11)\n",
      "16ogress: |████████------------------------------------------| 17.00% Complete     Run: 00:00:01; Left: 00:00:09 (Total: 00:00:11)\n",
      "17ogress: |█████████-----------------------------------------| 18.00% Complete     Run: 00:00:01; Left: 00:00:09 (Total: 00:00:11)\n",
      "18ogress: |█████████-----------------------------------------| 19.00% Complete     Run: 00:00:02; Left: 00:00:08 (Total: 00:00:11)\n",
      "19ogress: |██████████----------------------------------------| 20.00% Complete     Run: 00:00:02; Left: 00:00:08 (Total: 00:00:11)\n",
      "20ogress: |██████████----------------------------------------| 21.00% Complete     Run: 00:00:02; Left: 00:00:08 (Total: 00:00:10)\n",
      "21ogress: |███████████---------------------------------------| 22.00% Complete     Run: 00:00:02; Left: 00:00:08 (Total: 00:00:10)\n",
      "22ogress: |███████████---------------------------------------| 23.00% Complete     Run: 00:00:02; Left: 00:00:08 (Total: 00:00:10)\n",
      "23ogress: |████████████--------------------------------------| 24.00% Complete     Run: 00:00:02; Left: 00:00:08 (Total: 00:00:10)\n",
      "24ogress: |████████████--------------------------------------| 25.00% Complete     Run: 00:00:02; Left: 00:00:08 (Total: 00:00:10)\n",
      "25ogress: |█████████████-------------------------------------| 26.00% Complete     Run: 00:00:02; Left: 00:00:08 (Total: 00:00:10)\n",
      "26ogress: |█████████████-------------------------------------| 27.00% Complete     Run: 00:00:02; Left: 00:00:07 (Total: 00:00:10)\n",
      "27ogress: |██████████████------------------------------------| 28.00% Complete     Run: 00:00:03; Left: 00:00:07 (Total: 00:00:10)\n",
      "28ogress: |██████████████------------------------------------| 29.00% Complete     Run: 00:00:03; Left: 00:00:07 (Total: 00:00:10)\n",
      "29ogress: |███████████████-----------------------------------| 30.00% Complete     Run: 00:00:03; Left: 00:00:07 (Total: 00:00:10)\n",
      "30ogress: |███████████████-----------------------------------| 31.00% Complete     Run: 00:00:03; Left: 00:00:07 (Total: 00:00:10)\n",
      "31ogress: |████████████████----------------------------------| 32.00% Complete     Run: 00:00:03; Left: 00:00:07 (Total: 00:00:10)\n",
      "32ogress: |████████████████----------------------------------| 33.00% Complete     Run: 00:00:03; Left: 00:00:07 (Total: 00:00:10)\n",
      "33ogress: |█████████████████---------------------------------| 34.00% Complete     Run: 00:00:03; Left: 00:00:07 (Total: 00:00:10)\n",
      "34ogress: |█████████████████---------------------------------| 35.00% Complete     Run: 00:00:03; Left: 00:00:06 (Total: 00:00:10)\n",
      "35ogress: |██████████████████--------------------------------| 36.00% Complete     Run: 00:00:03; Left: 00:00:06 (Total: 00:00:10)\n",
      "36ogress: |██████████████████--------------------------------| 37.00% Complete     Run: 00:00:03; Left: 00:00:06 (Total: 00:00:10)\n",
      "37ogress: |███████████████████-------------------------------| 38.00% Complete     Run: 00:00:04; Left: 00:00:06 (Total: 00:00:10)\n",
      "38ogress: |███████████████████-------------------------------| 39.00% Complete     Run: 00:00:04; Left: 00:00:06 (Total: 00:00:10)\n",
      "39ogress: |████████████████████------------------------------| 40.00% Complete     Run: 00:00:04; Left: 00:00:06 (Total: 00:00:10)\n",
      "40ogress: |████████████████████------------------------------| 41.00% Complete     Run: 00:00:04; Left: 00:00:06 (Total: 00:00:10)\n",
      "41ogress: |█████████████████████-----------------------------| 42.00% Complete     Run: 00:00:04; Left: 00:00:06 (Total: 00:00:10)\n",
      "42ogress: |█████████████████████-----------------------------| 43.00% Complete     Run: 00:00:04; Left: 00:00:05 (Total: 00:00:10)\n",
      "43ogress: |██████████████████████----------------------------| 44.00% Complete     Run: 00:00:04; Left: 00:00:05 (Total: 00:00:10)\n",
      "44ogress: |██████████████████████----------------------------| 45.00% Complete     Run: 00:00:04; Left: 00:00:05 (Total: 00:00:10)\n",
      "45ogress: |███████████████████████---------------------------| 46.00% Complete     Run: 00:00:04; Left: 00:00:05 (Total: 00:00:10)\n",
      "46ogress: |███████████████████████---------------------------| 47.00% Complete     Run: 00:00:04; Left: 00:00:05 (Total: 00:00:10)\n",
      "47ogress: |████████████████████████--------------------------| 48.00% Complete     Run: 00:00:05; Left: 00:00:05 (Total: 00:00:10)\n",
      "48ogress: |████████████████████████--------------------------| 49.00% Complete     Run: 00:00:05; Left: 00:00:05 (Total: 00:00:10)\n",
      "49ogress: |█████████████████████████-------------------------| 50.00% Complete     Run: 00:00:05; Left: 00:00:05 (Total: 00:00:10)\n",
      "0rogress: |█████████████████████████-------------------------| 51.00% Complete     Run: 00:00:05; Left: 00:00:05 (Total: 00:00:10)\n",
      "1rogress: |██████████████████████████------------------------| 52.00% Complete     Run: 00:00:05; Left: 00:00:05 (Total: 00:00:10)\n",
      "2rogress: |██████████████████████████------------------------| 53.00% Complete     Run: 00:00:05; Left: 00:00:04 (Total: 00:00:10)\n",
      "3rogress: |███████████████████████████-----------------------| 54.00% Complete     Run: 00:00:05; Left: 00:00:04 (Total: 00:00:10)\n",
      "4rogress: |███████████████████████████-----------------------| 55.00% Complete     Run: 00:00:05; Left: 00:00:04 (Total: 00:00:10)\n",
      "5rogress: |████████████████████████████----------------------| 56.00% Complete     Run: 00:00:05; Left: 00:00:04 (Total: 00:00:10)\n",
      "6rogress: |████████████████████████████----------------------| 57.00% Complete     Run: 00:00:05; Left: 00:00:04 (Total: 00:00:10)\n",
      "7rogress: |█████████████████████████████---------------------| 58.00% Complete     Run: 00:00:06; Left: 00:00:04 (Total: 00:00:10)\n",
      "8rogress: |█████████████████████████████---------------------| 59.00% Complete     Run: 00:00:06; Left: 00:00:04 (Total: 00:00:10)\n",
      "9rogress: |██████████████████████████████--------------------| 60.00% Complete     Run: 00:00:06; Left: 00:00:04 (Total: 00:00:10)\n",
      "10ogress: |██████████████████████████████--------------------| 61.00% Complete     Run: 00:00:06; Left: 00:00:04 (Total: 00:00:10)\n",
      "11ogress: |███████████████████████████████-------------------| 62.00% Complete     Run: 00:00:06; Left: 00:00:03 (Total: 00:00:10)\n",
      "12ogress: |███████████████████████████████-------------------| 63.00% Complete     Run: 00:00:06; Left: 00:00:03 (Total: 00:00:10)\n",
      "13ogress: |████████████████████████████████------------------| 64.00% Complete     Run: 00:00:06; Left: 00:00:03 (Total: 00:00:10)\n",
      "14ogress: |████████████████████████████████------------------| 65.00% Complete     Run: 00:00:06; Left: 00:00:03 (Total: 00:00:10)\n"
     ]
    },
    {
     "name": "stdout",
     "output_type": "stream",
     "text": [
      "15ogress: |█████████████████████████████████-----------------| 66.00% Complete     Run: 00:00:06; Left: 00:00:03 (Total: 00:00:10)\n",
      "16ogress: |█████████████████████████████████-----------------| 67.00% Complete     Run: 00:00:07; Left: 00:00:03 (Total: 00:00:10)\n",
      "17ogress: |██████████████████████████████████----------------| 68.00% Complete     Run: 00:00:07; Left: 00:00:03 (Total: 00:00:10)\n",
      "18ogress: |██████████████████████████████████----------------| 69.00% Complete     Run: 00:00:07; Left: 00:00:03 (Total: 00:00:10)\n",
      "19ogress: |███████████████████████████████████---------------| 70.00% Complete     Run: 00:00:07; Left: 00:00:03 (Total: 00:00:10)\n",
      "20ogress: |███████████████████████████████████---------------| 71.00% Complete     Run: 00:00:07; Left: 00:00:03 (Total: 00:00:10)\n",
      "21ogress: |████████████████████████████████████--------------| 72.00% Complete     Run: 00:00:07; Left: 00:00:02 (Total: 00:00:10)\n",
      "22ogress: |████████████████████████████████████--------------| 73.00% Complete     Run: 00:00:07; Left: 00:00:02 (Total: 00:00:10)\n",
      "23ogress: |█████████████████████████████████████-------------| 74.00% Complete     Run: 00:00:07; Left: 00:00:02 (Total: 00:00:10)\n",
      "24ogress: |█████████████████████████████████████-------------| 75.00% Complete     Run: 00:00:07; Left: 00:00:02 (Total: 00:00:10)\n",
      "25ogress: |██████████████████████████████████████------------| 76.00% Complete     Run: 00:00:07; Left: 00:00:02 (Total: 00:00:10)\n",
      "26ogress: |██████████████████████████████████████------------| 77.00% Complete     Run: 00:00:08; Left: 00:00:02 (Total: 00:00:10)\n",
      "27ogress: |███████████████████████████████████████-----------| 78.00% Complete     Run: 00:00:08; Left: 00:00:02 (Total: 00:00:10)\n",
      "28ogress: |███████████████████████████████████████-----------| 79.00% Complete     Run: 00:00:08; Left: 00:00:02 (Total: 00:00:10)\n",
      "29ogress: |████████████████████████████████████████----------| 80.00% Complete     Run: 00:00:08; Left: 00:00:02 (Total: 00:00:10)\n",
      "30ogress: |████████████████████████████████████████----------| 81.00% Complete     Run: 00:00:08; Left: 00:00:01 (Total: 00:00:10)\n",
      "31ogress: |█████████████████████████████████████████---------| 82.00% Complete     Run: 00:00:08; Left: 00:00:01 (Total: 00:00:10)\n",
      "32ogress: |█████████████████████████████████████████---------| 83.00% Complete     Run: 00:00:08; Left: 00:00:01 (Total: 00:00:10)\n",
      "33ogress: |██████████████████████████████████████████--------| 84.00% Complete     Run: 00:00:08; Left: 00:00:01 (Total: 00:00:10)\n",
      "34ogress: |██████████████████████████████████████████--------| 85.00% Complete     Run: 00:00:08; Left: 00:00:01 (Total: 00:00:10)\n",
      "35ogress: |███████████████████████████████████████████-------| 86.00% Complete     Run: 00:00:08; Left: 00:00:01 (Total: 00:00:10)\n",
      "36ogress: |███████████████████████████████████████████-------| 87.00% Complete     Run: 00:00:09; Left: 00:00:01 (Total: 00:00:10)\n",
      "37ogress: |████████████████████████████████████████████------| 88.00% Complete     Run: 00:00:09; Left: 00:00:01 (Total: 00:00:10)\n",
      "38ogress: |████████████████████████████████████████████------| 89.00% Complete     Run: 00:00:09; Left: 00:00:01 (Total: 00:00:10)\n",
      "39ogress: |█████████████████████████████████████████████-----| 90.00% Complete     Run: 00:00:09; Left: 00:00:01 (Total: 00:00:10)\n",
      "40ogress: |█████████████████████████████████████████████-----| 91.00% Complete     Run: 00:00:09; Left: 00:00:00 (Total: 00:00:10)\n",
      "41ogress: |██████████████████████████████████████████████----| 92.00% Complete     Run: 00:00:09; Left: 00:00:00 (Total: 00:00:10)\n",
      "42ogress: |██████████████████████████████████████████████----| 93.00% Complete     Run: 00:00:09; Left: 00:00:00 (Total: 00:00:10)\n",
      "43ogress: |███████████████████████████████████████████████---| 94.00% Complete     Run: 00:00:09; Left: 00:00:00 (Total: 00:00:10)\n",
      "44ogress: |███████████████████████████████████████████████---| 95.00% Complete     Run: 00:00:09; Left: 00:00:00 (Total: 00:00:10)\n",
      "45ogress: |████████████████████████████████████████████████--| 96.00% Complete     Run: 00:00:09; Left: 00:00:00 (Total: 00:00:10)\n",
      "46ogress: |████████████████████████████████████████████████--| 97.00% Complete     Run: 00:00:10; Left: 00:00:00 (Total: 00:00:10)\n",
      "47ogress: |█████████████████████████████████████████████████-| 98.00% Complete     Run: 00:00:10; Left: 00:00:00 (Total: 00:00:10)\n",
      "48ogress: |█████████████████████████████████████████████████-| 99.00% Complete     Run: 00:00:10; Left: 00:00:00 (Total: 00:00:10)\n",
      "Progress: |██████████████████████████████████████████████████| 100.00% Complete     Run: 00:00:10; Left: 00:00:00 (Total: 00:00:10)\n",
      "49\n",
      "\n",
      "The time cost is 00:00:10\n",
      "The mean value of beta with various regulation coefficients anddifferent training samples are:\n",
      "[0.21544347 1.77827941]\n",
      "The value of BETA should be  3.0204805898002562\n"
     ]
    },
    {
     "data": {
      "text/plain": [
       "<matplotlib.legend.Legend at 0x1a24e06d68>"
      ]
     },
     "execution_count": 82,
     "metadata": {},
     "output_type": "execute_result"
    },
    {
     "data": {
      "image/png": "[encoded data removed]",
      "text/plain": [
       "<Figure size 432x288 with 1 Axes>"
      ]
     },
     "metadata": {
      "needs_background": "light"
     },
     "output_type": "display_data"
    },
    {
     "data": {
      "image/png": "[encoded data removed]",
      "text/plain": [
       "<Figure size 432x288 with 1 Axes>"
      ]
     },
     "metadata": {
      "needs_background": "light"
     },
     "output_type": "display_data"
    }
   ],
   "source": [
    "def train_model(degree, beta, random_int, rep=True):\n",
    "#     print(f'Loop {i}-{index}-{j} is running...\\n')\n",
    "    \n",
    "    # Split into train set and cv set\n",
    "    if rep==True:\n",
    "        train=tcv.sample(frac=0.75, random_state = random_int)\n",
    "        cv=tcv.drop(train.index)\n",
    "    else:\n",
    "        train=tcv.sample(frac=0.75) \n",
    "        cv=tcv.drop(train.index)\n",
    "        \n",
    "    train_data=hc.data(train.loc[:,['V','T']], degree=degree, method ='std')\n",
    "    train_unc=train.uncertainty.values\n",
    "    train_J=train.J.values\n",
    "\n",
    "    cv_data=hc.data(cv.loc[:,['V','T']], degree=degree, method ='std')\n",
    "    cv_unc=cv.uncertainty.values\n",
    "    cv_J=cv.J.values\n",
    "\n",
    "    theta_reg=hf.normalRegEq(train_data.norm, train_J, beta)\n",
    "    error_train_reg_smpl=hf.computeCost(train_data.norm, train_J, theta_reg)\n",
    "    error_cv_reg_smpl=hf.computeCost(cv_data.norm, cv_J, theta_reg)\n",
    "    return error_train_reg_smpl, error_cv_reg_smpl\n",
    "    \n",
    "#   print(f'Loop {i}-{index}-{j} ended.\\n')\n",
    "\n",
    "\n",
    "def beta_loop(beta_num, epoch, beta_range, degree, rep=True):\n",
    "    # theta_reg_multismpl=np.zeros((epoch, featureSize))\n",
    "    error_train_reg_multismpl=np.zeros(epoch)\n",
    "    error_cv_reg_multismpl=np.zeros(epoch)\n",
    "    error_train_reg_multibeta=np.zeros((beta_num, len(beta_range)))\n",
    "    error_cv_reg_multibeta=np.zeros((beta_num, len(beta_range)))\n",
    "    beta_array=np.zeros(beta_num)\n",
    "    # Initial call to print 0% progress\n",
    "    total=beta_num*len(beta_range)\n",
    "    pbar=progressBar(total, prefix = 'Progress:', suffix = 'Complete', decimals = 2, length = 50)\n",
    "    tm=timer(total)\n",
    "    \n",
    "    # Calculate beta multiple times and find the mean value of them as best beta\n",
    "    for i in range(0,beta_num): \n",
    "        \n",
    "        # Get beta_best by find the minimum error_cv_reg\n",
    "        for index, beta in enumerate(beta_range):\n",
    "            \n",
    "            # Calculate the mean value of error_cv_reg with differet sets of train data samples\n",
    "            for j in range(0,epoch,1):\n",
    "                random_int=int((157*j+71*i)/3)\n",
    "                error_train_reg_multismpl[j], error_cv_reg_multismpl[j]=train_model(degree, beta, \n",
    "                                                                                    random_int, rep)\n",
    "            # show the progess and timer\n",
    "            iteration=i*len(beta_range)+index+1\n",
    "            s1=pbar.update(iteration, ToPrint=False)\n",
    "            s2=tm.update(iteration,ToPrint=False)\n",
    "            print('\\r'+s1+\" \"*5+s2,end='\\r')\n",
    "            if iteration==total:\n",
    "                print()\n",
    "            \n",
    "            error_train_reg_multibeta[i, index] = error_train_reg_multismpl.sum(0)/epoch\n",
    "            error_cv_reg_multibeta[i, index] = error_cv_reg_multismpl.sum(0)/epoch\n",
    "                                \n",
    "        error_train_reg=error_train_reg_multibeta.mean(0)\n",
    "        error_cv_reg=error_cv_reg_multibeta.mean(0)\n",
    "        idx=error_cv_reg.argmin()\n",
    "        beta_array[i] = beta_range[idx]\n",
    "                               \n",
    "    return beta_array, error_train_reg, error_cv_reg\n",
    "\n"
   ]
  },
  {
   "cell_type": "markdown",
   "metadata": {},
   "source": [
    "### Example to find best regulation coefficient"
   ]
  },
  {
   "cell_type": "code",
   "execution_count": null,
   "metadata": {},
   "outputs": [],
   "source": [
    "degree_range=list(range(1,5))\n",
    "featureSize=test_data.norm.shape[1]\n",
    "beta_range=np.geomspace(0.001,10, num = 50-1, endpoint = True, dtype=np.float64)\n",
    "beta_range=np.insert(beta_range,0,0) # insert a zero element in the first index\n",
    "                      \n",
    "\n",
    "# Calculate the beta array\n",
    "t_start=time.time()\n",
    "beta_array, error_train_reg, error_cv_reg=beta_loop(2, 20, beta_range, degree=2)\n",
    "t_end=time.time()\n",
    "print(f'\\nThe time cost is {hf.formatTime(t_end-t_start)}',end='\\n')\n",
    "\n",
    "print(f'The mean value of beta with various regulation coefficients and'+ \n",
    "      f'different training samples are:\\n{beta_array}')\n",
    "\n",
    "print('The value of BETA should be ', beta_best.mean())\n",
    "# print('The test error with best THETA and BETA is ', error_test_reg)\n",
    "\n",
    "# log-scale plot error vs. beta\n",
    "plt.figure()\n",
    "plt.semilogx(beta_range, error_train_reg, label = 'Train error')\n",
    "plt.semilogx(beta_range, error_cv_reg, label = 'Val error')\n",
    "plt.xlabel('regulization coefficient (beta)')\n",
    "plt.ylabel('error')\n",
    "plt.legend()\n",
    "\n",
    "# plot error vs. beta\n",
    "plt.figure()\n",
    "plt.plot(beta_range, error_train_reg, label = 'Train error')\n",
    "plt.plot(beta_range, error_cv_reg, label = 'Val error')\n",
    "plt.xlabel('regulization coefficient (beta)')\n",
    "plt.ylabel('error')\n",
    "plt.legend()"
   ]
  },
  {
   "cell_type": "markdown",
   "metadata": {},
   "source": [
    "# Prediction"
   ]
  },
  {
   "cell_type": "code",
   "execution_count": 50,
   "metadata": {
    "ExecuteTime": {
     "end_time": "2018-11-30T16:02:21.803855Z",
     "start_time": "2018-11-30T16:02:21.329131Z"
    }
   },
   "outputs": [
    {
     "data": {
      "text/plain": [
       "1.5102402949001281"
      ]
     },
     "execution_count": 50,
     "metadata": {},
     "output_type": "execute_result"
    }
   ],
   "source": [
    "beta_array.mean()"
   ]
  },
  {
   "cell_type": "code",
   "execution_count": 80,
   "metadata": {
    "ExecuteTime": {
     "end_time": "2018-12-01T06:12:06.814816Z",
     "start_time": "2018-12-01T06:12:06.276775Z"
    }
   },
   "outputs": [
    {
     "data": {
      "text/plain": [
       "50"
      ]
     },
     "execution_count": 80,
     "metadata": {},
     "output_type": "execute_result"
    }
   ],
   "source": [
    "len(beta_range)"
   ]
  },
  {
   "cell_type": "code",
   "execution_count": null,
   "metadata": {},
   "outputs": [],
   "source": [
    "print(t.array)"
   ]
  },
  {
   "cell_type": "code",
   "execution_count": null,
   "metadata": {},
   "outputs": [],
   "source": [
    "t.polyFeature(2)\n",
    "t.array.shape"
   ]
  },
  {
   "cell_type": "code",
   "execution_count": null,
   "metadata": {},
   "outputs": [],
   "source": [
    "type(theta_reg)"
   ]
  },
  {
   "cell_type": "code",
   "execution_count": 54,
   "metadata": {
    "ExecuteTime": {
     "end_time": "2018-12-01T03:15:54.128611Z",
     "start_time": "2018-12-01T03:15:53.629533Z"
    }
   },
   "outputs": [
    {
     "data": {
      "text/plain": [
       "[1, 2, 3, 4]"
      ]
     },
     "execution_count": 54,
     "metadata": {},
     "output_type": "execute_result"
    }
   ],
   "source": [
    "list(range(1,5))"
   ]
  },
  {
   "cell_type": "code",
   "execution_count": null,
   "metadata": {},
   "outputs": [],
   "source": []
  }
 ],
 "metadata": {
  "kernelspec": {
   "display_name": "Python [conda env:NUSworkshop]",
   "language": "python",
   "name": "conda-env-NUSworkshop-py"
  },
  "latex_envs": {
   "LaTeX_envs_menu_present": true,
   "autoclose": false,
   "autocomplete": true,
   "bibliofile": "biblio.bib",
   "cite_by": "apalike",
   "current_citInitial": 1,
   "eqLabelWithNumbers": true,
   "eqNumInitial": 1,
   "hotkeys": {
    "equation": "Ctrl-E",
    "itemize": "Ctrl-I"
   },
   "labels_anchors": false,
   "latex_user_defs": false,
   "report_style_numbering": false,
   "user_envs_cfg": false
  },
  "varInspector": {
   "cols": {
    "lenName": 16,
    "lenType": 16,
    "lenVar": 40
   },
   "kernels_config": {
    "python": {
     "delete_cmd_postfix": "",
     "delete_cmd_prefix": "del ",
     "library": "var_list.py",
     "varRefreshCmd": "print(var_dic_list())"
    },
    "r": {
     "delete_cmd_postfix": ") ",
     "delete_cmd_prefix": "rm(",
     "library": "var_list.r",
     "varRefreshCmd": "cat(var_dic_list()) "
    }
   },
   "types_to_exclude": [
    "module",
    "function",
    "builtin_function_or_method",
    "instance",
    "_Feature"
   ],
   "window_display": false
  }
 },
 "nbformat": 4,
 "nbformat_minor": 2
}
