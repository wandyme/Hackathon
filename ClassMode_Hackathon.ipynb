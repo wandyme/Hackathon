{
 "cells": [
  {
   "cell_type": "markdown",
   "metadata": {},
   "source": [
    "# Preload libraries and functions\n",
    "First of all, let's import libraries that will be used in this example"
   ]
  },
  {
   "cell_type": "code",
   "execution_count": 85,
   "metadata": {
    "ExecuteTime": {
     "end_time": "2018-12-02T15:21:48.709118Z",
     "start_time": "2018-12-02T15:21:43.708387Z"
    }
   },
   "outputs": [],
   "source": [
    "# clear all variants\n",
    "# %reset -f   \n",
    "\n",
    "# Autoreload the customize modules.\n",
    "%reload_ext autoreload\n",
    "# Or load_ext autoreload for the first run\n",
    "# %aimport\n",
    "%autoreload 2\n",
    "\n",
    "import pandas as pd\n",
    "import numpy as np\n",
    "import matplotlib.pyplot as plt\n",
    "import time, os\n",
    "\n",
    "\n",
    "# import tensorflow as tf\n",
    "# from tensorflow import keras\n",
    "\n",
    "import HackModules.HackClasses as hc\n",
    "import HackModules.HackFunctions as hf\n",
    "from HackModules.progressMonitor import progressBar\n",
    "from HackModules.progressMonitor import timer\n",
    "\n",
    "#matplot inline\n",
    "# np.set_printoptions(precision=8)\n",
    "\n",
    "# help(hc) # To test the docstrings ((TBDBS To be deleted before submission))\n",
    "\n",
    "# Alternative customize module import method\n",
    "# import sys, os\n",
    "# sys.path.append(os.getcwd()+'/HackModules/') # add /HackModules to the path\n",
    "# import HackClasses as hc\n"
   ]
  },
  {
   "cell_type": "markdown",
   "metadata": {},
   "source": [
    "Define some seldom used functions and class"
   ]
  },
  {
   "cell_type": "markdown",
   "metadata": {},
   "source": [
    "# Data Import and Initialization"
   ]
  },
  {
   "cell_type": "code",
   "execution_count": 86,
   "metadata": {
    "ExecuteTime": {
     "end_time": "2018-12-02T15:22:04.419162Z",
     "start_time": "2018-12-02T15:21:58.958214Z"
    },
    "scrolled": true
   },
   "outputs": [
    {
     "name": "stdout",
     "output_type": "stream",
     "text": [
      "         V    T  uncertainty             J\n",
      "0     0.00  100     0.001000  0.000000e+00\n",
      "1     0.05  100     0.001000  6.417136e-90\n",
      "2     0.10  100     0.001000  1.081096e-88\n",
      "3     0.15  100     0.001000  1.719633e-87\n",
      "4     0.20  100     0.001000  2.725747e-86\n",
      "5     0.25  100     0.001000  4.319561e-85\n",
      "6     0.30  100     0.001000  6.845225e-84\n",
      "7     0.35  100     0.001000  1.084764e-82\n",
      "8     0.40  100     0.001000  1.719028e-81\n",
      "9     0.45  100     0.001000  2.724148e-80\n",
      "10    0.50  100     0.001000  4.316963e-79\n",
      "11    0.55  100     0.001000  6.841100e-78\n",
      "12    0.60  100     0.001000  1.084111e-76\n",
      "13    0.65  100     0.001000  1.717992e-75\n",
      "14    0.70  100     0.001000  2.722506e-74\n",
      "15    0.75  100     0.001000  4.314361e-73\n",
      "16    0.80  100     0.001000  6.836977e-72\n",
      "17    0.85  100     0.001000  1.083457e-70\n",
      "18    0.90  100     0.001000  1.716957e-69\n",
      "19    0.95  100     0.001000  2.720865e-68\n",
      "20    1.00  100     0.001000  4.311761e-67\n",
      "21    1.05  100     0.001000  6.832857e-66\n",
      "22    1.10  100     0.001000  1.082804e-64\n",
      "23    1.15  100     0.001000  1.715922e-63\n",
      "24    1.20  100     0.001000  2.719226e-62\n",
      "25    1.25  100     0.001000  4.309163e-61\n",
      "26    1.30  100     0.001000  6.828740e-60\n",
      "27    1.35  100     0.001000  1.082152e-58\n",
      "28    1.40  100     0.001000  1.714888e-57\n",
      "29    1.45  100     0.001000  2.717587e-56\n",
      "...    ...  ...          ...           ...\n",
      "7864  0.85  690     0.000175  1.752349e-01\n",
      "7865  0.90  690     0.000262  2.616283e-01\n",
      "7866  0.95  690     0.000391  3.905678e-01\n",
      "7867  1.00  690     0.000583  5.830060e-01\n",
      "7868  1.05  690     0.000870  8.702142e-01\n",
      "7869  1.10  690     0.001299  1.298864e+00\n",
      "7870  1.15  690     0.001939  1.938610e+00\n",
      "7871  0.00  700     0.001000  0.000000e+00\n",
      "7872  0.05  700     0.001000  1.566676e-04\n",
      "7873  0.10  700     0.001000  3.891554e-04\n",
      "7874  0.15  700     0.001000  7.341572e-04\n",
      "7875  0.20  700     0.001000  1.246125e-03\n",
      "7876  0.25  700     0.001000  2.005862e-03\n",
      "7877  0.30  700     0.001000  3.133279e-03\n",
      "7878  0.35  700     0.001000  4.806317e-03\n",
      "7879  0.40  700     0.001000  7.289032e-03\n",
      "7880  0.45  700     0.001000  1.097327e-02\n",
      "7881  0.50  700     0.001000  1.644052e-02\n",
      "7882  0.55  700     0.001000  2.455368e-02\n",
      "7883  0.60  700     0.001000  3.659326e-02\n",
      "7884  0.65  700     0.001000  5.445946e-02\n",
      "7885  0.70  700     0.001000  8.097212e-02\n",
      "7886  0.75  700     0.000120  1.203158e-01\n",
      "7887  0.80  700     0.000179  1.787000e-01\n",
      "7888  0.85  700     0.000265  2.653396e-01\n",
      "7889  0.90  700     0.000394  3.939090e-01\n",
      "7890  0.95  700     0.000585  5.847005e-01\n",
      "7891  1.00  700     0.000868  8.678265e-01\n",
      "7892  1.05  700     0.001288  1.287973e+00\n",
      "7893  1.10  700     0.001911  1.911453e+00\n",
      "\n",
      "[7894 rows x 4 columns]\n"
     ]
    }
   ],
   "source": [
    "df = pd.read_excel('obs_data_w.xlsx', sheet_name=0) #sheet_name='Sheet1')\n",
    "print(df)"
   ]
  },
  {
   "cell_type": "markdown",
   "metadata": {},
   "source": [
    "## Train, cross validation and test data"
   ]
  },
  {
   "cell_type": "markdown",
   "metadata": {},
   "source": [
    "### Random Method 1: Sample function of df"
   ]
  },
  {
   "cell_type": "code",
   "execution_count": 87,
   "metadata": {
    "ExecuteTime": {
     "end_time": "2018-12-02T15:22:22.306541Z",
     "start_time": "2018-12-02T15:22:17.607863Z"
    }
   },
   "outputs": [
    {
     "name": "stdout",
     "output_type": "stream",
     "text": [
      "(1579, 4)\n"
     ]
    }
   ],
   "source": [
    "tcv=df.sample(frac=0.8) # random_state=200\n",
    "test=df.drop(tcv.index)\n",
    "test=test.sample(frac=1) # shuffle the rows\n",
    "\n",
    "print(test.shape)"
   ]
  },
  {
   "cell_type": "markdown",
   "metadata": {
    "heading_collapsed": true
   },
   "source": [
    "### Random Method 2: random array"
   ]
  },
  {
   "cell_type": "code",
   "execution_count": null,
   "metadata": {
    "hidden": true
   },
   "outputs": [],
   "source": [
    "# idx=np.arange(0,len(df))\n",
    "# np.random.shuffle(idx)\n",
    "# temp_split=math.floor(0.8*len(df))\n",
    "# #idx[0:20]\n",
    "# train=df.iloc[idx[0:temp_split],:]\n",
    "# test=df.iloc[idx[temp_split:],:] # Output all the elements after temp_split\n",
    "# print(train.shape)\n",
    "# print(test.shape)"
   ]
  },
  {
   "cell_type": "markdown",
   "metadata": {},
   "source": [
    "## Split test data into data and results, add polynominal features and normalize them."
   ]
  },
  {
   "cell_type": "code",
   "execution_count": 88,
   "metadata": {
    "ExecuteTime": {
     "end_time": "2018-12-02T15:22:37.319694Z",
     "start_time": "2018-12-02T15:22:32.389227Z"
    }
   },
   "outputs": [
    {
     "name": "stdout",
     "output_type": "stream",
     "text": [
      "The polynominal degree is 2.\n",
      "\n",
      "Polynominal test data = \n",
      " [[2.3000e+00 1.3300e+02 5.2900e+00 3.0590e+02 1.7689e+04]\n",
      " [2.3500e+00 1.7600e+02 5.5225e+00 4.1360e+02 3.0976e+04]\n",
      " [5.5000e-01 1.8700e+02 3.0250e-01 1.0285e+02 3.4969e+04]\n",
      " ...\n",
      " [3.5000e+00 1.1300e+02 1.2250e+01 3.9550e+02 1.2769e+04]\n",
      " [3.0000e-01 1.3300e+02 9.0000e-02 3.9900e+01 1.7689e+04]\n",
      " [1.9500e+00 1.6900e+02 3.8025e+00 3.2955e+02 2.8561e+04]] \n",
      "\n",
      "Normalized test_data = \n",
      " [[ 1.          0.59784659 -0.41218877  0.36722594  0.16529351 -0.34830686]\n",
      " [ 1.          0.64594604 -0.07081651  0.42856449  0.75664985 -0.20534948]\n",
      " [ 1.         -1.0856341   0.01651128 -0.9485848  -0.94960813 -0.16238802]\n",
      " ...\n",
      " [ 1.          1.75223335 -0.57096656  2.20342499  0.65726684 -0.40124209]\n",
      " [ 1.         -1.32613134 -0.41218877 -1.00464691 -1.29525234 -0.34830686]\n",
      " [ 1.          0.26115046 -0.12638873 -0.02520884  0.29515031 -0.23133292]] \n",
      "\n"
     ]
    }
   ],
   "source": [
    "test_data=test.loc[:,['V','T']]\n",
    "test_unc=test.uncertainty.values\n",
    "test_J=test.J.values\n",
    "\n",
    "degree = 2\n",
    "test_data=hc.data(test_data,degree=degree,method='std')\n",
    "\n",
    "print(f'The polynominal degree is {degree}.\\n')\n",
    "print('Polynominal test data = \\n', test_data.poly, '\\n')\n",
    "print('Normalized test_data = \\n', test_data.norm, '\\n')"
   ]
  },
  {
   "cell_type": "markdown",
   "metadata": {},
   "source": [
    "# Model Training"
   ]
  },
  {
   "cell_type": "markdown",
   "metadata": {},
   "source": [
    "## Method 1: Normal Equation"
   ]
  },
  {
   "cell_type": "markdown",
   "metadata": {},
   "source": [
    "### Training with regulation"
   ]
  },
  {
   "cell_type": "markdown",
   "metadata": {},
   "source": [
    "### Example to find best regulation coefficient"
   ]
  },
  {
   "cell_type": "code",
   "execution_count": 89,
   "metadata": {
    "ExecuteTime": {
     "end_time": "2018-12-02T15:23:39.192678Z",
     "start_time": "2018-12-02T15:22:47.462715Z"
    }
   },
   "outputs": [
    {
     "name": "stdout",
     "output_type": "stream",
     "text": [
      "Progress: |██████████████████████████████████████████████████| 100.00% Complete     Run: 00:00:46; Left: 00:00:00 (Total: 00:00:46)\n",
      "\n",
      "The time cost is 00:00:46\n",
      "The mean value of beta with various regulation coefficients anddifferent training samples are:\n",
      "[1.35031404 2.01533769 1.35031404 1.35031404 1.35031404]\n",
      "The value of BETA should be  1.4833187674842443\n"
     ]
    },
    {
     "data": {
      "text/plain": [
       "<matplotlib.legend.Legend at 0x1a14e803b38>"
      ]
     },
     "execution_count": 89,
     "metadata": {},
     "output_type": "execute_result"
    },
    {
     "data": {
      "image/png": "[encoded data removed]",
      "text/plain": [
       "<Figure size 432x288 with 1 Axes>"
      ]
     },
     "metadata": {
      "needs_background": "light"
     },
     "output_type": "display_data"
    },
    {
     "data": {
      "image/png": "[encoded data removed]",
      "text/plain": [
       "<Figure size 432x288 with 1 Axes>"
      ]
     },
     "metadata": {
      "needs_background": "light"
     },
     "output_type": "display_data"
    }
   ],
   "source": [
    "degree_range=list(range(1,5))\n",
    "# featureSize=test_data.norm.shape[1]\n",
    "beta_range=np.geomspace(0.001,10, num = 25-1, endpoint = True, dtype=np.float64)\n",
    "beta_range=np.insert(beta_range,0,0) # insert a zero element in the first index\n",
    "                      \n",
    "\n",
    "# Calculate the beta array\n",
    "t_start=time.time()\n",
    "beta_array, error_train_reg, error_cv_reg=hf.beta_loop(tcv, beta_num=5, epoch=50, beta_range=beta_range, degree=2, \n",
    "                                                    rep=True, multiprocess='OFF', cpu_num=60)\n",
    "t_end=time.time()\n",
    "print(f'\\nThe time cost is {hf.formatTime(t_end-t_start)}',end='\\n')\n",
    "\n",
    "print(f'The mean value of beta with various regulation coefficients and'+ \n",
    "      f'different training samples are:\\n{beta_array}')\n",
    "\n",
    "print('The value of BETA should be ', beta_array.mean())\n",
    "# print('The test error with best THETA and BETA is ', error_test_reg)\n",
    "\n",
    "# log-scale plot error vs. beta\n",
    "plt.figure()\n",
    "plt.semilogx(beta_range, error_train_reg, label = 'Train error')\n",
    "plt.semilogx(beta_range, error_cv_reg, label = 'Val error')\n",
    "plt.xlabel('regulization coefficient (beta)')\n",
    "plt.ylabel('error')\n",
    "plt.legend()\n",
    "\n",
    "# plot error vs. beta\n",
    "plt.figure()\n",
    "plt.plot(beta_range, error_train_reg, label = 'Train error')\n",
    "plt.plot(beta_range, error_cv_reg, label = 'Val error')\n",
    "plt.xlabel('regulization coefficient (beta)')\n",
    "plt.ylabel('error')\n",
    "plt.legend()"
   ]
  },
  {
   "cell_type": "markdown",
   "metadata": {},
   "source": [
    "# Prediction"
   ]
  },
  {
   "cell_type": "code",
   "execution_count": 50,
   "metadata": {
    "ExecuteTime": {
     "end_time": "2018-11-30T16:02:21.803855Z",
     "start_time": "2018-11-30T16:02:21.329131Z"
    }
   },
   "outputs": [
    {
     "data": {
      "text/plain": [
       "1.5102402949001281"
      ]
     },
     "execution_count": 50,
     "metadata": {},
     "output_type": "execute_result"
    }
   ],
   "source": [
    "beta_array.mean()"
   ]
  },
  {
   "cell_type": "code",
   "execution_count": 80,
   "metadata": {
    "ExecuteTime": {
     "end_time": "2018-12-01T06:12:06.814816Z",
     "start_time": "2018-12-01T06:12:06.276775Z"
    }
   },
   "outputs": [
    {
     "data": {
      "text/plain": [
       "50"
      ]
     },
     "execution_count": 80,
     "metadata": {},
     "output_type": "execute_result"
    }
   ],
   "source": [
    "len(beta_range)"
   ]
  },
  {
   "cell_type": "code",
   "execution_count": null,
   "metadata": {},
   "outputs": [],
   "source": [
    "print(t.array)"
   ]
  },
  {
   "cell_type": "code",
   "execution_count": null,
   "metadata": {},
   "outputs": [],
   "source": [
    "t.polyFeature(2)\n",
    "t.array.shape"
   ]
  },
  {
   "cell_type": "code",
   "execution_count": null,
   "metadata": {},
   "outputs": [],
   "source": [
    "type(theta_reg)"
   ]
  },
  {
   "cell_type": "code",
   "execution_count": 54,
   "metadata": {
    "ExecuteTime": {
     "end_time": "2018-12-01T03:15:54.128611Z",
     "start_time": "2018-12-01T03:15:53.629533Z"
    }
   },
   "outputs": [
    {
     "data": {
      "text/plain": [
       "[1, 2, 3, 4]"
      ]
     },
     "execution_count": 54,
     "metadata": {},
     "output_type": "execute_result"
    }
   ],
   "source": [
    "list(range(1,5))"
   ]
  },
  {
   "cell_type": "code",
   "execution_count": 18,
   "metadata": {
    "ExecuteTime": {
     "end_time": "2018-12-02T13:36:40.252627Z",
     "start_time": "2018-12-02T13:36:39.685075Z"
    }
   },
   "outputs": [
    {
     "data": {
      "text/plain": [
       "64"
      ]
     },
     "execution_count": 18,
     "metadata": {},
     "output_type": "execute_result"
    }
   ],
   "source": [
    "os.cpu_count()"
   ]
  },
  {
   "cell_type": "code",
   "execution_count": null,
   "metadata": {},
   "outputs": [],
   "source": []
  }
 ],
 "metadata": {
  "kernelspec": {
   "display_name": "Python 3",
   "language": "python",
   "name": "python3"
  },
  "language_info": {
   "codemirror_mode": {
    "name": "ipython",
    "version": 3
   },
   "file_extension": ".py",
   "mimetype": "text/x-python",
   "name": "python",
   "nbconvert_exporter": "python",
   "pygments_lexer": "ipython3",
   "version": "3.6.6"
  },
  "latex_envs": {
   "LaTeX_envs_menu_present": true,
   "autoclose": false,
   "autocomplete": true,
   "bibliofile": "biblio.bib",
   "cite_by": "apalike",
   "current_citInitial": 1,
   "eqLabelWithNumbers": true,
   "eqNumInitial": 1,
   "hotkeys": {
    "equation": "Ctrl-E",
    "itemize": "Ctrl-I"
   },
   "labels_anchors": false,
   "latex_user_defs": false,
   "report_style_numbering": false,
   "user_envs_cfg": false
  },
  "varInspector": {
   "cols": {
    "lenName": 16,
    "lenType": 16,
    "lenVar": 40
   },
   "kernels_config": {
    "python": {
     "delete_cmd_postfix": "",
     "delete_cmd_prefix": "del ",
     "library": "var_list.py",
     "varRefreshCmd": "print(var_dic_list())"
    },
    "r": {
     "delete_cmd_postfix": ") ",
     "delete_cmd_prefix": "rm(",
     "library": "var_list.r",
     "varRefreshCmd": "cat(var_dic_list()) "
    }
   },
   "types_to_exclude": [
    "module",
    "function",
    "builtin_function_or_method",
    "instance",
    "_Feature"
   ],
   "window_display": false
  }
 },
 "nbformat": 4,
 "nbformat_minor": 2
}
