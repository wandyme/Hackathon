{
 "cells": [
  {
   "cell_type": "markdown",
   "metadata": {},
   "source": [
    "# Preload libraries and functions\n",
    "First of all, let's import libraries that will be used in this example"
   ]
  },
  {
   "cell_type": "code",
   "execution_count": 34,
   "metadata": {
    "ExecuteTime": {
     "end_time": "2018-11-28T16:43:37.245126Z",
     "start_time": "2018-11-28T16:43:37.238659Z"
    }
   },
   "outputs": [],
   "source": [
    "import pandas as pd\n",
    "import numpy as np\n",
    "from sklearn import preprocessing as prep\n",
    "import threading as thrd\n",
    "import time\n",
    "import multiprocessing as mp\n",
    "from multiprocessing import Pool\n",
    "\n",
    "import matplotlib.pyplot as plt\n",
    "# import tensorflow as tf\n",
    "# from tensorflow import keras\n",
    "#matplot inline\n",
    "\n",
    "\n",
    "# np.set_printoptions(precision=8)"
   ]
  },
  {
   "cell_type": "markdown",
   "metadata": {},
   "source": [
    "Define functions and class"
   ]
  },
  {
   "cell_type": "code",
   "execution_count": 6,
   "metadata": {
    "ExecuteTime": {
     "end_time": "2018-11-28T13:43:54.916069Z",
     "start_time": "2018-11-28T13:43:54.899737Z"
    }
   },
   "outputs": [],
   "source": [
    "class MethodException(Exception):\n",
    "    def __init__(self, msg, value):\n",
    "        self.msg=msg\n",
    "        self.value=value\n",
    "        \n",
    "# def PolynomialFeature\n",
    "def polyFeature(X, degree=2):\n",
    "    poly = prep.PolynomialFeatures(degree,include_bias = False)\n",
    "    polyArray = poly.fit_transform(X)\n",
    "    return polyArray\n",
    "\n",
    "def normalizeFeature(X, method):\n",
    "    try:\n",
    "        if X.ndim == 1:  # Reshape the 1d array\n",
    "            X=np.reshape(X,(-1,1))\n",
    "        X_norm=np.ones((X.shape[0],X.shape[1]+1), dtype=np.float64)\n",
    "        if method == 'std':\n",
    "            X_norm[:,1:]=(X-X.mean(0))/X.std(0)     \n",
    "        elif method == 'range':\n",
    "            X_norm[:,1:]=(X-X.min(0))/(X.max(0)-X.min(0))\n",
    "        else:\n",
    "            raise MethodException('method should be either \\'std\\' or \\'range\\'(case sensitive)', method)\n",
    "    except MethodException as ex:\n",
    "        print(f'The error is: {ex.msg}, here the input method is \\'{ex.value}\\'')\n",
    "    else:\n",
    "        return X_norm\n",
    "\n",
    "# cost (error) function\n",
    "def computeCost(X, y, theta):\n",
    "    inner = np.power(((X @ theta.T) - y), 2)\n",
    "    return np.sum(inner) / (2 * len(X))\n",
    "\n",
    "# normal equation\n",
    "def normalEq(X,y):\n",
    "    theta=np.linalg.pinv(X.T@X)@X.T@y\n",
    "    return theta\n",
    "\n",
    "# normal equation with regulization\n",
    "def normalRegEq(X,y,beta):\n",
    "    L=np.eye(X.shape[1])\n",
    "    L[0,0]=0\n",
    "    theta=np.linalg.inv(X.T@X+beta*L)@X.T@y\n",
    "    return theta\n",
    "    \n",
    "# def linearRegCostFunction(X, y, theta, reg):\n"
   ]
  },
  {
   "cell_type": "markdown",
   "metadata": {},
   "source": [
    "# Data Import and Initialization"
   ]
  },
  {
   "cell_type": "code",
   "execution_count": 7,
   "metadata": {
    "ExecuteTime": {
     "end_time": "2018-11-28T13:43:59.968232Z",
     "start_time": "2018-11-28T13:43:59.424176Z"
    }
   },
   "outputs": [
    {
     "name": "stdout",
     "output_type": "stream",
     "text": [
      "         V    T  uncertainty             J\n",
      "0     0.00  100     0.001000  0.000000e+00\n",
      "1     0.05  100     0.001000  6.417136e-90\n",
      "2     0.10  100     0.001000  1.081096e-88\n",
      "3     0.15  100     0.001000  1.719633e-87\n",
      "4     0.20  100     0.001000  2.725747e-86\n",
      "5     0.25  100     0.001000  4.319561e-85\n",
      "6     0.30  100     0.001000  6.845225e-84\n",
      "7     0.35  100     0.001000  1.084764e-82\n",
      "8     0.40  100     0.001000  1.719028e-81\n",
      "9     0.45  100     0.001000  2.724148e-80\n",
      "10    0.50  100     0.001000  4.316963e-79\n",
      "11    0.55  100     0.001000  6.841100e-78\n",
      "12    0.60  100     0.001000  1.084111e-76\n",
      "13    0.65  100     0.001000  1.717992e-75\n",
      "14    0.70  100     0.001000  2.722506e-74\n",
      "15    0.75  100     0.001000  4.314361e-73\n",
      "16    0.80  100     0.001000  6.836977e-72\n",
      "17    0.85  100     0.001000  1.083457e-70\n",
      "18    0.90  100     0.001000  1.716957e-69\n",
      "19    0.95  100     0.001000  2.720865e-68\n",
      "20    1.00  100     0.001000  4.311761e-67\n",
      "21    1.05  100     0.001000  6.832857e-66\n",
      "22    1.10  100     0.001000  1.082804e-64\n",
      "23    1.15  100     0.001000  1.715922e-63\n",
      "24    1.20  100     0.001000  2.719226e-62\n",
      "25    1.25  100     0.001000  4.309163e-61\n",
      "26    1.30  100     0.001000  6.828740e-60\n",
      "27    1.35  100     0.001000  1.082152e-58\n",
      "28    1.40  100     0.001000  1.714888e-57\n",
      "29    1.45  100     0.001000  2.717587e-56\n",
      "...    ...  ...          ...           ...\n",
      "7864  0.85  690     0.000175  1.752349e-01\n",
      "7865  0.90  690     0.000262  2.616283e-01\n",
      "7866  0.95  690     0.000391  3.905678e-01\n",
      "7867  1.00  690     0.000583  5.830060e-01\n",
      "7868  1.05  690     0.000870  8.702142e-01\n",
      "7869  1.10  690     0.001299  1.298864e+00\n",
      "7870  1.15  690     0.001939  1.938610e+00\n",
      "7871  0.00  700     0.001000  0.000000e+00\n",
      "7872  0.05  700     0.001000  1.566676e-04\n",
      "7873  0.10  700     0.001000  3.891554e-04\n",
      "7874  0.15  700     0.001000  7.341572e-04\n",
      "7875  0.20  700     0.001000  1.246125e-03\n",
      "7876  0.25  700     0.001000  2.005862e-03\n",
      "7877  0.30  700     0.001000  3.133279e-03\n",
      "7878  0.35  700     0.001000  4.806317e-03\n",
      "7879  0.40  700     0.001000  7.289032e-03\n",
      "7880  0.45  700     0.001000  1.097327e-02\n",
      "7881  0.50  700     0.001000  1.644052e-02\n",
      "7882  0.55  700     0.001000  2.455368e-02\n",
      "7883  0.60  700     0.001000  3.659326e-02\n",
      "7884  0.65  700     0.001000  5.445946e-02\n",
      "7885  0.70  700     0.001000  8.097212e-02\n",
      "7886  0.75  700     0.000120  1.203158e-01\n",
      "7887  0.80  700     0.000179  1.787000e-01\n",
      "7888  0.85  700     0.000265  2.653396e-01\n",
      "7889  0.90  700     0.000394  3.939090e-01\n",
      "7890  0.95  700     0.000585  5.847005e-01\n",
      "7891  1.00  700     0.000868  8.678265e-01\n",
      "7892  1.05  700     0.001288  1.287973e+00\n",
      "7893  1.10  700     0.001911  1.911453e+00\n",
      "\n",
      "[7894 rows x 4 columns]\n"
     ]
    }
   ],
   "source": [
    "df = pd.read_excel('obs_data_w.xlsx', sheet_name=0) #sheet_name='Sheet1')\n",
    "print(df)"
   ]
  },
  {
   "cell_type": "markdown",
   "metadata": {},
   "source": [
    "## Train, cross validation and test data"
   ]
  },
  {
   "cell_type": "markdown",
   "metadata": {},
   "source": [
    "### Random Method 1: Sample function of df"
   ]
  },
  {
   "cell_type": "code",
   "execution_count": 8,
   "metadata": {
    "ExecuteTime": {
     "end_time": "2018-11-28T13:44:03.554236Z",
     "start_time": "2018-11-28T13:44:03.540832Z"
    }
   },
   "outputs": [
    {
     "name": "stdout",
     "output_type": "stream",
     "text": [
      "(1579, 4)\n"
     ]
    }
   ],
   "source": [
    "tcv=df.sample(frac=0.8) # random_state=200\n",
    "test=df.drop(tcv.index)\n",
    "test=test.sample(frac=1) # shuffle the rows\n",
    "\n",
    "print(test.shape)"
   ]
  },
  {
   "cell_type": "markdown",
   "metadata": {},
   "source": [
    "### Random Method 2: random array"
   ]
  },
  {
   "cell_type": "code",
   "execution_count": null,
   "metadata": {
    "ExecuteTime": {
     "end_time": "2018-11-27T11:41:20.627326Z",
     "start_time": "2018-11-27T11:41:20.621083Z"
    }
   },
   "outputs": [],
   "source": [
    "# idx=np.arange(0,len(df))\n",
    "# np.random.shuffle(idx)\n",
    "# temp_split=math.floor(0.8*len(df))\n",
    "# #idx[0:20]\n",
    "# train=df.iloc[idx[0:temp_split],:]\n",
    "# test=df.iloc[idx[temp_split:],:] # Output all the elements after temp_split\n",
    "# print(train.shape)\n",
    "# print(test.shape)"
   ]
  },
  {
   "cell_type": "markdown",
   "metadata": {},
   "source": [
    "## Split the data into data and results"
   ]
  },
  {
   "cell_type": "code",
   "execution_count": 9,
   "metadata": {
    "ExecuteTime": {
     "end_time": "2018-11-28T13:44:06.809252Z",
     "start_time": "2018-11-28T13:44:06.802615Z"
    }
   },
   "outputs": [],
   "source": [
    "test_data=test.loc[:,['V','T']]\n",
    "test_unc=test.uncertainty.values\n",
    "test_J=test.J.values\n",
    "\n",
    "# print(test_data)\n",
    "# J=J.tolist()"
   ]
  },
  {
   "cell_type": "markdown",
   "metadata": {},
   "source": [
    "## Add the polynominal features"
   ]
  },
  {
   "cell_type": "code",
   "execution_count": 10,
   "metadata": {
    "ExecuteTime": {
     "end_time": "2018-11-28T13:44:08.672497Z",
     "start_time": "2018-11-28T13:44:08.662049Z"
    },
    "code_folding": [],
    "scrolled": true
   },
   "outputs": [
    {
     "name": "stdout",
     "output_type": "stream",
     "text": [
      "The polynominal degree is 2.\n",
      "\n",
      "test data = \n",
      " [[2.5000e-01 1.1300e+02 6.2500e-02 2.8250e+01 1.2769e+04]\n",
      " [2.9500e+00 1.0300e+02 8.7025e+00 3.0385e+02 1.0609e+04]\n",
      " [1.9000e+00 1.8400e+02 3.6100e+00 3.4960e+02 3.3856e+04]\n",
      " ...\n",
      " [3.3000e+00 1.4900e+02 1.0890e+01 4.9170e+02 2.2201e+04]\n",
      " [2.9000e+00 1.6900e+02 8.4100e+00 4.9010e+02 2.8561e+04]\n",
      " [0.0000e+00 1.3000e+02 0.0000e+00 0.0000e+00 1.6900e+04]] \n",
      "\n"
     ]
    }
   ],
   "source": [
    "degree = 2\n",
    "print(f'The polynominal degree is {degree}.\\n')\n",
    "\n",
    "\n",
    "# test data\n",
    "test_data_poly = polyFeature(test_data, degree)\n",
    "print('test data = \\n', test_data_poly, '\\n')\n"
   ]
  },
  {
   "cell_type": "markdown",
   "metadata": {},
   "source": [
    "## Data Normalization (Two methods, range or stand deviation)  \n",
    "\n",
    "(__We should try both__)"
   ]
  },
  {
   "cell_type": "code",
   "execution_count": 11,
   "metadata": {
    "ExecuteTime": {
     "end_time": "2018-11-28T13:44:11.983232Z",
     "start_time": "2018-11-28T13:44:11.975201Z"
    }
   },
   "outputs": [
    {
     "name": "stdout",
     "output_type": "stream",
     "text": [
      "normalized test_data = \n",
      " [[ 1.         -1.39867327 -0.57614405 -1.02530894 -1.38122722 -0.39111011]\n",
      " [ 1.          1.21128154 -0.6592906   1.25359043  0.14721885 -0.41529809]\n",
      " [ 1.          0.19629911  0.01419652 -0.08961502  0.40094312 -0.154975  ]\n",
      " ...\n",
      " [ 1.          1.54960901 -0.27681643  1.83056871  1.18901346 -0.28548928]\n",
      " [ 1.          1.16294904 -0.11052331  1.17644019  1.18014004 -0.21426913]\n",
      " [ 1.         -1.64033575 -0.43479489 -1.04179404 -1.53789849 -0.34485061]] \n",
      "\n"
     ]
    }
   ],
   "source": [
    "# Normalization method\n",
    "method='std'\n",
    "\n",
    "# test data\n",
    "test_data_norm=normalizeFeature(test_data_poly, method)\n",
    "print('normalized test_data = \\n', test_data_norm, '\\n')\n",
    "\n",
    "# test the normalize method is right\n",
    "# t=test_data_poly[:,1]\n",
    "# print(t.ndim)\n",
    "# t_norm=normalizeFeature(t,'std')\n",
    "# print(t_norm)"
   ]
  },
  {
   "cell_type": "markdown",
   "metadata": {},
   "source": [
    "# Model Training"
   ]
  },
  {
   "cell_type": "markdown",
   "metadata": {},
   "source": [
    "## Method 1: Normal Equation"
   ]
  },
  {
   "cell_type": "markdown",
   "metadata": {
    "heading_collapsed": true
   },
   "source": [
    "### Training without regulation"
   ]
  },
  {
   "cell_type": "code",
   "execution_count": null,
   "metadata": {
    "ExecuteTime": {
     "end_time": "2018-11-27T09:15:51.695899Z",
     "start_time": "2018-11-27T09:15:51.682319Z"
    },
    "hidden": true,
    "scrolled": true
   },
   "outputs": [],
   "source": [
    "theta=normalEq(train_data_norm, train_J) \n",
    "print(f'theta = {theta}')\n",
    "error_train=computeCost(train_data_norm, train_J, theta)\n",
    "error_test=computeCost(test_data_norm, test_J, theta)\n",
    "\n",
    "print('The training error is ', error_train)\n",
    "print('The test error is ', error_test)\n",
    "\n",
    "# OTHER PRINT EXPRESSION WITH FORMAT\n",
    "# print('The training error is %.10f'%error)\n",
    "# print('error = {:.10f}'.format(error))\n",
    "# print(f'error = {error}')\n",
    "# print('error= ', error)"
   ]
  },
  {
   "cell_type": "markdown",
   "metadata": {},
   "source": [
    "### Training with regulation"
   ]
  },
  {
   "cell_type": "markdown",
   "metadata": {
    "heading_collapsed": true
   },
   "source": [
    "#### Multiprocess with process"
   ]
  },
  {
   "cell_type": "code",
   "execution_count": 30,
   "metadata": {
    "ExecuteTime": {
     "end_time": "2018-11-28T14:04:28.454315Z",
     "start_time": "2018-11-28T14:04:28.440502Z"
    },
    "hidden": true,
    "scrolled": false
   },
   "outputs": [],
   "source": [
    "featureSize=test_data_norm.shape[1]\n",
    "beta_range=np.geomspace(0.001,15, num = 100, endpoint = True, dtype=np.float64)\n",
    "beta_range=np.insert(beta_range,0,0) # insert a zero element in the first index\n",
    "theta_reg=np.zeros((beta_range.size, featureSize))\n",
    "error_train_reg=np.zeros(beta_range.size)\n",
    "error_cv_reg=np.zeros(beta_range.size)\n",
    "\n",
    "def train_model_loop(num, epoch):\n",
    "    # theta_reg_multismpl=np.zeros((epoch, featureSize))\n",
    "    error_train_reg_multismpl=np.zeros(epoch)\n",
    "    error_cv_reg_multismpl=np.zeros(epoch)\n",
    "    beta_array=np.zeros(num)\n",
    "\n",
    "    for i in range(0,num):\n",
    "        for index, beta in enumerate(beta_range):\n",
    "            prs=[]\n",
    "            for j in range(0,epoch,1):\n",
    "                pr = mp.Process(target=train_model_single, name=f'Process {i}-{index}-{j}', args=(i,j,beta, \n",
    "                                 error_train_reg_multismpl, error_cv_reg_multismpl))\n",
    "                prs.append(pr)\n",
    "            for pr in prs:\n",
    "                pr.daemon=True\n",
    "                pr.start()\n",
    "            for pr in prs:\n",
    "                pr.join()\n",
    "            print(error_train_reg_multismpl.sum(0))\n",
    "            error_train_reg[index] = error_train_reg_multismpl.sum(0)/epoch\n",
    "            error_cv_reg[index] = error_cv_reg_multismpl.sum(0)/epoch\n",
    "        idx=error_cv_reg.argmin()\n",
    "        beta_array[i] = beta_range[idx]\n",
    "    return beta_array\n",
    "\n",
    "def train_model_single(i, j, beta, error_train_reg_multismpl, error_cv_reg_multismpl):\n",
    "    print(f'{mp.current_process().name} is running...\\n')\n",
    "    # Split into train set and cv set\n",
    "    train=tcv.sample(frac=0.75, random_state = int((157*j+71*i)/3))\n",
    "    cv=tcv.drop(train.index)\n",
    "\n",
    "    train_data=train.loc[:,['V','T']]\n",
    "    train_unc=train.uncertainty.values\n",
    "    train_J=train.J.values\n",
    "\n",
    "    cv_data=cv.loc[:,['V','T']]\n",
    "    cv_unc=cv.uncertainty.values\n",
    "    cv_J=cv.J.values\n",
    "\n",
    "    # add polynominal features\n",
    "    train_data_poly = polyFeature(train_data, degree)\n",
    "    cv_data_poly = polyFeature(cv_data, degree)\n",
    "\n",
    "    # train data normalization\n",
    "    train_data_norm=normalizeFeature(train_data_poly, method)\n",
    "\n",
    "    # cross valiation data normalization\n",
    "    cv_data_norm=normalizeFeature(cv_data_poly, method)\n",
    "\n",
    "    theta_reg_multismpl=normalRegEq(train_data_norm, train_J, beta)\n",
    "    error_train_reg_multismpl[j]=computeCost(train_data_norm, train_J, theta_reg_multismpl)\n",
    "    error_cv_reg_multismpl[j]=computeCost(cv_data_norm, cv_J, theta_reg_multismpl)\n",
    "    \n",
    "    print(f'{mp.current_process().name} ended. \\n')\n"
   ]
  },
  {
   "cell_type": "markdown",
   "metadata": {},
   "source": [
    "#### Multiprocess with pool"
   ]
  },
  {
   "cell_type": "code",
   "execution_count": 77,
   "metadata": {
    "ExecuteTime": {
     "end_time": "2018-11-29T10:18:27.328897Z",
     "start_time": "2018-11-29T10:18:27.184107Z"
    }
   },
   "outputs": [],
   "source": [
    "featureSize=test_data_norm.shape[1]\n",
    "beta_range=np.geomspace(0.001,15, num = 100, endpoint = True, dtype=np.float64)\n",
    "beta_range=np.insert(beta_range,0,0) # insert a zero element in the first index\n",
    "theta_reg=np.zeros((beta_range.size, featureSize))\n",
    "error_train_reg=np.zeros(beta_range.size)\n",
    "error_cv_reg=np.zeros(beta_range.size)\n",
    "\n",
    "def train_model_loop(beta_num, epoch):\n",
    "    # theta_reg_multismpl=np.zeros((epoch, featureSize))\n",
    "    error_train_reg_multismpl=np.zeros(epoch)\n",
    "    error_cv_reg_multismpl=np.zeros(epoch)\n",
    "    beta_array=np.zeros(beta_num)\n",
    "\n",
    "    \n",
    "    for i in range(0,beta_num):\n",
    "        for index, beta in enumerate(beta_range):\n",
    "            pl=Pool(processes=4)\n",
    "            results=[]\n",
    "            for j in range(0,epoch,1):\n",
    "                results.append(pl.apply_async(train_model_single,(i,j,beta)))\n",
    "            pl.close()\n",
    "            pl.join()\n",
    "            for j, res in enumerate(results):\n",
    "#                 print(res.get())\n",
    "                error_train_reg_multismpl[j]=res.get()[0]\n",
    "                error_cv_reg_multismpl[j]=res.get()[1]\n",
    "            print('Sub-process(es) done.')\n",
    "            error_train_reg[index] = error_train_reg_multismpl.sum(0)/epoch\n",
    "            error_cv_reg[index] = error_cv_reg_multismpl.sum(0)/epoch\n",
    "        idx=error_cv_reg.argmin()\n",
    "        beta_array[i] = beta_range[idx]\n",
    "    return beta_array\n",
    "\n",
    "def train_model_single(i,j, beta):\n",
    "    print(f'{mp.current_process().name} is running...\\n')\n",
    "    # Split into train set and cv set\n",
    "    train=tcv.sample(frac=0.75, random_state = int((157*j+71*i)/3))\n",
    "    cv=tcv.drop(train.index)\n",
    "\n",
    "    train_data=train.loc[:,['V','T']]\n",
    "    train_unc=train.uncertainty.values\n",
    "    train_J=train.J.values\n",
    "\n",
    "    cv_data=cv.loc[:,['V','T']]\n",
    "    cv_unc=cv.uncertainty.values\n",
    "    cv_J=cv.J.values\n",
    "\n",
    "    # add polynominal features\n",
    "    train_data_poly = polyFeature(train_data, degree)\n",
    "    cv_data_poly = polyFeature(cv_data, degree)\n",
    "\n",
    "    # train data normalization\n",
    "    train_data_norm=normalizeFeature(train_data_poly, method)\n",
    "\n",
    "    # cross valiation data normalization\n",
    "    cv_data_norm=normalizeFeature(cv_data_poly, method)\n",
    "\n",
    "    theta_reg_multismpl=normalRegEq(train_data_norm, train_J, beta)\n",
    "    error_train_reg_multismpl_t=computeCost(train_data_norm, train_J, theta_reg_multismpl)\n",
    "    error_cv_reg_multismpl_t=computeCost(cv_data_norm, cv_J, theta_reg_multismpl)\n",
    "    \n",
    "    print(f'{mp.current_process().name} ended. \\n')\n",
    "    \n",
    "    return error_train_reg_multismpl_t, error_cv_reg_multismpl_t"
   ]
  },
  {
   "cell_type": "code",
   "execution_count": 78,
   "metadata": {
    "ExecuteTime": {
     "end_time": "2018-11-29T10:18:31.986910Z",
     "start_time": "2018-11-29T10:18:27.916062Z"
    }
   },
   "outputs": [
    {
     "name": "stdout",
     "output_type": "stream",
     "text": [
      "The number of CPU is:4\n",
      "ForkPoolWorker-8324 is running...\n",
      "ForkPoolWorker-8323 is running...\n",
      "ForkPoolWorker-8325 is running...\n",
      "ForkPoolWorker-8322 is running...\n",
      "\n",
      "\n",
      "\n",
      "\n",
      "ForkPoolWorker-8325 ended. \n",
      "\n",
      "ForkPoolWorker-8325 is running...\n",
      "\n",
      "ForkPoolWorker-8322 ended. \n",
      "ForkPoolWorker-8324 ended. \n",
      "ForkPoolWorker-8323 ended. \n",
      "\n",
      "\n",
      "\n",
      "ForkPoolWorker-8322 is running...\n",
      "ForkPoolWorker-8324 is running...\n",
      "ForkPoolWorker-8323 is running...\n",
      "\n",
      "\n",
      "ForkPoolWorker-8325 ended. \n",
      "\n",
      "\n",
      "ForkPoolWorker-8325 is running...\n",
      "\n",
      "ForkPoolWorker-8322 ended. \n",
      "\n",
      "ForkPoolWorker-8322 is running...\n",
      "\n",
      "ForkPoolWorker-8324 ended. \n",
      "ForkPoolWorker-8323 ended. \n",
      "\n",
      "\n",
      "ForkPoolWorker-8322 ended. \n",
      "\n",
      "ForkPoolWorker-8325 ended. \n",
      "\n",
      "Sub-process(es) done.\n",
      "ForkPoolWorker-8327 is running...\n",
      "ForkPoolWorker-8328 is running...\n",
      "ForkPoolWorker-8326 is running...\n",
      "ForkPoolWorker-8329 is running...\n",
      "\n",
      "\n",
      "\n",
      "\n",
      "ForkPoolWorker-8326 ended. \n",
      "\n",
      "ForkPoolWorker-8326 is running...\n",
      "ForkPoolWorker-8327 ended. \n",
      "ForkPoolWorker-8329 ended. \n",
      "\n",
      "\n",
      "ForkPoolWorker-8329 is running...\n",
      "ForkPoolWorker-8327 is running...\n",
      "\n",
      "\n",
      "\n",
      "ForkPoolWorker-8328 ended. \n",
      "\n",
      "ForkPoolWorker-8328 is running...\n",
      "\n",
      "ForkPoolWorker-8327 ended. \n",
      "\n",
      "ForkPoolWorker-8327 is running...\n",
      "ForkPoolWorker-8326 ended. \n",
      "\n",
      "\n",
      "ForkPoolWorker-8326 is running...\n",
      "ForkPoolWorker-8328 ended. \n",
      "\n",
      "\n",
      "ForkPoolWorker-8329 ended. \n",
      "\n",
      "ForkPoolWorker-8327 ended. \n",
      "ForkPoolWorker-8326 ended. \n",
      "\n",
      "\n",
      "Sub-process(es) done.\n",
      "ForkPoolWorker-8331 is running...\n",
      "ForkPoolWorker-8330 is running...\n",
      "ForkPoolWorker-8332 is running...\n",
      "\n",
      "\n",
      "\n",
      "ForkPoolWorker-8333 is running...\n",
      "\n",
      "ForkPoolWorker-8332 ended. \n",
      "ForkPoolWorker-8333 ended. \n",
      "\n",
      "\n",
      "ForkPoolWorker-8332 is running...\n",
      "\n",
      "ForkPoolWorker-8333 is running...\n",
      "\n",
      "ForkPoolWorker-8330 ended. \n",
      "\n",
      "ForkPoolWorker-8331 ended. \n",
      "ForkPoolWorker-8330 is running...\n",
      "\n",
      "\n",
      "ForkPoolWorker-8331 is running...\n",
      "\n",
      "ForkPoolWorker-8332 ended. \n",
      "\n",
      "ForkPoolWorker-8332 is running...\n",
      "\n",
      "ForkPoolWorker-8330 ended. \n",
      "ForkPoolWorker-8333 ended. \n",
      "\n",
      "ForkPoolWorker-8330 is running...\n",
      "\n",
      "\n",
      "ForkPoolWorker-8331 ended. \n",
      "\n",
      "ForkPoolWorker-8330 ended. \n",
      "\n",
      "ForkPoolWorker-8332 ended. \n",
      "\n",
      "Sub-process(es) done.\n",
      "ForkPoolWorker-8335 is running...\n",
      "ForkPoolWorker-8334 is running...\n",
      "ForkPoolWorker-8336 is running...\n",
      "\n",
      "\n",
      "\n",
      "ForkPoolWorker-8337 is running...\n",
      "\n",
      "ForkPoolWorker-8335 ended. \n",
      "ForkPoolWorker-8334 ended. \n",
      "\n",
      "\n",
      "\n",
      "ForkPoolWorker-8334 is running...\n",
      "ForkPoolWorker-8335 is running...\n",
      "ForkPoolWorker-8336 ended. \n",
      "\n",
      "\n",
      "ForkPoolWorker-8336 is running...\n",
      "ForkPoolWorker-8337 ended. \n",
      "\n",
      "\n",
      "ForkPoolWorker-8337 is running...\n",
      "\n",
      "ForkPoolWorker-8335 ended. \n",
      "ForkPoolWorker-8334 ended. \n",
      "\n",
      "\n",
      "ForkPoolWorker-8334 is running...\n",
      "ForkPoolWorker-8335 is running...\n",
      "\n",
      "\n",
      "ForkPoolWorker-8337 ended. \n",
      "\n",
      "ForkPoolWorker-8336 ended. \n",
      "\n",
      "ForkPoolWorker-8335 ended. \n",
      "\n",
      "ForkPoolWorker-8334 ended. \n",
      "\n",
      "Sub-process(es) done.\n",
      "ForkPoolWorker-8339 is running...\n",
      "ForkPoolWorker-8338 is running...\n",
      "ForkPoolWorker-8340 is running...\n",
      "\n",
      "\n",
      "\n",
      "ForkPoolWorker-8341 is running...\n",
      "\n",
      "ForkPoolWorker-8339 ended. \n",
      "\n",
      "ForkPoolWorker-8338 ended. \n",
      "ForkPoolWorker-8339 is running...\n",
      "\n",
      "\n",
      "ForkPoolWorker-8338 is running...\n",
      "\n",
      "ForkPoolWorker-8340 ended. \n",
      "ForkPoolWorker-8341 ended. \n",
      "\n",
      "\n",
      "ForkPoolWorker-8340 is running...\n",
      "ForkPoolWorker-8341 is running...\n",
      "\n",
      "\n",
      "ForkPoolWorker-8339 ended. \n",
      "\n",
      "ForkPoolWorker-8339 is running...\n",
      "\n",
      "ForkPoolWorker-8338 ended. \n",
      "\n",
      "ForkPoolWorker-8338 is running...\n",
      "ForkPoolWorker-8340 ended. \n",
      "\n",
      "\n",
      "ForkPoolWorker-8341 ended. \n",
      "\n",
      "ForkPoolWorker-8338 ended. \n",
      "\n",
      "ForkPoolWorker-8339 ended. \n",
      "\n",
      "Sub-process(es) done.\n",
      "ForkPoolWorker-8342 is running...\n",
      "ForkPoolWorker-8344 is running...\n",
      "\n",
      "\n",
      "ForkPoolWorker-8343 is running...\n",
      "\n",
      "ForkPoolWorker-8345 is running...\n",
      "\n",
      "ForkPoolWorker-8343 ended. \n",
      "ForkPoolWorker-8342 ended. \n",
      "\n",
      "ForkPoolWorker-8342 is running...\n",
      "\n",
      "\n",
      "ForkPoolWorker-8343 is running...\n",
      "ForkPoolWorker-8344 ended. \n",
      "\n",
      "\n",
      "ForkPoolWorker-8344 is running...\n",
      "ForkPoolWorker-8345 ended. \n",
      "\n",
      "\n",
      "ForkPoolWorker-8345 is running...\n",
      "\n",
      "ForkPoolWorker-8342 ended. \n",
      "\n",
      "ForkPoolWorker-8344 ended. \n",
      "ForkPoolWorker-8343 ended. \n",
      "\n",
      "ForkPoolWorker-8342 is running...\n",
      "\n",
      "\n",
      "ForkPoolWorker-8344 is running...\n",
      "\n",
      "ForkPoolWorker-8345 ended. \n",
      "\n",
      "ForkPoolWorker-8342 ended. \n",
      "\n",
      "ForkPoolWorker-8344 ended. \n",
      "\n",
      "Sub-process(es) done.\n",
      "ForkPoolWorker-8346 is running...\n",
      "ForkPoolWorker-8347 is running...\n",
      "ForkPoolWorker-8348 is running...\n",
      "\n",
      "\n",
      "\n",
      "ForkPoolWorker-8349 is running...\n",
      "\n",
      "ForkPoolWorker-8347 ended. \n",
      "\n",
      "ForkPoolWorker-8347 is running...\n",
      "\n",
      "ForkPoolWorker-8349 ended. \n",
      "\n",
      "ForkPoolWorker-8349 is running...\n",
      "ForkPoolWorker-8346 ended. \n",
      "\n",
      "\n",
      "ForkPoolWorker-8348 ended. \n",
      "ForkPoolWorker-8346 is running...\n",
      "\n",
      "\n",
      "ForkPoolWorker-8348 is running...\n",
      "\n",
      "ForkPoolWorker-8349 ended. \n",
      "\n",
      "ForkPoolWorker-8349 is running...\n",
      "ForkPoolWorker-8346 ended. \n",
      "ForkPoolWorker-8348 ended. \n",
      "\n",
      "ForkPoolWorker-8346 is running...\n",
      "\n",
      "ForkPoolWorker-8347 ended. \n",
      "\n",
      "\n",
      "\n",
      "ForkPoolWorker-8349 ended. \n",
      "\n",
      "ForkPoolWorker-8346 ended. \n",
      "\n",
      "Sub-process(es) done.\n",
      "ForkPoolWorker-8350 is running...\n",
      "ForkPoolWorker-8351 is running...\n",
      "\n",
      "ForkPoolWorker-8352 is running...\n",
      "\n",
      "\n",
      "ForkPoolWorker-8353 is running...\n",
      "\n",
      "ForkPoolWorker-8350 ended. \n",
      "\n",
      "ForkPoolWorker-8350 is running...\n",
      "ForkPoolWorker-8353 ended. \n",
      "\n",
      "\n",
      "ForkPoolWorker-8353 is running...\n",
      "\n",
      "ForkPoolWorker-8350 ended. \n",
      "\n",
      "ForkPoolWorker-8350 is running...\n",
      "ForkPoolWorker-8352 ended. \n",
      "ForkPoolWorker-8351 ended. \n",
      "\n",
      "\n",
      "\n",
      "ForkPoolWorker-8351 is running...\n",
      "\n",
      "ForkPoolWorker-8352 is running...\n",
      "\n",
      "ForkPoolWorker-8353 ended. \n",
      "ForkPoolWorker-8351 ended. \n",
      "\n",
      "\n",
      "ForkPoolWorker-8351 is running...\n",
      "\n",
      "ForkPoolWorker-8352 ended. \n",
      "\n",
      "ForkPoolWorker-8350 ended. \n",
      "\n",
      "ForkPoolWorker-8351 ended. \n",
      "\n",
      "Sub-process(es) done.\n",
      "ForkPoolWorker-8356 is running...\n",
      "ForkPoolWorker-8355 is running...\n",
      "ForkPoolWorker-8354 is running...\n",
      "\n",
      "\n",
      "\n",
      "ForkPoolWorker-8357 is running...\n",
      "\n"
     ]
    },
    {
     "name": "stderr",
     "output_type": "stream",
     "text": [
      "Process ForkPoolWorker-8357:\n",
      "Process ForkPoolWorker-8356:\n",
      "Traceback (most recent call last):\n",
      "Process ForkPoolWorker-8354:\n",
      "  File \"/Users/wandy/anaconda3/envs/NUSworkshop/lib/python3.6/multiprocessing/process.py\", line 258, in _bootstrap\n",
      "    self.run()\n",
      "Traceback (most recent call last):\n",
      "Process ForkPoolWorker-8355:\n",
      "  File \"/Users/wandy/anaconda3/envs/NUSworkshop/lib/python3.6/multiprocessing/process.py\", line 258, in _bootstrap\n",
      "    self.run()\n",
      "  File \"/Users/wandy/anaconda3/envs/NUSworkshop/lib/python3.6/multiprocessing/process.py\", line 93, in run\n",
      "    self._target(*self._args, **self._kwargs)\n",
      "  File \"/Users/wandy/anaconda3/envs/NUSworkshop/lib/python3.6/multiprocessing/process.py\", line 93, in run\n",
      "    self._target(*self._args, **self._kwargs)\n",
      "Traceback (most recent call last):\n",
      "  File \"/Users/wandy/anaconda3/envs/NUSworkshop/lib/python3.6/multiprocessing/pool.py\", line 119, in worker\n",
      "    result = (True, func(*args, **kwds))\n",
      "  File \"<ipython-input-77-a1b65d0118b2>\", line 58, in train_model_single\n",
      "    theta_reg_multismpl=normalRegEq(train_data_norm, train_J, beta)\n",
      "  File \"<ipython-input-6-285bdfb6f5b9>\", line 42, in normalRegEq\n",
      "    theta=np.linalg.inv(X.T@X+beta*L)@X.T@y\n",
      "Traceback (most recent call last):\n",
      "  File \"/Users/wandy/anaconda3/envs/NUSworkshop/lib/python3.6/multiprocessing/process.py\", line 258, in _bootstrap\n",
      "    self.run()\n",
      "  File \"/Users/wandy/anaconda3/envs/NUSworkshop/lib/python3.6/multiprocessing/pool.py\", line 119, in worker\n",
      "    result = (True, func(*args, **kwds))\n",
      "  File \"/Users/wandy/anaconda3/envs/NUSworkshop/lib/python3.6/multiprocessing/process.py\", line 258, in _bootstrap\n",
      "    self.run()\n",
      "  File \"/Users/wandy/anaconda3/envs/NUSworkshop/lib/python3.6/multiprocessing/process.py\", line 93, in run\n",
      "    self._target(*self._args, **self._kwargs)\n",
      "  File \"/Users/wandy/anaconda3/envs/NUSworkshop/lib/python3.6/multiprocessing/process.py\", line 93, in run\n",
      "    self._target(*self._args, **self._kwargs)\n",
      "  File \"<ipython-input-77-a1b65d0118b2>\", line 53, in train_model_single\n",
      "    train_data_norm=normalizeFeature(train_data_poly, method)\n",
      "  File \"/Users/wandy/anaconda3/envs/NUSworkshop/lib/python3.6/multiprocessing/pool.py\", line 119, in worker\n",
      "    result = (True, func(*args, **kwds))\n",
      "  File \"/Users/wandy/anaconda3/envs/NUSworkshop/lib/python3.6/multiprocessing/pool.py\", line 119, in worker\n",
      "    result = (True, func(*args, **kwds))\n",
      "  File \"<ipython-input-6-285bdfb6f5b9>\", line 18, in normalizeFeature\n",
      "    X_norm[:,1:]=(X-X.mean(0))/X.std(0)\n",
      "  File \"<ipython-input-77-a1b65d0118b2>\", line 53, in train_model_single\n",
      "    train_data_norm=normalizeFeature(train_data_poly, method)\n",
      "  File \"<ipython-input-77-a1b65d0118b2>\", line 58, in train_model_single\n",
      "    theta_reg_multismpl=normalRegEq(train_data_norm, train_J, beta)\n",
      "  File \"<ipython-input-6-285bdfb6f5b9>\", line 16, in normalizeFeature\n",
      "    X_norm=np.ones((X.shape[0],X.shape[1]+1), dtype=np.float64)\n",
      "  File \"/Users/wandy/anaconda3/envs/NUSworkshop/lib/python3.6/site-packages/numpy/core/_methods.py\", line 140, in _std\n",
      "    keepdims=keepdims)\n",
      "  File \"<ipython-input-6-285bdfb6f5b9>\", line 42, in normalRegEq\n",
      "    theta=np.linalg.inv(X.T@X+beta*L)@X.T@y\n",
      "  File \"/Users/wandy/anaconda3/envs/NUSworkshop/lib/python3.6/site-packages/numpy/core/numeric.py\", line 204, in ones\n",
      "    multiarray.copyto(a, 1, casting='unsafe')\n",
      "KeyboardInterrupt\n",
      "KeyboardInterrupt\n",
      "  File \"/Users/wandy/anaconda3/envs/NUSworkshop/lib/python3.6/site-packages/numpy/core/_methods.py\", line 117, in _var\n",
      "    x = asanyarray(arr - arrmean)\n",
      "KeyboardInterrupt\n",
      "  File \"/Users/wandy/anaconda3/envs/NUSworkshop/lib/python3.6/site-packages/numpy/linalg/linalg.py\", line 532, in inv\n",
      "    ainv = _umath_linalg.inv(a, signature=signature, extobj=extobj)\n",
      "KeyboardInterrupt\n"
     ]
    },
    {
     "name": "stdout",
     "output_type": "stream",
     "text": [
      "ForkPoolWorker-8365 is running...\n",
      "\n",
      "ForkPoolWorker-8366 is running...\n",
      "\n",
      "ForkPoolWorker-8365 ended. \n",
      "\n",
      "ForkPoolWorker-8365 is running...\n",
      "\n",
      "ForkPoolWorker-8367 is running...\n",
      "\n",
      "ForkPoolWorker-8368 is running...\n",
      "\n"
     ]
    },
    {
     "ename": "KeyboardInterrupt",
     "evalue": "",
     "output_type": "error",
     "traceback": [
      "\u001b[0;31m---------------------------------------------------------------------------\u001b[0m",
      "\u001b[0;31mKeyboardInterrupt\u001b[0m                         Traceback (most recent call last)",
      "\u001b[0;32m<ipython-input-78-ee6d81856133>\u001b[0m in \u001b[0;36m<module>\u001b[0;34m()\u001b[0m\n\u001b[1;32m      1\u001b[0m \u001b[0mt_start\u001b[0m\u001b[0;34m=\u001b[0m\u001b[0mtime\u001b[0m\u001b[0;34m.\u001b[0m\u001b[0mtime\u001b[0m\u001b[0;34m(\u001b[0m\u001b[0;34m)\u001b[0m\u001b[0;34m\u001b[0m\u001b[0m\n\u001b[1;32m      2\u001b[0m \u001b[0mprint\u001b[0m\u001b[0;34m(\u001b[0m\u001b[0;34m\"The number of CPU is:\"\u001b[0m \u001b[0;34m+\u001b[0m \u001b[0mstr\u001b[0m\u001b[0;34m(\u001b[0m\u001b[0mmp\u001b[0m\u001b[0;34m.\u001b[0m\u001b[0mcpu_count\u001b[0m\u001b[0;34m(\u001b[0m\u001b[0;34m)\u001b[0m\u001b[0;34m)\u001b[0m\u001b[0;34m)\u001b[0m\u001b[0;34m\u001b[0m\u001b[0m\n\u001b[0;32m----> 3\u001b[0;31m \u001b[0mbeta_array\u001b[0m\u001b[0;34m=\u001b[0m\u001b[0mtrain_model_loop\u001b[0m\u001b[0;34m(\u001b[0m\u001b[0;36m1\u001b[0m\u001b[0;34m,\u001b[0m \u001b[0;36m10\u001b[0m\u001b[0;34m)\u001b[0m\u001b[0;34m\u001b[0m\u001b[0m\n\u001b[0m\u001b[1;32m      4\u001b[0m \u001b[0mt_end\u001b[0m\u001b[0;34m=\u001b[0m\u001b[0mtime\u001b[0m\u001b[0;34m.\u001b[0m\u001b[0mtime\u001b[0m\u001b[0;34m(\u001b[0m\u001b[0;34m)\u001b[0m\u001b[0;34m\u001b[0m\u001b[0m\n\u001b[1;32m      5\u001b[0m \u001b[0mprint\u001b[0m\u001b[0;34m(\u001b[0m\u001b[0;34mf'The time cost is {t_end-t_start}s'\u001b[0m\u001b[0;34m)\u001b[0m\u001b[0;34m\u001b[0m\u001b[0m\n",
      "\u001b[0;32m<ipython-input-77-a1b65d0118b2>\u001b[0m in \u001b[0;36mtrain_model_loop\u001b[0;34m(beta_num, epoch)\u001b[0m\n\u001b[1;32m     20\u001b[0m                 \u001b[0mresults\u001b[0m\u001b[0;34m.\u001b[0m\u001b[0mappend\u001b[0m\u001b[0;34m(\u001b[0m\u001b[0mpl\u001b[0m\u001b[0;34m.\u001b[0m\u001b[0mapply_async\u001b[0m\u001b[0;34m(\u001b[0m\u001b[0mtrain_model_single\u001b[0m\u001b[0;34m,\u001b[0m\u001b[0;34m(\u001b[0m\u001b[0mi\u001b[0m\u001b[0;34m,\u001b[0m\u001b[0mj\u001b[0m\u001b[0;34m,\u001b[0m\u001b[0mbeta\u001b[0m\u001b[0;34m)\u001b[0m\u001b[0;34m)\u001b[0m\u001b[0;34m)\u001b[0m\u001b[0;34m\u001b[0m\u001b[0m\n\u001b[1;32m     21\u001b[0m             \u001b[0mpl\u001b[0m\u001b[0;34m.\u001b[0m\u001b[0mclose\u001b[0m\u001b[0;34m(\u001b[0m\u001b[0;34m)\u001b[0m\u001b[0;34m\u001b[0m\u001b[0m\n\u001b[0;32m---> 22\u001b[0;31m             \u001b[0mpl\u001b[0m\u001b[0;34m.\u001b[0m\u001b[0mjoin\u001b[0m\u001b[0;34m(\u001b[0m\u001b[0;34m)\u001b[0m\u001b[0;34m\u001b[0m\u001b[0m\n\u001b[0m\u001b[1;32m     23\u001b[0m             \u001b[0;32mfor\u001b[0m \u001b[0mj\u001b[0m\u001b[0;34m,\u001b[0m \u001b[0mres\u001b[0m \u001b[0;32min\u001b[0m \u001b[0menumerate\u001b[0m\u001b[0;34m(\u001b[0m\u001b[0mresults\u001b[0m\u001b[0;34m)\u001b[0m\u001b[0;34m:\u001b[0m\u001b[0;34m\u001b[0m\u001b[0m\n\u001b[1;32m     24\u001b[0m \u001b[0;31m#                 print(res.get())\u001b[0m\u001b[0;34m\u001b[0m\u001b[0;34m\u001b[0m\u001b[0m\n",
      "\u001b[0;32m~/anaconda3/envs/NUSworkshop/lib/python3.6/multiprocessing/pool.py\u001b[0m in \u001b[0;36mjoin\u001b[0;34m(self)\u001b[0m\n\u001b[1;32m    544\u001b[0m         \u001b[0mutil\u001b[0m\u001b[0;34m.\u001b[0m\u001b[0mdebug\u001b[0m\u001b[0;34m(\u001b[0m\u001b[0;34m'joining pool'\u001b[0m\u001b[0;34m)\u001b[0m\u001b[0;34m\u001b[0m\u001b[0m\n\u001b[1;32m    545\u001b[0m         \u001b[0;32massert\u001b[0m \u001b[0mself\u001b[0m\u001b[0;34m.\u001b[0m\u001b[0m_state\u001b[0m \u001b[0;32min\u001b[0m \u001b[0;34m(\u001b[0m\u001b[0mCLOSE\u001b[0m\u001b[0;34m,\u001b[0m \u001b[0mTERMINATE\u001b[0m\u001b[0;34m)\u001b[0m\u001b[0;34m\u001b[0m\u001b[0m\n\u001b[0;32m--> 546\u001b[0;31m         \u001b[0mself\u001b[0m\u001b[0;34m.\u001b[0m\u001b[0m_worker_handler\u001b[0m\u001b[0;34m.\u001b[0m\u001b[0mjoin\u001b[0m\u001b[0;34m(\u001b[0m\u001b[0;34m)\u001b[0m\u001b[0;34m\u001b[0m\u001b[0m\n\u001b[0m\u001b[1;32m    547\u001b[0m         \u001b[0mself\u001b[0m\u001b[0;34m.\u001b[0m\u001b[0m_task_handler\u001b[0m\u001b[0;34m.\u001b[0m\u001b[0mjoin\u001b[0m\u001b[0;34m(\u001b[0m\u001b[0;34m)\u001b[0m\u001b[0;34m\u001b[0m\u001b[0m\n\u001b[1;32m    548\u001b[0m         \u001b[0mself\u001b[0m\u001b[0;34m.\u001b[0m\u001b[0m_result_handler\u001b[0m\u001b[0;34m.\u001b[0m\u001b[0mjoin\u001b[0m\u001b[0;34m(\u001b[0m\u001b[0;34m)\u001b[0m\u001b[0;34m\u001b[0m\u001b[0m\n",
      "\u001b[0;32m~/anaconda3/envs/NUSworkshop/lib/python3.6/threading.py\u001b[0m in \u001b[0;36mjoin\u001b[0;34m(self, timeout)\u001b[0m\n\u001b[1;32m   1054\u001b[0m \u001b[0;34m\u001b[0m\u001b[0m\n\u001b[1;32m   1055\u001b[0m         \u001b[0;32mif\u001b[0m \u001b[0mtimeout\u001b[0m \u001b[0;32mis\u001b[0m \u001b[0;32mNone\u001b[0m\u001b[0;34m:\u001b[0m\u001b[0;34m\u001b[0m\u001b[0m\n\u001b[0;32m-> 1056\u001b[0;31m             \u001b[0mself\u001b[0m\u001b[0;34m.\u001b[0m\u001b[0m_wait_for_tstate_lock\u001b[0m\u001b[0;34m(\u001b[0m\u001b[0;34m)\u001b[0m\u001b[0;34m\u001b[0m\u001b[0m\n\u001b[0m\u001b[1;32m   1057\u001b[0m         \u001b[0;32melse\u001b[0m\u001b[0;34m:\u001b[0m\u001b[0;34m\u001b[0m\u001b[0m\n\u001b[1;32m   1058\u001b[0m             \u001b[0;31m# the behavior of a negative timeout isn't documented, but\u001b[0m\u001b[0;34m\u001b[0m\u001b[0;34m\u001b[0m\u001b[0m\n",
      "\u001b[0;32m~/anaconda3/envs/NUSworkshop/lib/python3.6/threading.py\u001b[0m in \u001b[0;36m_wait_for_tstate_lock\u001b[0;34m(self, block, timeout)\u001b[0m\n\u001b[1;32m   1070\u001b[0m         \u001b[0;32mif\u001b[0m \u001b[0mlock\u001b[0m \u001b[0;32mis\u001b[0m \u001b[0;32mNone\u001b[0m\u001b[0;34m:\u001b[0m  \u001b[0;31m# already determined that the C code is done\u001b[0m\u001b[0;34m\u001b[0m\u001b[0m\n\u001b[1;32m   1071\u001b[0m             \u001b[0;32massert\u001b[0m \u001b[0mself\u001b[0m\u001b[0;34m.\u001b[0m\u001b[0m_is_stopped\u001b[0m\u001b[0;34m\u001b[0m\u001b[0m\n\u001b[0;32m-> 1072\u001b[0;31m         \u001b[0;32melif\u001b[0m \u001b[0mlock\u001b[0m\u001b[0;34m.\u001b[0m\u001b[0macquire\u001b[0m\u001b[0;34m(\u001b[0m\u001b[0mblock\u001b[0m\u001b[0;34m,\u001b[0m \u001b[0mtimeout\u001b[0m\u001b[0;34m)\u001b[0m\u001b[0;34m:\u001b[0m\u001b[0;34m\u001b[0m\u001b[0m\n\u001b[0m\u001b[1;32m   1073\u001b[0m             \u001b[0mlock\u001b[0m\u001b[0;34m.\u001b[0m\u001b[0mrelease\u001b[0m\u001b[0;34m(\u001b[0m\u001b[0;34m)\u001b[0m\u001b[0;34m\u001b[0m\u001b[0m\n\u001b[1;32m   1074\u001b[0m             \u001b[0mself\u001b[0m\u001b[0;34m.\u001b[0m\u001b[0m_stop\u001b[0m\u001b[0;34m(\u001b[0m\u001b[0;34m)\u001b[0m\u001b[0;34m\u001b[0m\u001b[0m\n",
      "\u001b[0;31mKeyboardInterrupt\u001b[0m: "
     ]
    },
    {
     "name": "stdout",
     "output_type": "stream",
     "text": [
      "ForkPoolWorker-8367 ended. \n",
      "\n",
      "ForkPoolWorker-8367 is running...\n",
      "\n",
      "ForkPoolWorker-8366 ended. \n",
      "\n",
      "ForkPoolWorker-8368 ended. \n",
      "\n",
      "ForkPoolWorker-8367 ended. \n",
      "\n",
      "ForkPoolWorker-8365 ended. \n",
      "\n"
     ]
    }
   ],
   "source": [
    "t_start=time.time()\n",
    "print(\"The number of CPU is:\" + str(mp.cpu_count()))\n",
    "beta_array=train_model_loop(1, 10)\n",
    "t_end=time.time()\n",
    "print(f'The time cost is {t_end-t_start}s')\n",
    "\n",
    "# plot error vs. beta\n",
    "plt.figure()\n",
    "plt.semilogx(beta_range, error_train_reg, label = 'Train error')\n",
    "plt.semilogx(beta_range, error_cv_reg, label = 'Val error')\n",
    "plt.xlabel('regulization coefficient (beta)')\n",
    "plt.ylabel('error')\n",
    "plt.legend()\n",
    "\n",
    "# print(error_cv_reg_multismpl.shape)\n",
    "print(beta_array)\n",
    "idx=error_cv_reg.argmin()\n",
    "beta_best = beta_range[idx]\n",
    "theta_best = theta_reg[idx]\n",
    "error_test_reg=computeCost(test_data_norm, test_J, theta_best)\n",
    "\n",
    "# print('The best value of THETA is ', theta_best)\n",
    "print('The best value of BETA is ', beta_best)\n",
    "# print('The test error with best THETA and BETA is ', error_test_reg)"
   ]
  },
  {
   "cell_type": "markdown",
   "metadata": {},
   "source": [
    "# Prediction"
   ]
  },
  {
   "cell_type": "code",
   "execution_count": 59,
   "metadata": {
    "ExecuteTime": {
     "end_time": "2018-11-28T17:17:51.333621Z",
     "start_time": "2018-11-28T17:17:51.294425Z"
    }
   },
   "outputs": [
    {
     "ename": "NameError",
     "evalue": "name 'r' is not defined",
     "output_type": "error",
     "traceback": [
      "\u001b[0;31m---------------------------------------------------------------------------\u001b[0m",
      "\u001b[0;31mNameError\u001b[0m                                 Traceback (most recent call last)",
      "\u001b[0;32m<ipython-input-59-c6b8a6a9416b>\u001b[0m in \u001b[0;36m<module>\u001b[0;34m()\u001b[0m\n\u001b[0;32m----> 1\u001b[0;31m \u001b[0mprint\u001b[0m\u001b[0;34m(\u001b[0m\u001b[0mr\u001b[0m\u001b[0;34m)\u001b[0m\u001b[0;34m\u001b[0m\u001b[0m\n\u001b[0m",
      "\u001b[0;31mNameError\u001b[0m: name 'r' is not defined"
     ]
    }
   ],
   "source": [
    "print(r)"
   ]
  },
  {
   "cell_type": "code",
   "execution_count": null,
   "metadata": {},
   "outputs": [],
   "source": [
    "t=data(test_data)"
   ]
  },
  {
   "cell_type": "code",
   "execution_count": 24,
   "metadata": {
    "ExecuteTime": {
     "end_time": "2018-11-28T13:58:42.367030Z",
     "start_time": "2018-11-28T13:58:42.345068Z"
    }
   },
   "outputs": [
    {
     "name": "stdout",
     "output_type": "stream",
     "text": [
      "[0. 0. 0. 0. 0. 0. 0. 0. 0. 0. 0. 0. 0. 0. 0. 0. 0. 0. 0. 0. 0. 0. 0. 0.\n",
      " 0. 0. 0. 0. 0. 0. 0. 0. 0. 0. 0. 0. 0. 0. 0. 0. 0. 0. 0. 0. 0. 0. 0. 0.\n",
      " 0. 0. 0. 0. 0. 0. 0. 0. 0. 0. 0. 0. 0. 0. 0. 0. 0. 0. 0. 0. 0. 0. 0. 0.\n",
      " 0. 0. 0. 0. 0. 0. 0. 0. 0. 0. 0. 0. 0. 0. 0. 0. 0. 0. 0. 0. 0. 0. 0. 0.\n",
      " 0. 0. 0. 0. 0.]\n"
     ]
    },
    {
     "ename": "NameError",
     "evalue": "name 'error_cv_reg_multismpl' is not defined",
     "output_type": "error",
     "traceback": [
      "\u001b[0;31m---------------------------------------------------------------------------\u001b[0m",
      "\u001b[0;31mNameError\u001b[0m                                 Traceback (most recent call last)",
      "\u001b[0;32m<ipython-input-24-194f2a4a44c9>\u001b[0m in \u001b[0;36m<module>\u001b[0;34m()\u001b[0m\n\u001b[1;32m      1\u001b[0m \u001b[0mprint\u001b[0m\u001b[0;34m(\u001b[0m\u001b[0merror_train_reg\u001b[0m\u001b[0;34m)\u001b[0m\u001b[0;34m\u001b[0m\u001b[0m\n\u001b[0;32m----> 2\u001b[0;31m \u001b[0mprint\u001b[0m\u001b[0;34m(\u001b[0m\u001b[0merror_cv_reg_multismpl\u001b[0m\u001b[0;34m)\u001b[0m\u001b[0;34m\u001b[0m\u001b[0m\n\u001b[0m\u001b[1;32m      3\u001b[0m \u001b[0mlen\u001b[0m\u001b[0;34m(\u001b[0m\u001b[0merror_train_reg\u001b[0m\u001b[0;34m)\u001b[0m\u001b[0;34m\u001b[0m\u001b[0m\n",
      "\u001b[0;31mNameError\u001b[0m: name 'error_cv_reg_multismpl' is not defined"
     ]
    }
   ],
   "source": [
    "print(error_train_reg)\n",
    "print(error_cv_reg_multismpl)\n",
    "len(error_train_reg)"
   ]
  },
  {
   "cell_type": "code",
   "execution_count": null,
   "metadata": {},
   "outputs": [],
   "source": [
    "t.polyFeature(2)\n",
    "t.array.shape"
   ]
  },
  {
   "cell_type": "code",
   "execution_count": null,
   "metadata": {
    "ExecuteTime": {
     "end_time": "2018-11-27T14:50:27.631624Z",
     "start_time": "2018-11-27T14:50:27.626641Z"
    }
   },
   "outputs": [],
   "source": [
    "x=1"
   ]
  },
  {
   "cell_type": "code",
   "execution_count": null,
   "metadata": {
    "ExecuteTime": {
     "end_time": "2018-11-27T14:53:53.264020Z",
     "start_time": "2018-11-27T14:53:53.241212Z"
    }
   },
   "outputs": [],
   "source": []
  },
  {
   "cell_type": "code",
   "execution_count": null,
   "metadata": {},
   "outputs": [],
   "source": []
  }
 ],
 "metadata": {
  "kernelspec": {
   "display_name": "Python [conda env:NUSworkshop]",
   "language": "python",
   "name": "conda-env-NUSworkshop-py"
  },
  "language_info": {
   "codemirror_mode": {
    "name": "ipython",
    "version": 3
   },
   "file_extension": ".py",
   "mimetype": "text/x-python",
   "name": "python",
   "nbconvert_exporter": "python",
   "pygments_lexer": "ipython3",
   "version": "3.6.6"
  },
  "latex_envs": {
   "LaTeX_envs_menu_present": true,
   "autoclose": false,
   "autocomplete": true,
   "bibliofile": "biblio.bib",
   "cite_by": "apalike",
   "current_citInitial": 1,
   "eqLabelWithNumbers": true,
   "eqNumInitial": 1,
   "hotkeys": {
    "equation": "Ctrl-E",
    "itemize": "Ctrl-I"
   },
   "labels_anchors": false,
   "latex_user_defs": false,
   "report_style_numbering": false,
   "user_envs_cfg": false
  },
  "varInspector": {
   "cols": {
    "lenName": 16,
    "lenType": 16,
    "lenVar": 40
   },
   "kernels_config": {
    "python": {
     "delete_cmd_postfix": "",
     "delete_cmd_prefix": "del ",
     "library": "var_list.py",
     "varRefreshCmd": "print(var_dic_list())"
    },
    "r": {
     "delete_cmd_postfix": ") ",
     "delete_cmd_prefix": "rm(",
     "library": "var_list.r",
     "varRefreshCmd": "cat(var_dic_list()) "
    }
   },
   "oldHeight": 501,
   "position": {
    "height": "40px",
    "left": "783px",
    "right": "13px",
    "top": "120px",
    "width": "644px"
   },
   "types_to_exclude": [
    "module",
    "function",
    "builtin_function_or_method",
    "instance",
    "_Feature"
   ],
   "varInspector_section_display": "none",
   "window_display": true
  }
 },
 "nbformat": 4,
 "nbformat_minor": 2
}
